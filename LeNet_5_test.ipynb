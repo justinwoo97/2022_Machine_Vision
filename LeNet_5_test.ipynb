{
  "cells": [
    {
      "cell_type": "code",
      "execution_count": null,
      "metadata": {
        "id": "cH8ZE_BW7xqc"
      },
      "outputs": [],
      "source": [
        "import tensorflow as tf\n",
        "import matplotlib.pyplot as plt\n",
        "from tensorflow.keras import datasets, layers, models, losses"
      ]
    },
    {
      "cell_type": "code",
      "execution_count": null,
      "metadata": {
        "colab": {
          "base_uri": "https://localhost:8080/"
        },
        "id": "a7HDRM0k71r8",
        "outputId": "d45b6e93-6b72-4cb8-975b-0025b54a6579"
      },
      "outputs": [
        {
          "output_type": "stream",
          "name": "stdout",
          "text": [
            "Downloading data from https://storage.googleapis.com/tensorflow/tf-keras-datasets/mnist.npz\n",
            "11490434/11490434 [==============================] - 0s 0us/step\n"
          ]
        },
        {
          "output_type": "execute_result",
          "data": {
            "text/plain": [
              "(60000, 28, 28)"
            ]
          },
          "metadata": {},
          "execution_count": 2
        }
      ],
      "source": [
        "(x_train,y_train),(x_test,y_test) = datasets.mnist.load_data()\n",
        "x_train.shape"
      ]
    },
    {
      "cell_type": "code",
      "execution_count": null,
      "metadata": {
        "id": "-PklewU-74PH",
        "colab": {
          "base_uri": "https://localhost:8080/"
        },
        "outputId": "6fcf9bd6-0d11-4722-9e1b-14fc9fed7dc9"
      },
      "outputs": [
        {
          "output_type": "execute_result",
          "data": {
            "text/plain": [
              "TensorShape([60000, 32, 32])"
            ]
          },
          "metadata": {},
          "execution_count": 3
        }
      ],
      "source": [
        "x_train = tf.pad(x_train, [[0, 0], [2,2], [2,2]])/255\n",
        "x_test = tf.pad(x_test, [[0, 0], [2,2], [2,2]])/255\n",
        "x_train.shape"
      ]
    },
    {
      "cell_type": "code",
      "source": [
        "x_train = tf.expand_dims(x_train, axis=3, name=None)\n",
        "x_test = tf.expand_dims(x_test, axis=3, name=None)\n",
        "x_train.shape"
      ],
      "metadata": {
        "colab": {
          "base_uri": "https://localhost:8080/"
        },
        "id": "W-n_WF7L8PZt",
        "outputId": "8731ffcb-dd57-47d2-d553-2242214b0738"
      },
      "execution_count": null,
      "outputs": [
        {
          "output_type": "execute_result",
          "data": {
            "text/plain": [
              "TensorShape([60000, 32, 32, 1])"
            ]
          },
          "metadata": {},
          "execution_count": 4
        }
      ]
    },
    {
      "cell_type": "code",
      "source": [
        "x_val = x_train[-2000:,:,:,:] \n",
        "y_val = y_train[-2000:] \n",
        "x_train = x_train[:-2000,:,:,:] \n",
        "y_train = y_train[:-2000]"
      ],
      "metadata": {
        "id": "kT5Kbkfl8PiP"
      },
      "execution_count": null,
      "outputs": []
    },
    {
      "cell_type": "code",
      "source": [
        "# base model\n",
        "model = models.Sequential()\n",
        "model.add(layers.Conv2D(6, 5, activation='tanh', input_shape=x_train.shape[1:]))\n",
        "model.add(layers.AveragePooling2D(2))\n",
        "model.add(layers.Activation('sigmoid'))\n",
        "model.add(layers.Conv2D(16, 5, activation='tanh'))\n",
        "model.add(layers.AveragePooling2D(2))\n",
        "model.add(layers.Activation('sigmoid'))\n",
        "model.add(layers.Conv2D(120, 5, activation='tanh'))\n",
        "model.add(layers.Flatten())\n",
        "model.add(layers.Dense(84, activation='tanh'))\n",
        "model.add(layers.Dense(10, activation='softmax'))\n",
        "# model.summary()"
      ],
      "metadata": {
        "id": "yDYB2LcR8PkX"
      },
      "execution_count": null,
      "outputs": []
    },
    {
      "cell_type": "code",
      "source": [
        "# base model accuracy\n",
        "model.compile(optimizer='adam', loss=losses.sparse_categorical_crossentropy, metrics=['accuracy'])\n",
        "history_base = model.fit(x_train, y_train, batch_size=64, epochs=5, validation_data=(x_val, y_val))"
      ],
      "metadata": {
        "colab": {
          "base_uri": "https://localhost:8080/"
        },
        "id": "bT3ojZMg8PmM",
        "outputId": "60b85633-83a3-4708-a295-947ac0f72302"
      },
      "execution_count": null,
      "outputs": [
        {
          "output_type": "stream",
          "name": "stdout",
          "text": [
            "Epoch 1/5\n",
            "907/907 [==============================] - 31s 33ms/step - loss: 1.3326 - accuracy: 0.5190 - val_loss: 0.2899 - val_accuracy: 0.9260\n",
            "Epoch 2/5\n",
            "907/907 [==============================] - 21s 23ms/step - loss: 0.3357 - accuracy: 0.8936 - val_loss: 0.1858 - val_accuracy: 0.9505\n",
            "Epoch 3/5\n",
            "907/907 [==============================] - 20s 22ms/step - loss: 0.2623 - accuracy: 0.9158 - val_loss: 0.1506 - val_accuracy: 0.9580\n",
            "Epoch 4/5\n",
            "907/907 [==============================] - 21s 23ms/step - loss: 0.2177 - accuracy: 0.9308 - val_loss: 0.1459 - val_accuracy: 0.9610\n",
            "Epoch 5/5\n",
            "907/907 [==============================] - 22s 24ms/step - loss: 0.1958 - accuracy: 0.9371 - val_loss: 0.1066 - val_accuracy: 0.9760\n"
          ]
        }
      ]
    },
    {
      "cell_type": "code",
      "source": [
        "# Test baseline accuracy\n",
        "import tempfile\n",
        "\n",
        "_, baseline_model_accuracy = model.evaluate(x_test,y_test, verbose=0)\n",
        "\n",
        "print('Baseline test accuracy:', baseline_model_accuracy)\n"
      ],
      "metadata": {
        "id": "zsce210CHduF",
        "colab": {
          "base_uri": "https://localhost:8080/"
        },
        "outputId": "9c1d20a4-da4f-4e74-c8e1-547f9c513aa4"
      },
      "execution_count": null,
      "outputs": [
        {
          "output_type": "stream",
          "name": "stdout",
          "text": [
            "Baseline test accuracy: 0.9498000144958496\n"
          ]
        }
      ]
    },
    {
      "cell_type": "code",
      "source": [
        "# base model saved location\n",
        "_, keras_file = tempfile.mkstemp('.h5')\n",
        "print('Saving model to: ', keras_file)\n",
        "tf.keras.models.save_model(model, keras_file, include_optimizer=False)"
      ],
      "metadata": {
        "colab": {
          "base_uri": "https://localhost:8080/"
        },
        "id": "F2lQ8w0xW-vw",
        "outputId": "71541983-1cad-4409-883c-12ce897059d2"
      },
      "execution_count": null,
      "outputs": [
        {
          "output_type": "stream",
          "name": "stdout",
          "text": [
            "Saving model to:  /tmp/tmp_qoqff7i.h5\n"
          ]
        }
      ]
    },
    {
      "cell_type": "code",
      "source": [
        "###############################\n",
        "########### PRUNING ###########\n",
        "###############################"
      ],
      "metadata": {
        "id": "KbFQNPXaHn0U"
      },
      "execution_count": null,
      "outputs": []
    },
    {
      "cell_type": "code",
      "source": [
        "pip install tensorflow-model-optimization"
      ],
      "metadata": {
        "colab": {
          "base_uri": "https://localhost:8080/"
        },
        "id": "c4FQzpMcD2U8",
        "outputId": "f2522782-616d-4f7b-b896-97ffa98be096"
      },
      "execution_count": null,
      "outputs": [
        {
          "output_type": "stream",
          "name": "stdout",
          "text": [
            "Looking in indexes: https://pypi.org/simple, https://us-python.pkg.dev/colab-wheels/public/simple/\n",
            "Collecting tensorflow-model-optimization\n",
            "  Downloading tensorflow_model_optimization-0.7.3-py2.py3-none-any.whl (238 kB)\n",
            "\u001b[K     |████████████████████████████████| 238 kB 6.8 MB/s \n",
            "\u001b[?25hRequirement already satisfied: dm-tree~=0.1.1 in /usr/local/lib/python3.7/dist-packages (from tensorflow-model-optimization) (0.1.7)\n",
            "Requirement already satisfied: numpy~=1.14 in /usr/local/lib/python3.7/dist-packages (from tensorflow-model-optimization) (1.21.6)\n",
            "Requirement already satisfied: six~=1.10 in /usr/local/lib/python3.7/dist-packages (from tensorflow-model-optimization) (1.15.0)\n",
            "Installing collected packages: tensorflow-model-optimization\n",
            "Successfully installed tensorflow-model-optimization-0.7.3\n"
          ]
        }
      ]
    },
    {
      "cell_type": "code",
      "source": [
        "## Prunning the entire dataset\n",
        "\n",
        "import tensorflow_model_optimization as tfmot\n",
        "import numpy as np\n",
        "\n",
        "prune_low_magnitude = tfmot.sparsity.keras.prune_low_magnitude\n",
        "\n",
        "# batch_size & epochs stay the same as the baseline model\n",
        "batch_size = 64\n",
        "epochs = 5\n",
        "\n",
        "\n",
        "# Define model for pruning.\n",
        "# For the pruning schedule, we start at the sparsity level 50% \n",
        "# and gradually train the model to reach 90% sparsity. \n",
        "# 90% of the weight tensor is going to be pruned away.\n",
        "\n",
        "x = 0.2\n",
        "sparsity = []\n",
        "acc = []\n",
        "while x <= 0.9:\n",
        "  print(\"current x is: \",x)\n",
        "  sparsity.append(x)\n",
        "  pruning_params = {\n",
        "      'pruning_schedule': tfmot.sparsity.keras.ConstantSparsity(x, begin_step=0, frequency=100)\n",
        "  }\n",
        "  callbacks = [\n",
        "      tfmot.sparsity.keras.UpdatePruningStep()\n",
        "    ]\n",
        "\n",
        "  model_for_pruning = prune_low_magnitude(model, **pruning_params)\n",
        "\n",
        "  # `prune_low_magnitude` requires a recompile.\n",
        "  model_for_pruning.compile(optimizer='adam',\n",
        "                            loss=tf.keras.losses.SparseCategoricalCrossentropy(from_logits=True),\n",
        "                            metrics=['accuracy'])\n",
        "\n",
        "  history_pruned = model_for_pruning.fit(x_train,y_train,\n",
        "                      batch_size=batch_size, epochs=epochs, validation_data=(x_val, y_val),\n",
        "                      callbacks=callbacks)\n",
        "    \n",
        "  _, model_for_pruning_accuracy = model_for_pruning.evaluate(x_train,y_train, verbose=0)\n",
        "\n",
        "  print(\"current x is: \",x, \"and model acc is: \",model_for_pruning_accuracy)\n",
        "  acc.append(model_for_pruning_accuracy)\n",
        "  print(\"sparsity: \", sparsity)\n",
        "  print(\"accuracy list: \", acc)\n",
        "  x += 0.1\n",
        "\n",
        "# model_for_pruning.summary()"
      ],
      "metadata": {
        "id": "5TjUZxOvZO0c",
        "colab": {
          "base_uri": "https://localhost:8080/"
        },
        "outputId": "43c47da2-8ea5-4e30-abe9-f0c7925782c2"
      },
      "execution_count": null,
      "outputs": [
        {
          "output_type": "stream",
          "name": "stdout",
          "text": [
            "current x is:  0.2\n",
            "Epoch 1/5\n"
          ]
        },
        {
          "output_type": "stream",
          "name": "stderr",
          "text": [
            "/usr/local/lib/python3.7/dist-packages/tensorflow/python/util/dispatch.py:1082: UserWarning: \"`sparse_categorical_crossentropy` received `from_logits=True`, but the `output` argument was produced by a sigmoid or softmax activation and thus does not represent logits. Was this intended?\"\n",
            "  return dispatch_target(*args, **kwargs)\n"
          ]
        },
        {
          "output_type": "stream",
          "name": "stdout",
          "text": [
            "907/907 [==============================] - 35s 36ms/step - loss: 0.1708 - accuracy: 0.9456 - val_loss: 0.1041 - val_accuracy: 0.9705\n",
            "Epoch 2/5\n",
            "907/907 [==============================] - 21s 23ms/step - loss: 0.1554 - accuracy: 0.9508 - val_loss: 0.1043 - val_accuracy: 0.9720\n",
            "Epoch 3/5\n",
            "907/907 [==============================] - 22s 24ms/step - loss: 0.1446 - accuracy: 0.9536 - val_loss: 0.1051 - val_accuracy: 0.9700\n",
            "Epoch 4/5\n",
            "907/907 [==============================] - 22s 25ms/step - loss: 0.1333 - accuracy: 0.9581 - val_loss: 0.0890 - val_accuracy: 0.9775\n",
            "Epoch 5/5\n",
            "907/907 [==============================] - 23s 25ms/step - loss: 0.1255 - accuracy: 0.9600 - val_loss: 0.0834 - val_accuracy: 0.9790\n",
            "current x is:  0.2 and model acc is:  0.9628275632858276\n",
            "sparsity:  [0.2]\n",
            "accuracy list:  [0.9628275632858276]\n",
            "current x is:  0.30000000000000004\n",
            "Epoch 1/5\n",
            "907/907 [==============================] - 25s 25ms/step - loss: 0.1161 - accuracy: 0.9632 - val_loss: 0.0835 - val_accuracy: 0.9780\n",
            "Epoch 2/5\n",
            "907/907 [==============================] - 22s 24ms/step - loss: 0.1105 - accuracy: 0.9641 - val_loss: 0.0726 - val_accuracy: 0.9810\n",
            "Epoch 3/5\n",
            "907/907 [==============================] - 22s 24ms/step - loss: 0.1049 - accuracy: 0.9666 - val_loss: 0.0817 - val_accuracy: 0.9790\n",
            "Epoch 4/5\n",
            "907/907 [==============================] - 21s 24ms/step - loss: 0.1011 - accuracy: 0.9675 - val_loss: 0.0645 - val_accuracy: 0.9875\n",
            "Epoch 5/5\n",
            "907/907 [==============================] - 23s 25ms/step - loss: 0.0965 - accuracy: 0.9689 - val_loss: 0.0897 - val_accuracy: 0.9765\n",
            "current x is:  0.30000000000000004 and model acc is:  0.9632586240768433\n",
            "sparsity:  [0.2, 0.30000000000000004]\n",
            "accuracy list:  [0.9628275632858276, 0.9632586240768433]\n",
            "current x is:  0.4\n",
            "Epoch 1/5\n",
            "907/907 [==============================] - 25s 26ms/step - loss: 0.0921 - accuracy: 0.9710 - val_loss: 0.0697 - val_accuracy: 0.9840\n",
            "Epoch 2/5\n",
            "907/907 [==============================] - 22s 24ms/step - loss: 0.0859 - accuracy: 0.9722 - val_loss: 0.0626 - val_accuracy: 0.9835\n",
            "Epoch 3/5\n",
            "907/907 [==============================] - 23s 25ms/step - loss: 0.0837 - accuracy: 0.9725 - val_loss: 0.0699 - val_accuracy: 0.9820\n",
            "Epoch 4/5\n",
            "907/907 [==============================] - 22s 24ms/step - loss: 0.0800 - accuracy: 0.9736 - val_loss: 0.0697 - val_accuracy: 0.9800\n",
            "Epoch 5/5\n",
            "907/907 [==============================] - 23s 25ms/step - loss: 0.0792 - accuracy: 0.9742 - val_loss: 0.0729 - val_accuracy: 0.9820\n",
            "current x is:  0.4 and model acc is:  0.9733275771141052\n",
            "sparsity:  [0.2, 0.30000000000000004, 0.4]\n",
            "accuracy list:  [0.9628275632858276, 0.9632586240768433, 0.9733275771141052]\n",
            "current x is:  0.5\n",
            "Epoch 1/5\n",
            "907/907 [==============================] - 23s 24ms/step - loss: 0.0755 - accuracy: 0.9758 - val_loss: 0.0685 - val_accuracy: 0.9825\n",
            "Epoch 2/5\n",
            "907/907 [==============================] - 23s 25ms/step - loss: 0.0710 - accuracy: 0.9775 - val_loss: 0.0638 - val_accuracy: 0.9855\n",
            "Epoch 3/5\n",
            "907/907 [==============================] - 22s 24ms/step - loss: 0.0684 - accuracy: 0.9782 - val_loss: 0.0768 - val_accuracy: 0.9820\n",
            "Epoch 4/5\n",
            "907/907 [==============================] - 21s 23ms/step - loss: 0.0675 - accuracy: 0.9781 - val_loss: 0.0894 - val_accuracy: 0.9780\n",
            "Epoch 5/5\n",
            "907/907 [==============================] - 22s 24ms/step - loss: 0.0652 - accuracy: 0.9793 - val_loss: 0.0748 - val_accuracy: 0.9835\n",
            "current x is:  0.5 and model acc is:  0.9762758612632751\n",
            "sparsity:  [0.2, 0.30000000000000004, 0.4, 0.5]\n",
            "accuracy list:  [0.9628275632858276, 0.9632586240768433, 0.9733275771141052, 0.9762758612632751]\n",
            "current x is:  0.6\n",
            "Epoch 1/5\n",
            "907/907 [==============================] - 22s 22ms/step - loss: 0.0675 - accuracy: 0.9785 - val_loss: 0.0697 - val_accuracy: 0.9810\n",
            "Epoch 2/5\n",
            "907/907 [==============================] - 21s 23ms/step - loss: 0.0618 - accuracy: 0.9801 - val_loss: 0.0667 - val_accuracy: 0.9845\n",
            "Epoch 3/5\n",
            "907/907 [==============================] - 21s 23ms/step - loss: 0.0605 - accuracy: 0.9801 - val_loss: 0.0617 - val_accuracy: 0.9860\n",
            "Epoch 4/5\n",
            "907/907 [==============================] - 22s 24ms/step - loss: 0.0585 - accuracy: 0.9811 - val_loss: 0.0765 - val_accuracy: 0.9805\n",
            "Epoch 5/5\n",
            "907/907 [==============================] - 21s 23ms/step - loss: 0.0566 - accuracy: 0.9817 - val_loss: 0.0650 - val_accuracy: 0.9820\n",
            "current x is:  0.6 and model acc is:  0.9841896295547485\n",
            "sparsity:  [0.2, 0.30000000000000004, 0.4, 0.5, 0.6]\n",
            "accuracy list:  [0.9628275632858276, 0.9632586240768433, 0.9733275771141052, 0.9762758612632751, 0.9841896295547485]\n",
            "current x is:  0.7\n",
            "Epoch 1/5\n",
            "907/907 [==============================] - 22s 23ms/step - loss: 0.0669 - accuracy: 0.9790 - val_loss: 0.0693 - val_accuracy: 0.9830\n",
            "Epoch 2/5\n",
            "907/907 [==============================] - 21s 23ms/step - loss: 0.0585 - accuracy: 0.9813 - val_loss: 0.0608 - val_accuracy: 0.9845\n",
            "Epoch 3/5\n",
            "907/907 [==============================] - 20s 22ms/step - loss: 0.0562 - accuracy: 0.9821 - val_loss: 0.0581 - val_accuracy: 0.9865\n",
            "Epoch 4/5\n",
            "907/907 [==============================] - 21s 23ms/step - loss: 0.0522 - accuracy: 0.9831 - val_loss: 0.0702 - val_accuracy: 0.9835\n",
            "Epoch 5/5\n",
            "907/907 [==============================] - 20s 22ms/step - loss: 0.0521 - accuracy: 0.9834 - val_loss: 0.0685 - val_accuracy: 0.9840\n",
            "current x is:  0.7 and model acc is:  0.982672393321991\n",
            "sparsity:  [0.2, 0.30000000000000004, 0.4, 0.5, 0.6, 0.7]\n",
            "accuracy list:  [0.9628275632858276, 0.9632586240768433, 0.9733275771141052, 0.9762758612632751, 0.9841896295547485, 0.982672393321991]\n",
            "current x is:  0.7999999999999999\n",
            "Epoch 1/5\n",
            "907/907 [==============================] - 23s 24ms/step - loss: 0.1004 - accuracy: 0.9707 - val_loss: 0.0697 - val_accuracy: 0.9855\n",
            "Epoch 2/5\n",
            "907/907 [==============================] - 21s 23ms/step - loss: 0.0666 - accuracy: 0.9801 - val_loss: 0.0613 - val_accuracy: 0.9870\n",
            "Epoch 3/5\n",
            "907/907 [==============================] - 20s 22ms/step - loss: 0.0618 - accuracy: 0.9810 - val_loss: 0.0637 - val_accuracy: 0.9880\n",
            "Epoch 4/5\n",
            "907/907 [==============================] - 21s 23ms/step - loss: 0.0584 - accuracy: 0.9818 - val_loss: 0.0587 - val_accuracy: 0.9840\n",
            "Epoch 5/5\n",
            "907/907 [==============================] - 20s 22ms/step - loss: 0.0549 - accuracy: 0.9831 - val_loss: 0.0637 - val_accuracy: 0.9860\n",
            "current x is:  0.7999999999999999 and model acc is:  0.9830689430236816\n",
            "sparsity:  [0.2, 0.30000000000000004, 0.4, 0.5, 0.6, 0.7, 0.7999999999999999]\n",
            "accuracy list:  [0.9628275632858276, 0.9632586240768433, 0.9733275771141052, 0.9762758612632751, 0.9841896295547485, 0.982672393321991, 0.9830689430236816]\n",
            "current x is:  0.8999999999999999\n",
            "Epoch 1/5\n",
            "907/907 [==============================] - 23s 23ms/step - loss: 0.3598 - accuracy: 0.9011 - val_loss: 0.1305 - val_accuracy: 0.9695\n",
            "Epoch 2/5\n",
            "907/907 [==============================] - 21s 23ms/step - loss: 0.1493 - accuracy: 0.9589 - val_loss: 0.0956 - val_accuracy: 0.9790\n",
            "Epoch 3/5\n",
            "907/907 [==============================] - 21s 23ms/step - loss: 0.1173 - accuracy: 0.9659 - val_loss: 0.0819 - val_accuracy: 0.9810\n",
            "Epoch 4/5\n",
            "907/907 [==============================] - 20s 22ms/step - loss: 0.1031 - accuracy: 0.9687 - val_loss: 0.0851 - val_accuracy: 0.9800\n",
            "Epoch 5/5\n",
            "907/907 [==============================] - 21s 23ms/step - loss: 0.0953 - accuracy: 0.9715 - val_loss: 0.0773 - val_accuracy: 0.9840\n",
            "current x is:  0.8999999999999999 and model acc is:  0.9738620519638062\n",
            "sparsity:  [0.2, 0.30000000000000004, 0.4, 0.5, 0.6, 0.7, 0.7999999999999999, 0.8999999999999999]\n",
            "accuracy list:  [0.9628275632858276, 0.9632586240768433, 0.9733275771141052, 0.9762758612632751, 0.9841896295547485, 0.982672393321991, 0.9830689430236816, 0.9738620519638062]\n"
          ]
        }
      ]
    },
    {
      "cell_type": "code",
      "source": [
        "sparsity = [round(x, 2) for x in sparsity]\n",
        "sparsity"
      ],
      "metadata": {
        "colab": {
          "base_uri": "https://localhost:8080/"
        },
        "id": "xO65-xSKut59",
        "outputId": "e5d9396e-0d81-4e85-c376-cb2e49751a3f"
      },
      "execution_count": null,
      "outputs": [
        {
          "output_type": "execute_result",
          "data": {
            "text/plain": [
              "[0.2, 0.3, 0.4, 0.5, 0.6, 0.7, 0.8, 0.9]"
            ]
          },
          "metadata": {},
          "execution_count": 14
        }
      ]
    },
    {
      "cell_type": "code",
      "source": [
        "acc"
      ],
      "metadata": {
        "colab": {
          "base_uri": "https://localhost:8080/"
        },
        "id": "1RQ_VgnPuwv0",
        "outputId": "6b9f1416-3dbd-42c1-cf6a-a19322cdd005"
      },
      "execution_count": null,
      "outputs": [
        {
          "output_type": "execute_result",
          "data": {
            "text/plain": [
              "[0.9628275632858276,\n",
              " 0.9632586240768433,\n",
              " 0.9733275771141052,\n",
              " 0.9762758612632751,\n",
              " 0.9841896295547485,\n",
              " 0.982672393321991,\n",
              " 0.9830689430236816,\n",
              " 0.9738620519638062]"
            ]
          },
          "metadata": {},
          "execution_count": 15
        }
      ]
    },
    {
      "cell_type": "code",
      "source": [
        "# # fit the pruned model\n",
        "\n",
        "# logdir = tempfile.mkdtemp()\n",
        "\n",
        "# callbacks = [\n",
        "#   tfmot.sparsity.keras.UpdatePruningStep(),\n",
        "#   tfmot.sparsity.keras.PruningSummaries(log_dir=logdir),\n",
        "# ]\n",
        "\n",
        "# history_pruned = model_for_pruning.fit(x_train,y_train,\n",
        "#                   batch_size=batch_size, epochs=epochs, validation_split=validation_split,\n",
        "#                   callbacks=callbacks)"
      ],
      "metadata": {
        "id": "7d-X3PqEE_25"
      },
      "execution_count": null,
      "outputs": []
    },
    {
      "cell_type": "code",
      "source": [
        "# Test out pruned model accuracy\n",
        "# _, model_for_pruning_accuracy = model_for_pruning.evaluate(\n",
        "#    x_train,y_train, verbose=0)"
      ],
      "metadata": {
        "id": "sTkfl80b2o-m"
      },
      "execution_count": null,
      "outputs": []
    },
    {
      "cell_type": "code",
      "source": [
        "# compare results\n",
        "print('Baseline test accuracy:', baseline_model_accuracy) \n",
        "print('Pruned test accuracy:', model_for_pruning_accuracy)"
      ],
      "metadata": {
        "colab": {
          "base_uri": "https://localhost:8080/"
        },
        "id": "cy5TXkXi3GP4",
        "outputId": "7c550f08-cefe-4b18-8ebf-7555a4abca01"
      },
      "execution_count": null,
      "outputs": [
        {
          "output_type": "stream",
          "name": "stdout",
          "text": [
            "Baseline test accuracy: 0.9498000144958496\n",
            "Pruned test accuracy: 0.9738620519638062\n"
          ]
        }
      ]
    },
    {
      "cell_type": "code",
      "source": [
        "# Once our pre-trained model achieved desirable accuracy\n",
        "# we save the model trained model and make it “prunable”\n",
        "# _, keras_file = tempfile.mkstemp('.h5')\n",
        "# tf.keras.models.save_model(model_for_pruning, keras_file, include_optimizer=False)\n",
        "# print('Saved baseline model to:', keras_file)"
      ],
      "metadata": {
        "id": "6CCXJzyLSTvd"
      },
      "execution_count": null,
      "outputs": []
    },
    {
      "cell_type": "code",
      "source": [
        "compression_ratio = [1/x for x in sparsity]\n",
        "compression_ratio"
      ],
      "metadata": {
        "colab": {
          "base_uri": "https://localhost:8080/"
        },
        "id": "ILkolML0DH5Q",
        "outputId": "9372ffa5-6579-4c66-d38b-477b551a383b"
      },
      "execution_count": null,
      "outputs": [
        {
          "output_type": "execute_result",
          "data": {
            "text/plain": [
              "[5.0,\n",
              " 3.3333333333333335,\n",
              " 2.5,\n",
              " 2.0,\n",
              " 1.6666666666666667,\n",
              " 1.4285714285714286,\n",
              " 1.25,\n",
              " 1.1111111111111112]"
            ]
          },
          "metadata": {},
          "execution_count": 20
        }
      ]
    },
    {
      "cell_type": "code",
      "source": [
        "acc"
      ],
      "metadata": {
        "colab": {
          "base_uri": "https://localhost:8080/"
        },
        "id": "DfUOmFwRHqFg",
        "outputId": "d63937c6-45dc-4d29-9810-a8257302b67d"
      },
      "execution_count": null,
      "outputs": [
        {
          "output_type": "execute_result",
          "data": {
            "text/plain": [
              "[0.9628275632858276,\n",
              " 0.9632586240768433,\n",
              " 0.9733275771141052,\n",
              " 0.9762758612632751,\n",
              " 0.9841896295547485,\n",
              " 0.982672393321991,\n",
              " 0.9830689430236816,\n",
              " 0.9738620519638062]"
            ]
          },
          "metadata": {},
          "execution_count": 21
        }
      ]
    },
    {
      "cell_type": "code",
      "source": [
        "# pruned model saved\n",
        "_, pruned_keras_file = tempfile.mkstemp('.h5')\n",
        "print('Saving model to: ', pruned_keras_file)\n",
        "tf.keras.models.save_model(model_for_pruning, pruned_keras_file, include_optimizer=False)"
      ],
      "metadata": {
        "colab": {
          "base_uri": "https://localhost:8080/"
        },
        "id": "lAPakfQNktBP",
        "outputId": "8e80ce85-a79f-4b5f-e6af-47864e9d3529"
      },
      "execution_count": null,
      "outputs": [
        {
          "output_type": "stream",
          "name": "stdout",
          "text": [
            "Saving model to:  /tmp/tmpclc6o366.h5\n"
          ]
        }
      ]
    },
    {
      "cell_type": "code",
      "source": [
        "###############################\n",
        "###### PRUNING RESULT #########\n",
        "###############################"
      ],
      "metadata": {
        "id": "ouYSl9PxkTbn"
      },
      "execution_count": null,
      "outputs": []
    },
    {
      "cell_type": "code",
      "source": [
        "# compression ratio vs accuracy graph\n",
        "import matplotlib.pyplot as plt\n",
        "\n",
        "fig, ax = plt.subplots()\n",
        "# plt.scatter(compression_rat, acc)\n",
        "ax.plot(compression_ratio, acc, linewidth=2.0)\n",
        "plt.xlabel('Compresion Ratio')\n",
        "plt.ylabel('Accuracy')\n",
        "plt.title('Compresion Ratio VS Accuracy')\n",
        "plt.show()"
      ],
      "metadata": {
        "colab": {
          "base_uri": "https://localhost:8080/",
          "height": 295
        },
        "id": "l4WKeq4Z9jgn",
        "outputId": "a073cf76-de52-43c9-db6f-7653079d85a5"
      },
      "execution_count": null,
      "outputs": [
        {
          "output_type": "display_data",
          "data": {
            "text/plain": [
              "<Figure size 432x288 with 1 Axes>"
            ],
            "image/png": "[encoded data removed]"
          },
          "metadata": {
            "needs_background": "light"
          }
        }
      ]
    },
    {
      "cell_type": "code",
      "source": [
        "# accuracy results\n",
        "print('Baseline test accuracy:', baseline_model_accuracy) \n",
        "print('Pruned test accuracy (90% pruned rate):', model_for_pruning_accuracy)"
      ],
      "metadata": {
        "colab": {
          "base_uri": "https://localhost:8080/"
        },
        "id": "TaXou0THFM68",
        "outputId": "bb5783cf-432e-42a7-d398-dcefaa764b7b"
      },
      "execution_count": null,
      "outputs": [
        {
          "output_type": "stream",
          "name": "stdout",
          "text": [
            "Baseline test accuracy: 0.9498000144958496\n",
            "Pruned test accuracy (90% pruned rate): 0.9738620519638062\n"
          ]
        }
      ]
    },
    {
      "cell_type": "code",
      "source": [
        "# pruned model summary\n",
        "# model_for_pruning.summary()"
      ],
      "metadata": {
        "id": "1kkGkxKBIhxQ"
      },
      "execution_count": null,
      "outputs": []
    },
    {
      "cell_type": "code",
      "source": [
        "# base model summary\n",
        "# model.summary()"
      ],
      "metadata": {
        "id": "aBpM7UF9Kzog"
      },
      "execution_count": null,
      "outputs": []
    },
    {
      "cell_type": "code",
      "source": [
        "# helper function to get model size\n",
        "def get_gzipped_model_size(file):\n",
        "  # Returns size of gzipped model, in bytes.\n",
        "  import os\n",
        "  import zipfile\n",
        "\n",
        "  _, zipped_file = tempfile.mkstemp('.zip')\n",
        "  with zipfile.ZipFile(zipped_file, 'w', compression=zipfile.ZIP_DEFLATED) as f:\n",
        "    f.write(file)\n",
        "\n",
        "  return os.path.getsize(zipped_file)"
      ],
      "metadata": {
        "id": "H1Fm186si2le"
      },
      "execution_count": null,
      "outputs": []
    },
    {
      "cell_type": "code",
      "source": [
        "# compare model size\n",
        "print(\"Size of gzipped baseline Keras model: %.2f bytes\" % (get_gzipped_model_size(keras_file)))\n",
        "print(\"Size of gzipped pruned Keras model: %.2f bytes\" % (get_gzipped_model_size(pruned_keras_file)))"
      ],
      "metadata": {
        "colab": {
          "base_uri": "https://localhost:8080/"
        },
        "id": "pSF_b1K2klTA",
        "outputId": "cd0202fb-d48f-4c8b-e509-99c3bc6cb2c3"
      },
      "execution_count": null,
      "outputs": [
        {
          "output_type": "stream",
          "name": "stdout",
          "text": [
            "Size of gzipped baseline Keras model: 233687.00 bytes\n",
            "Size of gzipped pruned Keras model: 60611.00 bytes\n"
          ]
        }
      ]
    },
    {
      "cell_type": "code",
      "source": [
        "# confusion matrix for based model\n",
        "from sklearn.metrics import confusion_matrix\n",
        "import numpy as np\n",
        "test_predictions = model.predict(x_test)\n",
        "confusion = confusion_matrix(y_test, np.argmax(test_predictions,axis=1))\n",
        "confusion"
      ],
      "metadata": {
        "colab": {
          "base_uri": "https://localhost:8080/"
        },
        "id": "lo8-Oz4ystSc",
        "outputId": "7dae0fd3-8807-49f5-e734-e6e264d9c5eb"
      },
      "execution_count": null,
      "outputs": [
        {
          "output_type": "stream",
          "name": "stdout",
          "text": [
            "313/313 [==============================] - 2s 6ms/step\n"
          ]
        },
        {
          "output_type": "execute_result",
          "data": {
            "text/plain": [
              "array([[ 970,    0,    1,    0,    0,    0,    4,    1,    4,    0],\n",
              "       [   0, 1115,    3,    5,    0,    0,    2,    2,    7,    1],\n",
              "       [   4,    1, 1009,    2,    3,    0,    0,   11,    2,    0],\n",
              "       [   0,    0,    6,  991,    0,    3,    0,    7,    2,    1],\n",
              "       [   1,    0,    4,    2,  959,    0,    1,    1,    1,   13],\n",
              "       [   5,    0,    0,   18,    0,  852,    6,    1,    6,    4],\n",
              "       [   6,    2,    2,    0,    1,    5,  940,    0,    2,    0],\n",
              "       [   2,    1,   12,    7,    1,    2,    0,  991,    1,   11],\n",
              "       [   4,    0,    4,    8,    2,    4,    1,    7,  938,    6],\n",
              "       [   4,    3,    1,   11,    8,    4,    0,    4,   10,  964]])"
            ]
          },
          "metadata": {},
          "execution_count": 33
        }
      ]
    },
    {
      "cell_type": "code",
      "source": [
        "# confusion matrix for pruned model\n",
        "p_test_predictions = model_for_pruning.predict(x_test)\n",
        "p_confusion = confusion_matrix(y_test, np.argmax(p_test_predictions,axis=1))\n",
        "p_confusion"
      ],
      "metadata": {
        "colab": {
          "base_uri": "https://localhost:8080/"
        },
        "id": "GeAi6GZ6pm6i",
        "outputId": "ff13b97f-d26d-4d4d-af6b-c526f6646731"
      },
      "execution_count": null,
      "outputs": [
        {
          "output_type": "stream",
          "name": "stdout",
          "text": [
            "313/313 [==============================] - 2s 6ms/step\n"
          ]
        },
        {
          "output_type": "execute_result",
          "data": {
            "text/plain": [
              "array([[ 970,    0,    1,    0,    0,    0,    4,    1,    4,    0],\n",
              "       [   0, 1115,    3,    5,    0,    0,    2,    2,    7,    1],\n",
              "       [   4,    1, 1009,    2,    3,    0,    0,   11,    2,    0],\n",
              "       [   0,    0,    6,  991,    0,    3,    0,    7,    2,    1],\n",
              "       [   1,    0,    4,    2,  959,    0,    1,    1,    1,   13],\n",
              "       [   5,    0,    0,   18,    0,  852,    6,    1,    6,    4],\n",
              "       [   6,    2,    2,    0,    1,    5,  940,    0,    2,    0],\n",
              "       [   2,    1,   12,    7,    1,    2,    0,  991,    1,   11],\n",
              "       [   4,    0,    4,    8,    2,    4,    1,    7,  938,    6],\n",
              "       [   4,    3,    1,   11,    8,    4,    0,    4,   10,  964]])"
            ]
          },
          "metadata": {},
          "execution_count": 32
        }
      ]
    },
    {
      "cell_type": "code",
      "source": [
        "###############################\n",
        "######## Quantization #########\n",
        "###############################"
      ],
      "metadata": {
        "id": "v5yiAke-NVhG"
      },
      "execution_count": null,
      "outputs": []
    },
    {
      "cell_type": "code",
      "source": [
        "## Quantization \n",
        "import tensorflow_model_optimization as tfmot\n",
        "\n",
        "model_quant = tfmot.quantization.keras.quantize_model(model)\n",
        "model_quant.compile(optimizer='adam', loss=losses.sparse_categorical_crossentropy, metrics=['accuracy'])\n",
        "model_quant.summary()\n"
      ],
      "metadata": {
        "colab": {
          "base_uri": "https://localhost:8080/"
        },
        "id": "quDmyFES3QkO",
        "outputId": "60750e4a-1f77-4c6f-ec2c-2d0e4647bea7"
      },
      "execution_count": null,
      "outputs": [
        {
          "output_type": "stream",
          "name": "stdout",
          "text": [
            "Model: \"sequential\"\n",
            "_________________________________________________________________\n",
            " Layer (type)                Output Shape              Param #   \n",
            "=================================================================\n",
            " quantize_layer (QuantizeLay  (None, 32, 32, 1)        3         \n",
            " er)                                                             \n",
            "                                                                 \n",
            " quant_conv2d (QuantizeWrapp  (None, 28, 28, 6)        171       \n",
            " erV2)                                                           \n",
            "                                                                 \n",
            " quant_average_pooling2d (Qu  (None, 14, 14, 6)        3         \n",
            " antizeWrapperV2)                                                \n",
            "                                                                 \n",
            " quant_activation (QuantizeW  (None, 14, 14, 6)        1         \n",
            " rapperV2)                                                       \n",
            "                                                                 \n",
            " quant_conv2d_1 (QuantizeWra  (None, 10, 10, 16)       2451      \n",
            " pperV2)                                                         \n",
            "                                                                 \n",
            " quant_average_pooling2d_1 (  (None, 5, 5, 16)         3         \n",
            " QuantizeWrapperV2)                                              \n",
            "                                                                 \n",
            " quant_activation_1 (Quantiz  (None, 5, 5, 16)         1         \n",
            " eWrapperV2)                                                     \n",
            "                                                                 \n",
            " quant_conv2d_2 (QuantizeWra  (None, 1, 1, 120)        48363     \n",
            " pperV2)                                                         \n",
            "                                                                 \n",
            " quant_flatten (QuantizeWrap  (None, 120)              1         \n",
            " perV2)                                                          \n",
            "                                                                 \n",
            " quant_dense (QuantizeWrappe  (None, 84)               10169     \n",
            " rV2)                                                            \n",
            "                                                                 \n",
            " quant_dense_1 (QuantizeWrap  (None, 10)               855       \n",
            " perV2)                                                          \n",
            "                                                                 \n",
            "=================================================================\n",
            "Total params: 62,021\n",
            "Trainable params: 61,706\n",
            "Non-trainable params: 315\n",
            "_________________________________________________________________\n"
          ]
        }
      ]
    },
    {
      "cell_type": "code",
      "source": [
        "model_quant.fit(x_train, y_train, batch_size=64, epochs=5, validation_data=(x_val, y_val))"
      ],
      "metadata": {
        "colab": {
          "base_uri": "https://localhost:8080/"
        },
        "id": "8qrVIH4-cts5",
        "outputId": "9c097992-c8e6-4474-9129-c1ec0d3e1372"
      },
      "execution_count": null,
      "outputs": [
        {
          "output_type": "stream",
          "name": "stdout",
          "text": [
            "Epoch 1/5\n",
            "907/907 [==============================] - 30s 32ms/step - loss: 0.1392 - accuracy: 0.9562 - val_loss: 0.0735 - val_accuracy: 0.9825\n",
            "Epoch 2/5\n",
            "907/907 [==============================] - 25s 27ms/step - loss: 0.1148 - accuracy: 0.9635 - val_loss: 0.0887 - val_accuracy: 0.9790\n",
            "Epoch 3/5\n",
            "907/907 [==============================] - 26s 28ms/step - loss: 0.1100 - accuracy: 0.9655 - val_loss: 0.0820 - val_accuracy: 0.9785\n",
            "Epoch 4/5\n",
            "907/907 [==============================] - 25s 27ms/step - loss: 0.1018 - accuracy: 0.9684 - val_loss: 0.0660 - val_accuracy: 0.9855\n",
            "Epoch 5/5\n",
            "907/907 [==============================] - 25s 27ms/step - loss: 0.0973 - accuracy: 0.9689 - val_loss: 0.0740 - val_accuracy: 0.9855\n"
          ]
        },
        {
          "output_type": "execute_result",
          "data": {
            "text/plain": [
              "<keras.callbacks.History at 0x7f13283f2c90>"
            ]
          },
          "metadata": {},
          "execution_count": 35
        }
      ]
    },
    {
      "cell_type": "code",
      "source": [
        "# quant model saved\n",
        "converter = tf.lite.TFLiteConverter.from_keras_model(model_quant)\n",
        "quant_tflite_model = converter.convert()\n",
        "\n",
        "_, quant_tflite_file = tempfile.mkstemp('.h5')\n",
        "\n",
        "with open(quant_tflite_file, 'wb') as f:\n",
        "  f.write(quant_tflite_model)\n",
        "\n",
        "print('Saved pruned TFLite model to:', quant_tflite_file)\n"
      ],
      "metadata": {
        "colab": {
          "base_uri": "https://localhost:8080/"
        },
        "id": "6MnrqkLuEAyM",
        "outputId": "0b77ae6d-9f59-4794-ba1e-4a82a95fd865"
      },
      "execution_count": null,
      "outputs": [
        {
          "output_type": "stream",
          "name": "stderr",
          "text": [
            "WARNING:absl:Found untraced functions such as conv2d_layer_call_fn, conv2d_layer_call_and_return_conditional_losses, _jit_compiled_convolution_op, activation_layer_call_fn, activation_layer_call_and_return_conditional_losses while saving (showing 5 of 19). These functions will not be directly callable after loading.\n"
          ]
        },
        {
          "output_type": "stream",
          "name": "stdout",
          "text": [
            "Saved pruned TFLite model to: /tmp/tmp3pz2s139.h5\n"
          ]
        }
      ]
    },
    {
      "cell_type": "code",
      "source": [
        "#####################################\n",
        "######## Quantization Result#########\n",
        "#####################################"
      ],
      "metadata": {
        "id": "Di97YRZXD7ki"
      },
      "execution_count": null,
      "outputs": []
    },
    {
      "cell_type": "code",
      "source": [
        "# Accuracy comparisons\n",
        "_, model_quant_accuracy = model_quant.evaluate(x_train,y_train, verbose=0)\n",
        "print('Baseline test accuracy:', baseline_model_accuracy) \n",
        "print('Quantization test accuracy:', model_quant_accuracy)"
      ],
      "metadata": {
        "colab": {
          "base_uri": "https://localhost:8080/"
        },
        "id": "mswjUhcs41Vr",
        "outputId": "6ba52ea1-aba7-47b7-ea53-af75e3dd01dc"
      },
      "execution_count": null,
      "outputs": [
        {
          "output_type": "stream",
          "name": "stdout",
          "text": [
            "Baseline test accuracy: 0.9498000144958496\n",
            "Quantization test accuracy: 0.9724827408790588\n"
          ]
        }
      ]
    },
    {
      "cell_type": "code",
      "source": [
        "# compare model size\n",
        "print(\"Size of gzipped baseline Keras model: %.2f bytes\" % (get_gzipped_model_size(keras_file)))\n",
        "print(\"Size of gzipped quantization Keras model: %.2f bytes\" % (get_gzipped_model_size(quant_tflite_file)))"
      ],
      "metadata": {
        "colab": {
          "base_uri": "https://localhost:8080/"
        },
        "id": "kMYVTyOYEA1w",
        "outputId": "a0899502-5a91-4873-f4f2-b0e50a525ed9"
      },
      "execution_count": null,
      "outputs": [
        {
          "output_type": "stream",
          "name": "stdout",
          "text": [
            "Size of gzipped baseline Keras model: 233687.00 bytes\n",
            "Size of gzipped quantization Keras model: 131650.00 bytes\n"
          ]
        }
      ]
    },
    {
      "cell_type": "code",
      "source": [
        "#########################################\n",
        "######## Pruning + Quantization #########\n",
        "#########################################"
      ],
      "metadata": {
        "id": "W49wlVCs7XpU"
      },
      "execution_count": null,
      "outputs": []
    },
    {
      "cell_type": "code",
      "source": [
        "## Prunning the entire dataset\n",
        "\n",
        "import tensorflow_model_optimization as tfmot\n",
        "import numpy as np\n",
        "\n",
        "prune_low_magnitude = tfmot.sparsity.keras.prune_low_magnitude\n",
        "\n",
        "# batch_size & epochs stay the same as the baseline model\n",
        "batch_size = 64\n",
        "epochs = 5\n",
        "\n",
        "\n",
        "# Define model for pruning.\n",
        "# For the pruning schedule, we start at the sparsity level 50% \n",
        "# and gradually train the model to reach 90% sparsity. \n",
        "# 90% of the weight tensor is going to be pruned away.\n",
        "\n",
        "x = 0.2\n",
        "sparsity_pq = []\n",
        "acc_pq = []\n",
        "while x <= 0.9:\n",
        "  print(\"current x is: \",x)\n",
        "  sparsity_pq.append(x)\n",
        "  pruning_params = {\n",
        "      'pruning_schedule': tfmot.sparsity.keras.ConstantSparsity(x, begin_step=0, frequency=100)\n",
        "  }\n",
        "  callbacks = [\n",
        "      tfmot.sparsity.keras.UpdatePruningStep()\n",
        "    ]\n",
        "\n",
        "  model_for_pruning = prune_low_magnitude(model, **pruning_params)\n",
        "\n",
        "  # `prune_low_magnitude` requires a recompile.\n",
        "  model_for_pruning.compile(optimizer='adam',\n",
        "                            loss=tf.keras.losses.SparseCategoricalCrossentropy(from_logits=True),\n",
        "                            metrics=['accuracy'])\n",
        "\n",
        "  history_pruned = model_for_pruning.fit(x_train,y_train,\n",
        "                      batch_size=batch_size, epochs=epochs, validation_data=(x_val, y_val),\n",
        "                      callbacks=callbacks)\n",
        "\n",
        "                      \n",
        "  model_for_export = tfmot.sparsity.keras.strip_pruning(model_for_pruning)\n",
        "  model_quant_prune = tfmot.quantization.keras.quantize_model(model_for_export)\n",
        "  model_quant_prune.compile(optimizer='adam', loss=losses.sparse_categorical_crossentropy, metrics=['accuracy'])\n",
        "  model_quant_prune.fit(x_train, y_train, batch_size=batch_size, epochs=epochs, validation_data=(x_val, y_val))\n",
        "    \n",
        "  _, model_quant_prune_accuracy = model_quant_prune.evaluate(x_train,y_train, verbose=0)\n",
        "\n",
        "  print(\"current x is: \",x, \"and model acc is: \",model_quant_prune_accuracy)\n",
        "  acc_pq.append(model_quant_prune_accuracy)\n",
        "  print(\"sparsity: \", sparsity_pq)\n",
        "  print(\"accuracy list: \", acc_pq)\n",
        "  x += 0.1\n",
        "\n",
        "# model_for_pruning.summary()"
      ],
      "metadata": {
        "colab": {
          "base_uri": "https://localhost:8080/"
        },
        "id": "VWv7GXZ7RLAV",
        "outputId": "4a08e93d-fcea-4b0b-9040-3219b3ef96a6"
      },
      "execution_count": null,
      "outputs": [
        {
          "output_type": "stream",
          "name": "stdout",
          "text": [
            "current x is:  0.2\n",
            "Epoch 1/5\n",
            "907/907 [==============================] - 23s 23ms/step - loss: 0.0545 - accuracy: 0.9824 - val_loss: 0.0526 - val_accuracy: 0.9880\n",
            "Epoch 2/5\n",
            "907/907 [==============================] - 21s 23ms/step - loss: 0.0493 - accuracy: 0.9840 - val_loss: 0.0598 - val_accuracy: 0.9875\n",
            "Epoch 3/5\n",
            "907/907 [==============================] - 20s 22ms/step - loss: 0.0513 - accuracy: 0.9827 - val_loss: 0.0625 - val_accuracy: 0.9870\n",
            "Epoch 4/5\n",
            "907/907 [==============================] - 21s 23ms/step - loss: 0.0492 - accuracy: 0.9841 - val_loss: 0.0642 - val_accuracy: 0.9850\n",
            "Epoch 5/5\n",
            "907/907 [==============================] - 21s 23ms/step - loss: 0.0515 - accuracy: 0.9830 - val_loss: 0.0700 - val_accuracy: 0.9805\n",
            "Epoch 1/5\n",
            "907/907 [==============================] - 25s 27ms/step - loss: 0.0758 - accuracy: 0.9759 - val_loss: 0.0500 - val_accuracy: 0.9890\n",
            "Epoch 2/5\n",
            "907/907 [==============================] - 25s 27ms/step - loss: 0.0634 - accuracy: 0.9791 - val_loss: 0.0613 - val_accuracy: 0.9855\n",
            "Epoch 3/5\n",
            "907/907 [==============================] - 25s 27ms/step - loss: 0.0634 - accuracy: 0.9786 - val_loss: 0.0672 - val_accuracy: 0.9825\n",
            "Epoch 4/5\n",
            "907/907 [==============================] - 24s 26ms/step - loss: 0.0647 - accuracy: 0.9790 - val_loss: 0.0649 - val_accuracy: 0.9830\n",
            "Epoch 5/5\n",
            "907/907 [==============================] - 26s 28ms/step - loss: 0.0613 - accuracy: 0.9798 - val_loss: 0.0792 - val_accuracy: 0.9825\n",
            "current x is:  0.2 and model acc is:  0.975017249584198\n",
            "sparsity:  [0.2]\n",
            "accuracy list:  [0.975017249584198]\n",
            "current x is:  0.30000000000000004\n",
            "Epoch 1/5\n",
            "907/907 [==============================] - 23s 24ms/step - loss: 0.0446 - accuracy: 0.9856 - val_loss: 0.0575 - val_accuracy: 0.9870\n",
            "Epoch 2/5\n",
            "907/907 [==============================] - 21s 23ms/step - loss: 0.0440 - accuracy: 0.9856 - val_loss: 0.0575 - val_accuracy: 0.9855\n",
            "Epoch 3/5\n",
            "907/907 [==============================] - 21s 23ms/step - loss: 0.0403 - accuracy: 0.9867 - val_loss: 0.0594 - val_accuracy: 0.9855\n",
            "Epoch 4/5\n",
            "907/907 [==============================] - 21s 23ms/step - loss: 0.0426 - accuracy: 0.9853 - val_loss: 0.0653 - val_accuracy: 0.9820\n",
            "Epoch 5/5\n",
            "907/907 [==============================] - 21s 23ms/step - loss: 0.0406 - accuracy: 0.9865 - val_loss: 0.0597 - val_accuracy: 0.9865\n",
            "Epoch 1/5\n",
            "907/907 [==============================] - 26s 28ms/step - loss: 0.0658 - accuracy: 0.9793 - val_loss: 0.0666 - val_accuracy: 0.9865\n",
            "Epoch 2/5\n",
            "907/907 [==============================] - 26s 29ms/step - loss: 0.0622 - accuracy: 0.9802 - val_loss: 0.0540 - val_accuracy: 0.9890\n",
            "Epoch 3/5\n",
            "907/907 [==============================] - 24s 27ms/step - loss: 0.0581 - accuracy: 0.9812 - val_loss: 0.0506 - val_accuracy: 0.9885\n",
            "Epoch 4/5\n",
            "907/907 [==============================] - 25s 27ms/step - loss: 0.0592 - accuracy: 0.9807 - val_loss: 0.0605 - val_accuracy: 0.9875\n",
            "Epoch 5/5\n",
            "907/907 [==============================] - 25s 28ms/step - loss: 0.0567 - accuracy: 0.9812 - val_loss: 0.1036 - val_accuracy: 0.9780\n",
            "current x is:  0.30000000000000004 and model acc is:  0.969603419303894\n",
            "sparsity:  [0.2, 0.30000000000000004]\n",
            "accuracy list:  [0.975017249584198, 0.969603419303894]\n",
            "current x is:  0.4\n",
            "Epoch 1/5\n",
            "907/907 [==============================] - 23s 24ms/step - loss: 0.0380 - accuracy: 0.9878 - val_loss: 0.0469 - val_accuracy: 0.9910\n",
            "Epoch 2/5\n",
            "907/907 [==============================] - 21s 23ms/step - loss: 0.0357 - accuracy: 0.9885 - val_loss: 0.0538 - val_accuracy: 0.9895\n",
            "Epoch 3/5\n",
            "907/907 [==============================] - 22s 24ms/step - loss: 0.0348 - accuracy: 0.9880 - val_loss: 0.0478 - val_accuracy: 0.9900\n",
            "Epoch 4/5\n",
            "907/907 [==============================] - 21s 23ms/step - loss: 0.0351 - accuracy: 0.9883 - val_loss: 0.0440 - val_accuracy: 0.9920\n",
            "Epoch 5/5\n",
            "907/907 [==============================] - 21s 24ms/step - loss: 0.0322 - accuracy: 0.9892 - val_loss: 0.0452 - val_accuracy: 0.9890\n",
            "Epoch 1/5\n",
            "907/907 [==============================] - 26s 28ms/step - loss: 0.0657 - accuracy: 0.9795 - val_loss: 0.0607 - val_accuracy: 0.9855\n",
            "Epoch 2/5\n",
            "907/907 [==============================] - 24s 27ms/step - loss: 0.0573 - accuracy: 0.9810 - val_loss: 0.0737 - val_accuracy: 0.9845\n",
            "Epoch 3/5\n",
            "907/907 [==============================] - 25s 27ms/step - loss: 0.0567 - accuracy: 0.9812 - val_loss: 0.0754 - val_accuracy: 0.9815\n",
            "Epoch 4/5\n",
            "907/907 [==============================] - 26s 29ms/step - loss: 0.0566 - accuracy: 0.9812 - val_loss: 0.0641 - val_accuracy: 0.9845\n",
            "Epoch 5/5\n",
            "907/907 [==============================] - 24s 27ms/step - loss: 0.0569 - accuracy: 0.9812 - val_loss: 0.0620 - val_accuracy: 0.9880\n",
            "current x is:  0.4 and model acc is:  0.9852069020271301\n",
            "sparsity:  [0.2, 0.30000000000000004, 0.4]\n",
            "accuracy list:  [0.975017249584198, 0.969603419303894, 0.9852069020271301]\n",
            "current x is:  0.5\n",
            "Epoch 1/5\n",
            "907/907 [==============================] - 23s 23ms/step - loss: 0.0326 - accuracy: 0.9892 - val_loss: 0.0582 - val_accuracy: 0.9845\n",
            "Epoch 2/5\n",
            "907/907 [==============================] - 21s 23ms/step - loss: 0.0288 - accuracy: 0.9904 - val_loss: 0.0520 - val_accuracy: 0.9895\n",
            "Epoch 3/5\n",
            "907/907 [==============================] - 20s 23ms/step - loss: 0.0293 - accuracy: 0.9902 - val_loss: 0.0438 - val_accuracy: 0.9900\n",
            "Epoch 4/5\n",
            "907/907 [==============================] - 22s 24ms/step - loss: 0.0287 - accuracy: 0.9902 - val_loss: 0.0494 - val_accuracy: 0.9890\n",
            "Epoch 5/5\n",
            "907/907 [==============================] - 22s 24ms/step - loss: 0.0282 - accuracy: 0.9904 - val_loss: 0.0492 - val_accuracy: 0.9890\n",
            "Epoch 1/5\n",
            "907/907 [==============================] - 25s 27ms/step - loss: 0.0633 - accuracy: 0.9798 - val_loss: 0.0549 - val_accuracy: 0.9870\n",
            "Epoch 2/5\n",
            "907/907 [==============================] - 25s 28ms/step - loss: 0.0540 - accuracy: 0.9818 - val_loss: 0.0448 - val_accuracy: 0.9915\n",
            "Epoch 3/5\n",
            "907/907 [==============================] - 25s 28ms/step - loss: 0.0544 - accuracy: 0.9821 - val_loss: 0.0538 - val_accuracy: 0.9900\n",
            "Epoch 4/5\n",
            "907/907 [==============================] - 24s 27ms/step - loss: 0.0509 - accuracy: 0.9832 - val_loss: 0.0500 - val_accuracy: 0.9900\n",
            "Epoch 5/5\n",
            "907/907 [==============================] - 26s 29ms/step - loss: 0.0551 - accuracy: 0.9822 - val_loss: 0.1059 - val_accuracy: 0.9760\n",
            "current x is:  0.5 and model acc is:  0.9740344882011414\n",
            "sparsity:  [0.2, 0.30000000000000004, 0.4, 0.5]\n",
            "accuracy list:  [0.975017249584198, 0.969603419303894, 0.9852069020271301, 0.9740344882011414]\n",
            "current x is:  0.6\n",
            "Epoch 1/5\n",
            "907/907 [==============================] - 24s 24ms/step - loss: 0.0286 - accuracy: 0.9906 - val_loss: 0.0448 - val_accuracy: 0.9915\n",
            "Epoch 2/5\n",
            "907/907 [==============================] - 21s 23ms/step - loss: 0.0252 - accuracy: 0.9918 - val_loss: 0.0414 - val_accuracy: 0.9915\n",
            "Epoch 3/5\n",
            "907/907 [==============================] - 22s 24ms/step - loss: 0.0254 - accuracy: 0.9917 - val_loss: 0.0413 - val_accuracy: 0.9905\n",
            "Epoch 4/5\n",
            "907/907 [==============================] - 22s 24ms/step - loss: 0.0244 - accuracy: 0.9921 - val_loss: 0.0443 - val_accuracy: 0.9905\n",
            "Epoch 5/5\n",
            "907/907 [==============================] - 21s 23ms/step - loss: 0.0230 - accuracy: 0.9922 - val_loss: 0.0465 - val_accuracy: 0.9905\n",
            "Epoch 1/5\n",
            "907/907 [==============================] - 27s 28ms/step - loss: 0.0603 - accuracy: 0.9806 - val_loss: 0.0495 - val_accuracy: 0.9885\n",
            "Epoch 2/5\n",
            "907/907 [==============================] - 25s 28ms/step - loss: 0.0524 - accuracy: 0.9828 - val_loss: 0.0715 - val_accuracy: 0.9790\n",
            "Epoch 3/5\n",
            "907/907 [==============================] - 24s 27ms/step - loss: 0.0562 - accuracy: 0.9816 - val_loss: 0.0517 - val_accuracy: 0.9890\n",
            "Epoch 4/5\n",
            "907/907 [==============================] - 26s 28ms/step - loss: 0.0538 - accuracy: 0.9818 - val_loss: 0.0751 - val_accuracy: 0.9835\n",
            "Epoch 5/5\n",
            "907/907 [==============================] - 25s 28ms/step - loss: 0.0519 - accuracy: 0.9825 - val_loss: 0.0778 - val_accuracy: 0.9760\n",
            "current x is:  0.6 and model acc is:  0.9621207118034363\n",
            "sparsity:  [0.2, 0.30000000000000004, 0.4, 0.5, 0.6]\n",
            "accuracy list:  [0.975017249584198, 0.969603419303894, 0.9852069020271301, 0.9740344882011414, 0.9621207118034363]\n",
            "current x is:  0.7\n",
            "Epoch 1/5\n",
            "907/907 [==============================] - 24s 25ms/step - loss: 0.0275 - accuracy: 0.9909 - val_loss: 0.0602 - val_accuracy: 0.9875\n",
            "Epoch 2/5\n",
            "907/907 [==============================] - 20s 23ms/step - loss: 0.0237 - accuracy: 0.9922 - val_loss: 0.0427 - val_accuracy: 0.9920\n",
            "Epoch 3/5\n",
            "907/907 [==============================] - 21s 23ms/step - loss: 0.0226 - accuracy: 0.9924 - val_loss: 0.0405 - val_accuracy: 0.9930\n",
            "Epoch 4/5\n",
            "907/907 [==============================] - 20s 23ms/step - loss: 0.0219 - accuracy: 0.9924 - val_loss: 0.0410 - val_accuracy: 0.9910\n",
            "Epoch 5/5\n",
            "907/907 [==============================] - 21s 23ms/step - loss: 0.0211 - accuracy: 0.9931 - val_loss: 0.0453 - val_accuracy: 0.9905\n",
            "Epoch 1/5\n",
            "907/907 [==============================] - 26s 28ms/step - loss: 0.0664 - accuracy: 0.9788 - val_loss: 0.0528 - val_accuracy: 0.9890\n",
            "Epoch 2/5\n",
            "907/907 [==============================] - 24s 27ms/step - loss: 0.0584 - accuracy: 0.9809 - val_loss: 0.0491 - val_accuracy: 0.9870\n",
            "Epoch 3/5\n",
            "907/907 [==============================] - 26s 29ms/step - loss: 0.0516 - accuracy: 0.9828 - val_loss: 0.0592 - val_accuracy: 0.9875\n",
            "Epoch 4/5\n",
            "907/907 [==============================] - 25s 28ms/step - loss: 0.0514 - accuracy: 0.9826 - val_loss: 0.0882 - val_accuracy: 0.9745\n",
            "Epoch 5/5\n",
            "907/907 [==============================] - 25s 27ms/step - loss: 0.0506 - accuracy: 0.9823 - val_loss: 0.0606 - val_accuracy: 0.9855\n",
            "current x is:  0.7 and model acc is:  0.9861551523208618\n",
            "sparsity:  [0.2, 0.30000000000000004, 0.4, 0.5, 0.6, 0.7]\n",
            "accuracy list:  [0.975017249584198, 0.969603419303894, 0.9852069020271301, 0.9740344882011414, 0.9621207118034363, 0.9861551523208618]\n",
            "current x is:  0.7999999999999999\n",
            "Epoch 1/5\n",
            "907/907 [==============================] - 23s 23ms/step - loss: 0.0320 - accuracy: 0.9898 - val_loss: 0.0455 - val_accuracy: 0.9895\n",
            "Epoch 2/5\n",
            "907/907 [==============================] - 22s 24ms/step - loss: 0.0264 - accuracy: 0.9917 - val_loss: 0.0439 - val_accuracy: 0.9915\n",
            "Epoch 3/5\n",
            "907/907 [==============================] - 21s 23ms/step - loss: 0.0244 - accuracy: 0.9923 - val_loss: 0.0588 - val_accuracy: 0.9890\n",
            "Epoch 4/5\n",
            "907/907 [==============================] - 22s 25ms/step - loss: 0.0242 - accuracy: 0.9923 - val_loss: 0.0461 - val_accuracy: 0.9905\n",
            "Epoch 5/5\n",
            "907/907 [==============================] - 22s 24ms/step - loss: 0.0221 - accuracy: 0.9931 - val_loss: 0.0391 - val_accuracy: 0.9920\n",
            "Epoch 1/5\n",
            "907/907 [==============================] - 26s 28ms/step - loss: 0.0674 - accuracy: 0.9785 - val_loss: 0.0592 - val_accuracy: 0.9850\n",
            "Epoch 2/5\n",
            "907/907 [==============================] - 25s 28ms/step - loss: 0.0556 - accuracy: 0.9819 - val_loss: 0.0558 - val_accuracy: 0.9845\n",
            "Epoch 3/5\n",
            "907/907 [==============================] - 26s 28ms/step - loss: 0.0495 - accuracy: 0.9837 - val_loss: 0.0529 - val_accuracy: 0.9865\n",
            "Epoch 4/5\n",
            "907/907 [==============================] - 25s 28ms/step - loss: 0.0523 - accuracy: 0.9828 - val_loss: 0.0801 - val_accuracy: 0.9815\n",
            "Epoch 5/5\n",
            "907/907 [==============================] - 26s 29ms/step - loss: 0.0546 - accuracy: 0.9825 - val_loss: 0.0523 - val_accuracy: 0.9875\n",
            "current x is:  0.7999999999999999 and model acc is:  0.9856724143028259\n",
            "sparsity:  [0.2, 0.30000000000000004, 0.4, 0.5, 0.6, 0.7, 0.7999999999999999]\n",
            "accuracy list:  [0.975017249584198, 0.969603419303894, 0.9852069020271301, 0.9740344882011414, 0.9621207118034363, 0.9861551523208618, 0.9856724143028259]\n",
            "current x is:  0.8999999999999999\n",
            "Epoch 1/5\n",
            "907/907 [==============================] - 24s 24ms/step - loss: 0.0775 - accuracy: 0.9749 - val_loss: 0.0583 - val_accuracy: 0.9890\n",
            "Epoch 2/5\n",
            "907/907 [==============================] - 21s 23ms/step - loss: 0.0590 - accuracy: 0.9822 - val_loss: 0.0595 - val_accuracy: 0.9885\n",
            "Epoch 3/5\n",
            "907/907 [==============================] - 22s 24ms/step - loss: 0.0551 - accuracy: 0.9826 - val_loss: 0.0544 - val_accuracy: 0.9905\n",
            "Epoch 4/5\n",
            "907/907 [==============================] - 21s 23ms/step - loss: 0.0515 - accuracy: 0.9836 - val_loss: 0.0537 - val_accuracy: 0.9900\n",
            "Epoch 5/5\n",
            "907/907 [==============================] - 22s 24ms/step - loss: 0.0490 - accuracy: 0.9844 - val_loss: 0.0534 - val_accuracy: 0.9905\n",
            "Epoch 1/5\n",
            "907/907 [==============================] - 27s 28ms/step - loss: 0.1054 - accuracy: 0.9672 - val_loss: 0.0780 - val_accuracy: 0.9830\n",
            "Epoch 2/5\n",
            "907/907 [==============================] - 25s 28ms/step - loss: 0.0891 - accuracy: 0.9715 - val_loss: 0.0623 - val_accuracy: 0.9860\n",
            "Epoch 3/5\n",
            "907/907 [==============================] - 26s 28ms/step - loss: 0.0773 - accuracy: 0.9747 - val_loss: 0.0575 - val_accuracy: 0.9875\n",
            "Epoch 4/5\n",
            "907/907 [==============================] - 26s 28ms/step - loss: 0.0782 - accuracy: 0.9746 - val_loss: 0.1017 - val_accuracy: 0.9760\n",
            "Epoch 5/5\n",
            "907/907 [==============================] - 25s 27ms/step - loss: 0.0750 - accuracy: 0.9758 - val_loss: 0.0552 - val_accuracy: 0.9890\n",
            "current x is:  0.8999999999999999 and model acc is:  0.9816034436225891\n",
            "sparsity:  [0.2, 0.30000000000000004, 0.4, 0.5, 0.6, 0.7, 0.7999999999999999, 0.8999999999999999]\n",
            "accuracy list:  [0.975017249584198, 0.969603419303894, 0.9852069020271301, 0.9740344882011414, 0.9621207118034363, 0.9861551523208618, 0.9856724143028259, 0.9816034436225891]\n"
          ]
        }
      ]
    },
    {
      "cell_type": "code",
      "source": [
        "converter = tf.lite.TFLiteConverter.from_keras_model(model_for_export)\n",
        "converter.optimizations = [tf.lite.Optimize.DEFAULT]\n",
        "quantized_and_pruned_tflite_model = converter.convert()\n",
        "\n",
        "_, quantized_and_pruned_tflite_file = tempfile.mkstemp('.tflite')\n",
        "with open(quantized_and_pruned_tflite_file, 'wb') as f:\n",
        "  f.write(quantized_and_pruned_tflite_model)"
      ],
      "metadata": {
        "colab": {
          "base_uri": "https://localhost:8080/"
        },
        "id": "GTg8KW_GjfK1",
        "outputId": "18306091-e816-4e43-a796-fc2c184d9967"
      },
      "execution_count": null,
      "outputs": [
        {
          "output_type": "stream",
          "name": "stderr",
          "text": [
            "WARNING:absl:Found untraced functions such as _jit_compiled_convolution_op, _jit_compiled_convolution_op, _jit_compiled_convolution_op while saving (showing 3 of 3). These functions will not be directly callable after loading.\n"
          ]
        }
      ]
    },
    {
      "cell_type": "code",
      "source": [
        "#########################################\n",
        "##### Pruning + Quantization Result #####\n",
        "#########################################"
      ],
      "metadata": {
        "id": "WFbg8mQ6lk2B"
      },
      "execution_count": null,
      "outputs": []
    },
    {
      "cell_type": "code",
      "source": [
        "compression_pq_ratio = [1/x for x in sparsity_pq]\n",
        "compression_pq_ratio"
      ],
      "metadata": {
        "colab": {
          "base_uri": "https://localhost:8080/"
        },
        "id": "IPueWNHHhOLQ",
        "outputId": "39aa6499-d500-42a6-f52a-85802914a6e8"
      },
      "execution_count": null,
      "outputs": [
        {
          "output_type": "execute_result",
          "data": {
            "text/plain": [
              "[5.0,\n",
              " 3.333333333333333,\n",
              " 2.5,\n",
              " 2.0,\n",
              " 1.6666666666666667,\n",
              " 1.4285714285714286,\n",
              " 1.25,\n",
              " 1.1111111111111112]"
            ]
          },
          "metadata": {},
          "execution_count": 62
        }
      ]
    },
    {
      "cell_type": "code",
      "source": [
        "acc_pq"
      ],
      "metadata": {
        "id": "s7GVuNyWFzMA",
        "outputId": "6bf7e97b-4e0c-40f7-f7e5-c27279a5871f",
        "colab": {
          "base_uri": "https://localhost:8080/"
        }
      },
      "execution_count": null,
      "outputs": [
        {
          "output_type": "execute_result",
          "data": {
            "text/plain": [
              "[0.975017249584198,\n",
              " 0.969603419303894,\n",
              " 0.9852069020271301,\n",
              " 0.9740344882011414,\n",
              " 0.9621207118034363,\n",
              " 0.9861551523208618,\n",
              " 0.9856724143028259,\n",
              " 0.9816034436225891]"
            ]
          },
          "metadata": {},
          "execution_count": 70
        }
      ]
    },
    {
      "cell_type": "code",
      "source": [
        "# compression ratio vs accuracy graph\n",
        "import matplotlib.pyplot as plt\n",
        "\n",
        "fig, ax = plt.subplots()\n",
        "# plt.scatter(compression_rat, acc)\n",
        "ax.plot(compression_pq_ratio, acc_pq, linewidth=2.0)\n",
        "plt.xlabel('Compresion Ratio(Pruned + Quantization)')\n",
        "plt.ylabel('Accuracy')\n",
        "plt.title('Compresion Ratio(Pruned + Quantization) VS Accuracy')\n",
        "plt.show()"
      ],
      "metadata": {
        "colab": {
          "base_uri": "https://localhost:8080/",
          "height": 295
        },
        "id": "46peLtbOhON_",
        "outputId": "3e598426-0305-44b1-9105-5a7cb8133fca"
      },
      "execution_count": null,
      "outputs": [
        {
          "output_type": "display_data",
          "data": {
            "text/plain": [
              "<Figure size 432x288 with 1 Axes>"
            ],
            "image/png": "[encoded data removed]"
          },
          "metadata": {
            "needs_background": "light"
          }
        }
      ]
    },
    {
      "cell_type": "code",
      "source": [
        "# accuracy results\n",
        "print('Baseline test accuracy:', baseline_model_accuracy) \n",
        "print('Pruned + Quantization test accuracy:', model_quant_prune_accuracy)"
      ],
      "metadata": {
        "colab": {
          "base_uri": "https://localhost:8080/"
        },
        "id": "18J3MhF2hOTF",
        "outputId": "cacf5080-54ca-4840-da57-f331f5bd5d70"
      },
      "execution_count": null,
      "outputs": [
        {
          "output_type": "stream",
          "name": "stdout",
          "text": [
            "Baseline test accuracy: 0.9498000144958496\n",
            "Pruned + Quantization test accuracy: 0.9816034436225891\n"
          ]
        }
      ]
    },
    {
      "cell_type": "code",
      "source": [
        "# compare model size\n",
        "print(\"Size of gzipped baseline Keras model: %.2f bytes\" % (get_gzipped_model_size(keras_file)))\n",
        "print(\"Size of gzipped pruned and quantized TFlite model: %.2f bytes\" % (get_gzipped_model_size(quantized_and_pruned_tflite_file)))"
      ],
      "metadata": {
        "colab": {
          "base_uri": "https://localhost:8080/"
        },
        "id": "B1dOY6GGhOY_",
        "outputId": "2c626821-0964-4c56-a57d-4e17d84fac2c"
      },
      "execution_count": null,
      "outputs": [
        {
          "output_type": "stream",
          "name": "stdout",
          "text": [
            "Size of gzipped baseline Keras model: 233687.00 bytes\n",
            "Size of gzipped pruned and quantized TFlite model: 17653.00 bytes\n"
          ]
        }
      ]
    },
    {
      "cell_type": "code",
      "source": [
        "# confusion matrix for based model\n",
        "from sklearn.metrics import confusion_matrix\n",
        "import numpy as np\n",
        "test_predictions = model.predict(x_test)\n",
        "confusion = confusion_matrix(y_test, np.argmax(test_predictions,axis=1))\n",
        "confusion"
      ],
      "metadata": {
        "colab": {
          "base_uri": "https://localhost:8080/"
        },
        "id": "nshNE4_hhOat",
        "outputId": "19f159ba-fc0e-4ded-a1b1-d1305618438a"
      },
      "execution_count": null,
      "outputs": [
        {
          "output_type": "stream",
          "name": "stdout",
          "text": [
            "313/313 [==============================] - 3s 9ms/step\n"
          ]
        },
        {
          "output_type": "execute_result",
          "data": {
            "text/plain": [
              "array([[ 970,    0,    0,    0,    0,    1,    5,    1,    3,    0],\n",
              "       [   0, 1132,    0,    0,    0,    1,    1,    0,    1,    0],\n",
              "       [   2,    5, 1017,    1,    1,    0,    0,    4,    2,    0],\n",
              "       [   0,    0,    4,  996,    0,    1,    0,    6,    2,    1],\n",
              "       [   0,    1,    0,    0,  967,    0,    4,    0,    1,    9],\n",
              "       [   2,    1,    0,   10,    0,  865,    3,    1,    8,    2],\n",
              "       [   6,    3,    0,    0,    3,    2,  942,    0,    2,    0],\n",
              "       [   0,    8,    9,    8,    1,    0,    0,  992,    1,    9],\n",
              "       [   2,    1,    2,    5,    1,    1,    0,    2,  955,    5],\n",
              "       [   0,    4,    0,    6,   14,    2,    1,    4,    7,  971]])"
            ]
          },
          "metadata": {},
          "execution_count": 66
        }
      ]
    },
    {
      "cell_type": "code",
      "source": [
        "# confusion matrix for pruned+quantized model\n",
        "pq_test_predictions = model_quant_prune.predict(x_test)\n",
        "pq_confusion = confusion_matrix(y_test, np.argmax(pq_test_predictions,axis=1))\n",
        "pq_confusion"
      ],
      "metadata": {
        "colab": {
          "base_uri": "https://localhost:8080/"
        },
        "id": "TN-tW_D1lyVZ",
        "outputId": "beafb5ff-7e30-416f-c190-39fef3ebd30f"
      },
      "execution_count": null,
      "outputs": [
        {
          "output_type": "stream",
          "name": "stdout",
          "text": [
            "313/313 [==============================] - 2s 7ms/step\n"
          ]
        },
        {
          "output_type": "execute_result",
          "data": {
            "text/plain": [
              "array([[ 971,    1,    0,    0,    0,    2,    3,    1,    2,    0],\n",
              "       [   0, 1131,    0,    0,    0,    1,    2,    0,    1,    0],\n",
              "       [   2,    4, 1006,    0,    1,    0,    0,    6,   13,    0],\n",
              "       [   0,    0,    3,  982,    2,    7,    0,    6,    4,    6],\n",
              "       [   1,    3,    0,    0,  964,    1,    8,    1,    0,    4],\n",
              "       [   2,    0,    0,    5,    2,  877,    2,    1,    0,    3],\n",
              "       [   4,    2,    0,    0,    1,    4,  943,    0,    4,    0],\n",
              "       [   0,   10,   10,    2,    6,    1,    0,  987,    2,   10],\n",
              "       [   2,    2,    1,    2,    1,    2,    0,    1,  962,    1],\n",
              "       [   1,    4,    0,    4,   17,    3,    2,    3,    5,  970]])"
            ]
          },
          "metadata": {},
          "execution_count": 69
        }
      ]
    },
    {
      "cell_type": "code",
      "source": [],
      "metadata": {
        "id": "2ib1aHwYmEV7"
      },
      "execution_count": null,
      "outputs": []
    }
  ],
  "metadata": {
    "colab": {
      "provenance": []
    },
    "kernelspec": {
      "display_name": "Python 3",
      "name": "python3"
    },
    "language_info": {
      "name": "python"
    }
  },
  "nbformat": 4,
  "nbformat_minor": 0
}