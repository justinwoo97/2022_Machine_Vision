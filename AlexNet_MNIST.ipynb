{
  "cells": [
    {
      "cell_type": "code",
      "execution_count": 1,
      "metadata": {
        "id": "cH8ZE_BW7xqc"
      },
      "outputs": [],
      "source": [
        "import numpy as np # linear algebra\n",
        "import pandas as pd # data processing, CSV file I/O (e.g. pd.read_csv)\n",
        "import tensorflow as tf\n",
        "from tensorflow import keras\n",
        "import matplotlib.pyplot as plt\n",
        "import os\n",
        "import time"
      ]
    },
    {
      "cell_type": "code",
      "execution_count": 16,
      "metadata": {
        "id": "a7HDRM0k71r8"
      },
      "outputs": [],
      "source": [
        "(train_images, train_labels), (test_images, test_labels) = keras.datasets.cifar10.load_data()"
      ]
    },
    {
      "cell_type": "code",
      "source": [
        "train_ds=tf.data.Dataset.from_tensor_slices((train_images,train_labels))\n",
        "test_ds=tf.data.Dataset.from_tensor_slices((test_images,test_labels))"
      ],
      "metadata": {
        "id": "4PuMBgsvEEyF"
      },
      "execution_count": 3,
      "outputs": []
    },
    {
      "cell_type": "code",
      "source": [
        "def process_image(image,label):\n",
        "    image=tf.image.per_image_standardization(image)\n",
        "    image=tf.image.resize(image,(64,64))\n",
        "    \n",
        "    return image,label\n"
      ],
      "metadata": {
        "id": "UjCz8VaLEJhr"
      },
      "execution_count": 4,
      "outputs": []
    },
    {
      "cell_type": "code",
      "source": [
        "train_ds_size=tf.data.experimental.cardinality(train_ds).numpy()\n",
        "test_ds_size=tf.data.experimental.cardinality(test_ds).numpy()\n",
        "print('Train size:',train_ds_size)\n",
        "print('Test size:',test_ds_size)"
      ],
      "metadata": {
        "colab": {
          "base_uri": "https://localhost:8080/"
        },
        "id": "ge-3VT2JBj7U",
        "outputId": "c33fb0f9-c6e4-43f3-d416-fca7b2fedd4d"
      },
      "execution_count": 5,
      "outputs": [
        {
          "output_type": "stream",
          "name": "stdout",
          "text": [
            "Train size: 50000\n",
            "Test size: 10000\n"
          ]
        }
      ]
    },
    {
      "cell_type": "code",
      "source": [
        "train_ds=(train_ds\n",
        "          .map(process_image)\n",
        "          .shuffle(buffer_size=train_ds_size)\n",
        "          .batch(batch_size=32,drop_remainder=True)\n",
        "         )\n",
        "test_ds=(test_ds\n",
        "          .map(process_image)\n",
        "          .shuffle(buffer_size=test_ds_size)\n",
        "          .batch(batch_size=32,drop_remainder=True)\n",
        "         )"
      ],
      "metadata": {
        "id": "oWRYI8JhFOml"
      },
      "execution_count": 6,
      "outputs": []
    },
    {
      "cell_type": "code",
      "source": [
        "model=keras.models.Sequential([\n",
        "    keras.layers.Conv2D(filters=128, kernel_size=(11,11), strides=(4,4), input_shape=(64,64,3)),\n",
        "    keras.layers.BatchNormalization(),\n",
        "    keras.layers.Activation('relu'),\n",
        "    keras.layers.MaxPool2D(pool_size=(2,2)),\n",
        "    keras.layers.Conv2D(filters=256, kernel_size=(5,5), strides=(1,1), padding=\"same\"),\n",
        "    keras.layers.BatchNormalization(),\n",
        "    keras.layers.Activation('relu'),\n",
        "    keras.layers.MaxPool2D(pool_size=(3,3)),\n",
        "    keras.layers.Conv2D(filters=256, kernel_size=(3,3), strides=(1,1), padding=\"same\"),\n",
        "    keras.layers.BatchNormalization(),\n",
        "    keras.layers.Activation('relu'),\n",
        "    keras.layers.Conv2D(filters=256, kernel_size=(1,1), strides=(1,1), padding=\"same\"),\n",
        "    keras.layers.BatchNormalization(),\n",
        "    keras.layers.Activation('relu'),\n",
        "    keras.layers.Conv2D(filters=256, kernel_size=(1,1), strides=(1,1), padding=\"same\"),\n",
        "    keras.layers.BatchNormalization(),\n",
        "    keras.layers.Activation('relu'),\n",
        "    keras.layers.MaxPool2D(pool_size=(2,2)),\n",
        "    keras.layers.Flatten(),\n",
        "    keras.layers.Dense(1024,activation='relu'),\n",
        "    keras.layers.Dropout(0.5),\n",
        "    keras.layers.Dense(1024,activation='relu'),\n",
        "    keras.layers.Dropout(0.5),\n",
        "    keras.layers.Dense(10,activation='softmax')  \n",
        "    \n",
        "    \n",
        "])\n",
        "model.summary()"
      ],
      "metadata": {
        "colab": {
          "base_uri": "https://localhost:8080/"
        },
        "id": "RE8XyUy2_CGl",
        "outputId": "e0cf4ef3-b2f3-492a-ab84-7db0764198b8"
      },
      "execution_count": 9,
      "outputs": [
        {
          "output_type": "stream",
          "name": "stdout",
          "text": [
            "Model: \"sequential_1\"\n",
            "_________________________________________________________________\n",
            " Layer (type)                Output Shape              Param #   \n",
            "=================================================================\n",
            " conv2d_5 (Conv2D)           (None, 14, 14, 128)       46592     \n",
            "                                                                 \n",
            " batch_normalization_5 (Batc  (None, 14, 14, 128)      512       \n",
            " hNormalization)                                                 \n",
            "                                                                 \n",
            " activation_5 (Activation)   (None, 14, 14, 128)       0         \n",
            "                                                                 \n",
            " max_pooling2d_3 (MaxPooling  (None, 7, 7, 128)        0         \n",
            " 2D)                                                             \n",
            "                                                                 \n",
            " conv2d_6 (Conv2D)           (None, 7, 7, 256)         819456    \n",
            "                                                                 \n",
            " batch_normalization_6 (Batc  (None, 7, 7, 256)        1024      \n",
            " hNormalization)                                                 \n",
            "                                                                 \n",
            " activation_6 (Activation)   (None, 7, 7, 256)         0         \n",
            "                                                                 \n",
            " max_pooling2d_4 (MaxPooling  (None, 2, 2, 256)        0         \n",
            " 2D)                                                             \n",
            "                                                                 \n",
            " conv2d_7 (Conv2D)           (None, 2, 2, 256)         590080    \n",
            "                                                                 \n",
            " batch_normalization_7 (Batc  (None, 2, 2, 256)        1024      \n",
            " hNormalization)                                                 \n",
            "                                                                 \n",
            " activation_7 (Activation)   (None, 2, 2, 256)         0         \n",
            "                                                                 \n",
            " conv2d_8 (Conv2D)           (None, 2, 2, 256)         65792     \n",
            "                                                                 \n",
            " batch_normalization_8 (Batc  (None, 2, 2, 256)        1024      \n",
            " hNormalization)                                                 \n",
            "                                                                 \n",
            " activation_8 (Activation)   (None, 2, 2, 256)         0         \n",
            "                                                                 \n",
            " conv2d_9 (Conv2D)           (None, 2, 2, 256)         65792     \n",
            "                                                                 \n",
            " batch_normalization_9 (Batc  (None, 2, 2, 256)        1024      \n",
            " hNormalization)                                                 \n",
            "                                                                 \n",
            " activation_9 (Activation)   (None, 2, 2, 256)         0         \n",
            "                                                                 \n",
            " max_pooling2d_5 (MaxPooling  (None, 1, 1, 256)        0         \n",
            " 2D)                                                             \n",
            "                                                                 \n",
            " flatten_1 (Flatten)         (None, 256)               0         \n",
            "                                                                 \n",
            " dense_3 (Dense)             (None, 1024)              263168    \n",
            "                                                                 \n",
            " dropout_2 (Dropout)         (None, 1024)              0         \n",
            "                                                                 \n",
            " dense_4 (Dense)             (None, 1024)              1049600   \n",
            "                                                                 \n",
            " dropout_3 (Dropout)         (None, 1024)              0         \n",
            "                                                                 \n",
            " dense_5 (Dense)             (None, 10)                10250     \n",
            "                                                                 \n",
            "=================================================================\n",
            "Total params: 2,915,338\n",
            "Trainable params: 2,913,034\n",
            "Non-trainable params: 2,304\n",
            "_________________________________________________________________\n"
          ]
        }
      ]
    },
    {
      "cell_type": "code",
      "source": [
        "model.compile(\n",
        "    loss='sparse_categorical_crossentropy',\n",
        "    optimizer=tf.optimizers.SGD(lr=0.001),\n",
        "    metrics=['accuracy']    \n",
        ")"
      ],
      "metadata": {
        "colab": {
          "base_uri": "https://localhost:8080/"
        },
        "id": "42avXFXaArhv",
        "outputId": "3d17f936-f5c3-48cb-ae66-9c65b49fae3e"
      },
      "execution_count": 10,
      "outputs": [
        {
          "output_type": "stream",
          "name": "stderr",
          "text": [
            "/usr/local/lib/python3.7/dist-packages/keras/optimizers/optimizer_v2/gradient_descent.py:108: UserWarning: The `lr` argument is deprecated, use `learning_rate` instead.\n",
            "  super(SGD, self).__init__(name, **kwargs)\n"
          ]
        }
      ]
    },
    {
      "cell_type": "code",
      "source": [
        "history=model.fit(\n",
        "    train_ds,\n",
        "    epochs=1,\n",
        "    validation_data=test_ds,\n",
        "    validation_freq=1\n",
        ")"
      ],
      "metadata": {
        "colab": {
          "base_uri": "https://localhost:8080/"
        },
        "id": "wHlnwkfSByEJ",
        "outputId": "40f13a4d-844d-4ab4-ba11-a71b3125f2c2"
      },
      "execution_count": 11,
      "outputs": [
        {
          "output_type": "stream",
          "name": "stdout",
          "text": [
            "1562/1562 [==============================] - 629s 398ms/step - loss: 2.0674 - accuracy: 0.2537 - val_loss: 1.6161 - val_accuracy: 0.4343\n"
          ]
        }
      ]
    },
    {
      "cell_type": "code",
      "source": [
        "# base model accuracy\n",
        "# batch_size = 64\n",
        "# epochs = 1\n",
        "# model.compile(optimizer='adam', loss=losses.sparse_categorical_crossentropy, metrics=['accuracy'])"
      ],
      "metadata": {
        "id": "ftDq8RIAHTBp"
      },
      "execution_count": null,
      "outputs": []
    },
    {
      "cell_type": "code",
      "source": [
        "# model.fit(x_train, y_train, batch_size=batch_size, epochs=epochs, validation_data=(x_val, y_val))"
      ],
      "metadata": {
        "id": "8Z4ySJvyIuyE"
      },
      "execution_count": null,
      "outputs": []
    },
    {
      "cell_type": "code",
      "source": [
        "# Test baseline accuracy\n",
        "import tempfile\n",
        "\n",
        "_, baseline_model_accuracy = model.evaluate(test_ds, verbose=0)\n",
        "\n",
        "print('Baseline test accuracy:', baseline_model_accuracy)\n"
      ],
      "metadata": {
        "id": "zsce210CHduF",
        "colab": {
          "base_uri": "https://localhost:8080/"
        },
        "outputId": "58634e15-d332-43ec-fd76-b9cb946f37f7"
      },
      "execution_count": 12,
      "outputs": [
        {
          "output_type": "stream",
          "name": "stdout",
          "text": [
            "Baseline test accuracy: 0.4344951808452606\n"
          ]
        }
      ]
    },
    {
      "cell_type": "code",
      "source": [
        "# base model saved location\n",
        "_, keras_file = tempfile.mkstemp('.h5')\n",
        "print('Saving model to: ', keras_file)\n",
        "tf.keras.models.save_model(model, keras_file, include_optimizer=False)"
      ],
      "metadata": {
        "colab": {
          "base_uri": "https://localhost:8080/"
        },
        "id": "F2lQ8w0xW-vw",
        "outputId": "a1d76a52-720c-40b3-82b9-7e45e79e677b"
      },
      "execution_count": 13,
      "outputs": [
        {
          "output_type": "stream",
          "name": "stdout",
          "text": [
            "Saving model to:  /tmp/tmpu1w64t9_.h5\n"
          ]
        }
      ]
    },
    {
      "cell_type": "code",
      "source": [
        "###############################\n",
        "########### PRUNING ###########\n",
        "###############################"
      ],
      "metadata": {
        "id": "KbFQNPXaHn0U"
      },
      "execution_count": null,
      "outputs": []
    },
    {
      "cell_type": "code",
      "source": [
        "pip install tensorflow-model-optimization"
      ],
      "metadata": {
        "colab": {
          "base_uri": "https://localhost:8080/"
        },
        "id": "c4FQzpMcD2U8",
        "outputId": "ca4a0bee-fc5e-4027-ebde-2922d43c83f8"
      },
      "execution_count": 14,
      "outputs": [
        {
          "output_type": "stream",
          "name": "stdout",
          "text": [
            "Looking in indexes: https://pypi.org/simple, https://us-python.pkg.dev/colab-wheels/public/simple/\n",
            "Requirement already satisfied: tensorflow-model-optimization in /usr/local/lib/python3.7/dist-packages (0.7.3)\n",
            "Requirement already satisfied: dm-tree~=0.1.1 in /usr/local/lib/python3.7/dist-packages (from tensorflow-model-optimization) (0.1.7)\n",
            "Requirement already satisfied: numpy~=1.14 in /usr/local/lib/python3.7/dist-packages (from tensorflow-model-optimization) (1.21.6)\n",
            "Requirement already satisfied: six~=1.10 in /usr/local/lib/python3.7/dist-packages (from tensorflow-model-optimization) (1.15.0)\n"
          ]
        }
      ]
    },
    {
      "cell_type": "code",
      "source": [
        "## Prunning the entire dataset\n",
        "\n",
        "import tensorflow_model_optimization as tfmot\n",
        "import numpy as np\n",
        "\n",
        "prune_low_magnitude = tfmot.sparsity.keras.prune_low_magnitude\n",
        "\n",
        "# batch_size & epochs stay the same as the baseline model\n",
        "batch_size = 64\n",
        "epochs = 1\n",
        "\n",
        "\n",
        "# Define model for pruning.\n",
        "# For the pruning schedule, we start at the sparsity level 50% \n",
        "# and gradually train the model to reach 90% sparsity. \n",
        "# 90% of the weight tensor is going to be pruned away.\n",
        "\n",
        "x = 0.2\n",
        "sparsity = []\n",
        "acc = []\n",
        "while x <= 0.9:\n",
        "  print(\"current x is: \",x)\n",
        "  sparsity.append(x)\n",
        "  pruning_params = {\n",
        "      'pruning_schedule': tfmot.sparsity.keras.ConstantSparsity(x, begin_step=0, frequency=100)\n",
        "  }\n",
        "  callbacks = [\n",
        "      tfmot.sparsity.keras.UpdatePruningStep()\n",
        "    ]\n",
        "\n",
        "  model_for_pruning = prune_low_magnitude(model, **pruning_params)\n",
        "\n",
        "  # `prune_low_magnitude` requires a recompile.\n",
        "  model_for_pruning.compile(optimizer='adam',\n",
        "                            loss=tf.keras.losses.SparseCategoricalCrossentropy(from_logits=True),\n",
        "                            metrics=['accuracy'])\n",
        "\n",
        "  history_pruned = model_for_pruning.fit(train_ds,\n",
        "                      batch_size=batch_size, epochs=epochs, validation_data=test_ds,\n",
        "                      callbacks=callbacks)\n",
        "    \n",
        "  _, model_for_pruning_accuracy = model_for_pruning.evaluate(test_ds, verbose=0)\n",
        "\n",
        "  print(\"current x is: \",x, \"and model acc is: \",model_for_pruning_accuracy)\n",
        "  acc.append(model_for_pruning_accuracy)\n",
        "  print(\"sparsity: \", sparsity)\n",
        "  print(\"accuracy list: \", acc)\n",
        "  x += 0.1\n",
        "\n",
        "# model_for_pruning.summary()"
      ],
      "metadata": {
        "id": "5TjUZxOvZO0c",
        "colab": {
          "base_uri": "https://localhost:8080/"
        },
        "outputId": "61e617fe-e798-4b8e-a356-f1177fdc2e83"
      },
      "execution_count": 15,
      "outputs": [
        {
          "output_type": "stream",
          "name": "stdout",
          "text": [
            "current x is:  0.2\n"
          ]
        },
        {
          "output_type": "stream",
          "name": "stderr",
          "text": [
            "/usr/local/lib/python3.7/dist-packages/tensorflow/python/util/dispatch.py:1082: UserWarning: \"`sparse_categorical_crossentropy` received `from_logits=True`, but the `output` argument was produced by a sigmoid or softmax activation and thus does not represent logits. Was this intended?\"\n",
            "  return dispatch_target(*args, **kwargs)\n"
          ]
        },
        {
          "output_type": "stream",
          "name": "stdout",
          "text": [
            "1562/1562 [==============================] - 646s 406ms/step - loss: 1.5754 - accuracy: 0.4294 - val_loss: 1.4803 - val_accuracy: 0.4769\n",
            "current x is:  0.2 and model acc is:  0.47706329822540283\n",
            "sparsity:  [0.2]\n",
            "accuracy list:  [0.47706329822540283]\n",
            "current x is:  0.30000000000000004\n",
            "1562/1562 [==============================] - 648s 408ms/step - loss: 1.2065 - accuracy: 0.5838 - val_loss: 1.0416 - val_accuracy: 0.6379\n",
            "current x is:  0.30000000000000004 and model acc is:  0.6375200152397156\n",
            "sparsity:  [0.2, 0.30000000000000004]\n",
            "accuracy list:  [0.47706329822540283, 0.6375200152397156]\n",
            "current x is:  0.4\n",
            "1562/1562 [==============================] - 676s 425ms/step - loss: 0.9976 - accuracy: 0.6614 - val_loss: 1.1092 - val_accuracy: 0.6146\n",
            "current x is:  0.4 and model acc is:  0.6145833134651184\n",
            "sparsity:  [0.2, 0.30000000000000004, 0.4]\n",
            "accuracy list:  [0.47706329822540283, 0.6375200152397156, 0.6145833134651184]\n",
            "current x is:  0.5\n",
            "1562/1562 [==============================] - 629s 396ms/step - loss: 0.8392 - accuracy: 0.7197 - val_loss: 0.8885 - val_accuracy: 0.6990\n",
            "current x is:  0.5 and model acc is:  0.6988180875778198\n",
            "sparsity:  [0.2, 0.30000000000000004, 0.4, 0.5]\n",
            "accuracy list:  [0.47706329822540283, 0.6375200152397156, 0.6145833134651184, 0.6988180875778198]\n",
            "current x is:  0.6\n",
            "1562/1562 [==============================] - 661s 416ms/step - loss: 0.7071 - accuracy: 0.7643 - val_loss: 0.8400 - val_accuracy: 0.7260\n",
            "current x is:  0.6 and model acc is:  0.7258613705635071\n",
            "sparsity:  [0.2, 0.30000000000000004, 0.4, 0.5, 0.6]\n",
            "accuracy list:  [0.47706329822540283, 0.6375200152397156, 0.6145833134651184, 0.6988180875778198, 0.7258613705635071]\n",
            "current x is:  0.7\n",
            "1562/1562 [==============================] - 621s 390ms/step - loss: 0.6081 - accuracy: 0.7995 - val_loss: 0.8082 - val_accuracy: 0.7373\n",
            "current x is:  0.7 and model acc is:  0.7368789911270142\n",
            "sparsity:  [0.2, 0.30000000000000004, 0.4, 0.5, 0.6, 0.7]\n",
            "accuracy list:  [0.47706329822540283, 0.6375200152397156, 0.6145833134651184, 0.6988180875778198, 0.7258613705635071, 0.7368789911270142]\n",
            "current x is:  0.7999999999999999\n",
            "1562/1562 [==============================] - 614s 386ms/step - loss: 0.5432 - accuracy: 0.8208 - val_loss: 0.8036 - val_accuracy: 0.7454\n",
            "current x is:  0.7999999999999999 and model acc is:  0.745192289352417\n",
            "sparsity:  [0.2, 0.30000000000000004, 0.4, 0.5, 0.6, 0.7, 0.7999999999999999]\n",
            "accuracy list:  [0.47706329822540283, 0.6375200152397156, 0.6145833134651184, 0.6988180875778198, 0.7258613705635071, 0.7368789911270142, 0.745192289352417]\n",
            "current x is:  0.8999999999999999\n",
            "1562/1562 [==============================] - 623s 392ms/step - loss: 0.6711 - accuracy: 0.7800 - val_loss: 0.7934 - val_accuracy: 0.7457\n",
            "current x is:  0.8999999999999999 and model acc is:  0.7452924847602844\n",
            "sparsity:  [0.2, 0.30000000000000004, 0.4, 0.5, 0.6, 0.7, 0.7999999999999999, 0.8999999999999999]\n",
            "accuracy list:  [0.47706329822540283, 0.6375200152397156, 0.6145833134651184, 0.6988180875778198, 0.7258613705635071, 0.7368789911270142, 0.745192289352417, 0.7452924847602844]\n"
          ]
        }
      ]
    },
    {
      "cell_type": "code",
      "source": [
        "sparsity = [round(x, 2) for x in sparsity]\n",
        "sparsity"
      ],
      "metadata": {
        "id": "xO65-xSKut59",
        "colab": {
          "base_uri": "https://localhost:8080/"
        },
        "outputId": "97aafc4c-4bb6-4589-cb3e-fb03fd037771"
      },
      "execution_count": 17,
      "outputs": [
        {
          "output_type": "execute_result",
          "data": {
            "text/plain": [
              "[0.2, 0.3, 0.4, 0.5, 0.6, 0.7, 0.8, 0.9]"
            ]
          },
          "metadata": {},
          "execution_count": 17
        }
      ]
    },
    {
      "cell_type": "code",
      "source": [
        "acc"
      ],
      "metadata": {
        "id": "1RQ_VgnPuwv0",
        "colab": {
          "base_uri": "https://localhost:8080/"
        },
        "outputId": "0249ffc9-d79e-47f4-da5f-af2af7193f1c"
      },
      "execution_count": 18,
      "outputs": [
        {
          "output_type": "execute_result",
          "data": {
            "text/plain": [
              "[0.47706329822540283,\n",
              " 0.6375200152397156,\n",
              " 0.6145833134651184,\n",
              " 0.6988180875778198,\n",
              " 0.7258613705635071,\n",
              " 0.7368789911270142,\n",
              " 0.745192289352417,\n",
              " 0.7452924847602844]"
            ]
          },
          "metadata": {},
          "execution_count": 18
        }
      ]
    },
    {
      "cell_type": "code",
      "source": [
        "# # fit the pruned model\n",
        "\n",
        "# logdir = tempfile.mkdtemp()\n",
        "\n",
        "# callbacks = [\n",
        "#   tfmot.sparsity.keras.UpdatePruningStep(),\n",
        "#   tfmot.sparsity.keras.PruningSummaries(log_dir=logdir),\n",
        "# ]\n",
        "\n",
        "# history_pruned = model_for_pruning.fit(x_train,y_train,\n",
        "#                   batch_size=batch_size, epochs=epochs, validation_split=validation_split,\n",
        "#                   callbacks=callbacks)"
      ],
      "metadata": {
        "id": "7d-X3PqEE_25"
      },
      "execution_count": 19,
      "outputs": []
    },
    {
      "cell_type": "code",
      "source": [
        "# Test out pruned model accuracy\n",
        "# _, model_for_pruning_accuracy = model_for_pruning.evaluate(\n",
        "#    x_train,y_train, verbose=0)"
      ],
      "metadata": {
        "id": "sTkfl80b2o-m"
      },
      "execution_count": 20,
      "outputs": []
    },
    {
      "cell_type": "code",
      "source": [
        "# compare results\n",
        "print('Baseline test accuracy:', baseline_model_accuracy) \n",
        "print('Pruned test accuracy:', model_for_pruning_accuracy)"
      ],
      "metadata": {
        "id": "cy5TXkXi3GP4",
        "colab": {
          "base_uri": "https://localhost:8080/"
        },
        "outputId": "196dd008-510f-4537-ca73-b5c4956b0f27"
      },
      "execution_count": 21,
      "outputs": [
        {
          "output_type": "stream",
          "name": "stdout",
          "text": [
            "Baseline test accuracy: 0.4344951808452606\n",
            "Pruned test accuracy: 0.7452924847602844\n"
          ]
        }
      ]
    },
    {
      "cell_type": "code",
      "source": [
        "# Once our pre-trained model achieved desirable accuracy\n",
        "# we save the model trained model and make it “prunable”\n",
        "# _, keras_file = tempfile.mkstemp('.h5')\n",
        "# tf.keras.models.save_model(model_for_pruning, keras_file, include_optimizer=False)\n",
        "# print('Saved baseline model to:', keras_file)"
      ],
      "metadata": {
        "id": "6CCXJzyLSTvd"
      },
      "execution_count": 22,
      "outputs": []
    },
    {
      "cell_type": "code",
      "source": [
        "compression_ratio = [1/x for x in sparsity]\n",
        "compression_ratio"
      ],
      "metadata": {
        "id": "ILkolML0DH5Q",
        "colab": {
          "base_uri": "https://localhost:8080/"
        },
        "outputId": "be7b18d2-88a5-4f3a-d896-3abb53b4dc20"
      },
      "execution_count": 23,
      "outputs": [
        {
          "output_type": "execute_result",
          "data": {
            "text/plain": [
              "[5.0,\n",
              " 3.3333333333333335,\n",
              " 2.5,\n",
              " 2.0,\n",
              " 1.6666666666666667,\n",
              " 1.4285714285714286,\n",
              " 1.25,\n",
              " 1.1111111111111112]"
            ]
          },
          "metadata": {},
          "execution_count": 23
        }
      ]
    },
    {
      "cell_type": "code",
      "source": [
        "acc"
      ],
      "metadata": {
        "id": "DfUOmFwRHqFg",
        "colab": {
          "base_uri": "https://localhost:8080/"
        },
        "outputId": "ef5a25ce-3d7e-4921-d710-caa06d4d88e0"
      },
      "execution_count": 24,
      "outputs": [
        {
          "output_type": "execute_result",
          "data": {
            "text/plain": [
              "[0.47706329822540283,\n",
              " 0.6375200152397156,\n",
              " 0.6145833134651184,\n",
              " 0.6988180875778198,\n",
              " 0.7258613705635071,\n",
              " 0.7368789911270142,\n",
              " 0.745192289352417,\n",
              " 0.7452924847602844]"
            ]
          },
          "metadata": {},
          "execution_count": 24
        }
      ]
    },
    {
      "cell_type": "code",
      "source": [
        "# pruned model saved\n",
        "_, pruned_keras_file = tempfile.mkstemp('.h5')\n",
        "print('Saving model to: ', pruned_keras_file)\n",
        "tf.keras.models.save_model(model_for_pruning, pruned_keras_file, include_optimizer=False)"
      ],
      "metadata": {
        "id": "lAPakfQNktBP",
        "colab": {
          "base_uri": "https://localhost:8080/"
        },
        "outputId": "833b2078-3256-4441-edb1-bc27baa21ed3"
      },
      "execution_count": 25,
      "outputs": [
        {
          "output_type": "stream",
          "name": "stdout",
          "text": [
            "Saving model to:  /tmp/tmppx9g7aru.h5\n"
          ]
        }
      ]
    },
    {
      "cell_type": "code",
      "source": [
        "###############################\n",
        "###### PRUNING RESULT #########\n",
        "###############################"
      ],
      "metadata": {
        "id": "ouYSl9PxkTbn"
      },
      "execution_count": 26,
      "outputs": []
    },
    {
      "cell_type": "code",
      "source": [
        "# compression ratio vs accuracy graph\n",
        "import matplotlib.pyplot as plt\n",
        "\n",
        "fig, ax = plt.subplots()\n",
        "# plt.scatter(compression_rat, acc)\n",
        "ax.plot(compression_ratio, acc, linewidth=2.0)\n",
        "plt.xlabel('Compresion Ratio')\n",
        "plt.ylabel('Accuracy')\n",
        "plt.title('Compresion Ratio VS Accuracy')\n",
        "plt.show()"
      ],
      "metadata": {
        "id": "l4WKeq4Z9jgn",
        "colab": {
          "base_uri": "https://localhost:8080/",
          "height": 295
        },
        "outputId": "2085bce5-0e2b-4a00-f234-e0526c97c8a1"
      },
      "execution_count": 27,
      "outputs": [
        {
          "output_type": "display_data",
          "data": {
            "text/plain": [
              "<Figure size 432x288 with 1 Axes>"
            ],
            "image/png": "[encoded data removed]"
          },
          "metadata": {
            "needs_background": "light"
          }
        }
      ]
    },
    {
      "cell_type": "code",
      "source": [
        "# accuracy results\n",
        "print('Baseline test accuracy:', baseline_model_accuracy) \n",
        "print('Pruned test accuracy (90% pruned rate):', model_for_pruning_accuracy)"
      ],
      "metadata": {
        "id": "TaXou0THFM68",
        "colab": {
          "base_uri": "https://localhost:8080/"
        },
        "outputId": "1fc02780-36d6-46f2-f1fa-9915c698bb60"
      },
      "execution_count": 28,
      "outputs": [
        {
          "output_type": "stream",
          "name": "stdout",
          "text": [
            "Baseline test accuracy: 0.4344951808452606\n",
            "Pruned test accuracy (90% pruned rate): 0.7452924847602844\n"
          ]
        }
      ]
    },
    {
      "cell_type": "code",
      "source": [
        "# pruned model summary\n",
        "# model_for_pruning.summary()"
      ],
      "metadata": {
        "id": "1kkGkxKBIhxQ"
      },
      "execution_count": 29,
      "outputs": []
    },
    {
      "cell_type": "code",
      "source": [
        "# base model summary\n",
        "# model.summary()"
      ],
      "metadata": {
        "id": "aBpM7UF9Kzog"
      },
      "execution_count": 30,
      "outputs": []
    },
    {
      "cell_type": "code",
      "source": [
        "# helper function to get model size\n",
        "def get_gzipped_model_size(file):\n",
        "  # Returns size of gzipped model, in bytes.\n",
        "  import os\n",
        "  import zipfile\n",
        "\n",
        "  _, zipped_file = tempfile.mkstemp('.zip')\n",
        "  with zipfile.ZipFile(zipped_file, 'w', compression=zipfile.ZIP_DEFLATED) as f:\n",
        "    f.write(file)\n",
        "\n",
        "  return os.path.getsize(zipped_file)"
      ],
      "metadata": {
        "id": "H1Fm186si2le"
      },
      "execution_count": 31,
      "outputs": []
    },
    {
      "cell_type": "code",
      "source": [
        "# compare model size\n",
        "print(\"Size of gzipped baseline Keras model: %.2f bytes\" % (get_gzipped_model_size(keras_file)))\n",
        "print(\"Size of gzipped pruned Keras model: %.2f bytes\" % (get_gzipped_model_size(pruned_keras_file)))"
      ],
      "metadata": {
        "id": "pSF_b1K2klTA",
        "colab": {
          "base_uri": "https://localhost:8080/"
        },
        "outputId": "4e2a12a9-c761-428d-afa8-2f16a7f9d89d"
      },
      "execution_count": 32,
      "outputs": [
        {
          "output_type": "stream",
          "name": "stdout",
          "text": [
            "Size of gzipped baseline Keras model: 10746207.00 bytes\n",
            "Size of gzipped pruned Keras model: 2653329.00 bytes\n"
          ]
        }
      ]
    },
    {
      "cell_type": "code",
      "source": [
        "# confusion matrix for based model\n",
        "# from sklearn.metrics import confusion_matrix\n",
        "# import numpy as np\n",
        "# test_predictions = model.predict(x_test)\n",
        "# confusion = confusion_matrix(y_test, np.argmax(test_predictions,axis=1))\n",
        "# confusion"
      ],
      "metadata": {
        "id": "lo8-Oz4ystSc"
      },
      "execution_count": 33,
      "outputs": []
    },
    {
      "cell_type": "code",
      "source": [
        "# confusion matrix for pruned model\n",
        "# p_test_predictions = model_for_pruning.predict(x_test)\n",
        "# p_confusion = confusion_matrix(y_test, np.argmax(p_test_predictions,axis=1))\n",
        "# p_confusion"
      ],
      "metadata": {
        "id": "GeAi6GZ6pm6i"
      },
      "execution_count": 34,
      "outputs": []
    },
    {
      "cell_type": "code",
      "source": [
        "###############################\n",
        "######## Quantization #########\n",
        "###############################"
      ],
      "metadata": {
        "id": "v5yiAke-NVhG"
      },
      "execution_count": 35,
      "outputs": []
    },
    {
      "cell_type": "code",
      "source": [
        "## Quantization \n",
        "import tensorflow_model_optimization as tfmot\n",
        "\n",
        "model_quant = tfmot.quantization.keras.quantize_model(model)\n",
        "model_quant.compile(optimizer='adam', loss=tf.losses.sparse_categorical_crossentropy, metrics=['accuracy'])\n",
        "model_quant.summary()\n"
      ],
      "metadata": {
        "id": "quDmyFES3QkO",
        "colab": {
          "base_uri": "https://localhost:8080/"
        },
        "outputId": "1c4659f5-b7dc-4c38-9ee1-e23e9659f81e"
      },
      "execution_count": 37,
      "outputs": [
        {
          "output_type": "stream",
          "name": "stdout",
          "text": [
            "Model: \"sequential_1\"\n",
            "_________________________________________________________________\n",
            " Layer (type)                Output Shape              Param #   \n",
            "=================================================================\n",
            " quantize_layer_1 (QuantizeL  (None, 64, 64, 3)        3         \n",
            " ayer)                                                           \n",
            "                                                                 \n",
            " quant_conv2d_5 (QuantizeWra  (None, 14, 14, 128)      46849     \n",
            " pperV2)                                                         \n",
            "                                                                 \n",
            " quant_batch_normalization_5  (None, 14, 14, 128)      513       \n",
            "  (QuantizeWrapperV2)                                            \n",
            "                                                                 \n",
            " quant_activation_5 (Quantiz  (None, 14, 14, 128)      3         \n",
            " eWrapperV2)                                                     \n",
            "                                                                 \n",
            " quant_max_pooling2d_3 (Quan  (None, 7, 7, 128)        1         \n",
            " tizeWrapperV2)                                                  \n",
            "                                                                 \n",
            " quant_conv2d_6 (QuantizeWra  (None, 7, 7, 256)        819969    \n",
            " pperV2)                                                         \n",
            "                                                                 \n",
            " quant_batch_normalization_6  (None, 7, 7, 256)        1025      \n",
            "  (QuantizeWrapperV2)                                            \n",
            "                                                                 \n",
            " quant_activation_6 (Quantiz  (None, 7, 7, 256)        3         \n",
            " eWrapperV2)                                                     \n",
            "                                                                 \n",
            " quant_max_pooling2d_4 (Quan  (None, 2, 2, 256)        1         \n",
            " tizeWrapperV2)                                                  \n",
            "                                                                 \n",
            " quant_conv2d_7 (QuantizeWra  (None, 2, 2, 256)        590593    \n",
            " pperV2)                                                         \n",
            "                                                                 \n",
            " quant_batch_normalization_7  (None, 2, 2, 256)        1025      \n",
            "  (QuantizeWrapperV2)                                            \n",
            "                                                                 \n",
            " quant_activation_7 (Quantiz  (None, 2, 2, 256)        3         \n",
            " eWrapperV2)                                                     \n",
            "                                                                 \n",
            " quant_conv2d_8 (QuantizeWra  (None, 2, 2, 256)        66305     \n",
            " pperV2)                                                         \n",
            "                                                                 \n",
            " quant_batch_normalization_8  (None, 2, 2, 256)        1025      \n",
            "  (QuantizeWrapperV2)                                            \n",
            "                                                                 \n",
            " quant_activation_8 (Quantiz  (None, 2, 2, 256)        3         \n",
            " eWrapperV2)                                                     \n",
            "                                                                 \n",
            " quant_conv2d_9 (QuantizeWra  (None, 2, 2, 256)        66305     \n",
            " pperV2)                                                         \n",
            "                                                                 \n",
            " quant_batch_normalization_9  (None, 2, 2, 256)        1025      \n",
            "  (QuantizeWrapperV2)                                            \n",
            "                                                                 \n",
            " quant_activation_9 (Quantiz  (None, 2, 2, 256)        3         \n",
            " eWrapperV2)                                                     \n",
            "                                                                 \n",
            " quant_max_pooling2d_5 (Quan  (None, 1, 1, 256)        1         \n",
            " tizeWrapperV2)                                                  \n",
            "                                                                 \n",
            " quant_flatten_1 (QuantizeWr  (None, 256)              1         \n",
            " apperV2)                                                        \n",
            "                                                                 \n",
            " quant_dense_3 (QuantizeWrap  (None, 1024)             263173    \n",
            " perV2)                                                          \n",
            "                                                                 \n",
            " quant_dropout_2 (QuantizeWr  (None, 1024)             1         \n",
            " apperV2)                                                        \n",
            "                                                                 \n",
            " quant_dense_4 (QuantizeWrap  (None, 1024)             1049605   \n",
            " perV2)                                                          \n",
            "                                                                 \n",
            " quant_dropout_3 (QuantizeWr  (None, 1024)             1         \n",
            " apperV2)                                                        \n",
            "                                                                 \n",
            " quant_dense_5 (QuantizeWrap  (None, 10)               10255     \n",
            " perV2)                                                          \n",
            "                                                                 \n",
            "=================================================================\n",
            "Total params: 2,917,691\n",
            "Trainable params: 2,913,034\n",
            "Non-trainable params: 4,657\n",
            "_________________________________________________________________\n"
          ]
        }
      ]
    },
    {
      "cell_type": "code",
      "source": [
        "model_quant.fit(train_ds, batch_size=64, epochs=1, validation_data=test_ds)"
      ],
      "metadata": {
        "id": "8qrVIH4-cts5",
        "colab": {
          "base_uri": "https://localhost:8080/"
        },
        "outputId": "e250c5a0-fc71-4795-83e3-99614208ad87"
      },
      "execution_count": 38,
      "outputs": [
        {
          "output_type": "stream",
          "name": "stdout",
          "text": [
            "1562/1562 [==============================] - 771s 485ms/step - loss: 0.9192 - accuracy: 0.7000 - val_loss: 0.9634 - val_accuracy: 0.6793\n"
          ]
        },
        {
          "output_type": "execute_result",
          "data": {
            "text/plain": [
              "<keras.callbacks.History at 0x7f8d30525510>"
            ]
          },
          "metadata": {},
          "execution_count": 38
        }
      ]
    },
    {
      "cell_type": "code",
      "source": [
        "# quant model saved\n",
        "converter = tf.lite.TFLiteConverter.from_keras_model(model_quant)\n",
        "quant_tflite_model = converter.convert()\n",
        "\n",
        "_, quant_tflite_file = tempfile.mkstemp('.h5')\n",
        "\n",
        "with open(quant_tflite_file, 'wb') as f:\n",
        "  f.write(quant_tflite_model)\n",
        "\n",
        "print('Saved pruned TFLite model to:', quant_tflite_file)\n"
      ],
      "metadata": {
        "id": "6MnrqkLuEAyM",
        "colab": {
          "base_uri": "https://localhost:8080/"
        },
        "outputId": "1837f61c-69f7-4b07-a11c-bcb9a8d18d05"
      },
      "execution_count": 39,
      "outputs": [
        {
          "output_type": "stream",
          "name": "stderr",
          "text": [
            "WARNING:absl:Found untraced functions such as conv2d_5_layer_call_fn, conv2d_5_layer_call_and_return_conditional_losses, _jit_compiled_convolution_op, activation_5_layer_call_fn, activation_5_layer_call_and_return_conditional_losses while saving (showing 5 of 37). These functions will not be directly callable after loading.\n"
          ]
        },
        {
          "output_type": "stream",
          "name": "stdout",
          "text": [
            "Saved pruned TFLite model to: /tmp/tmpr1abvplv.h5\n"
          ]
        }
      ]
    },
    {
      "cell_type": "code",
      "source": [
        "#####################################\n",
        "######## Quantization Result#########\n",
        "#####################################"
      ],
      "metadata": {
        "id": "Di97YRZXD7ki"
      },
      "execution_count": null,
      "outputs": []
    },
    {
      "cell_type": "code",
      "source": [
        "# Accuracy comparisons\n",
        "_, model_quant_accuracy = model_quant.evaluate(test_ds, verbose=0)\n",
        "print('Baseline test accuracy:', baseline_model_accuracy) \n",
        "print('Quantization test accuracy:', model_quant_accuracy)"
      ],
      "metadata": {
        "id": "mswjUhcs41Vr",
        "colab": {
          "base_uri": "https://localhost:8080/"
        },
        "outputId": "5f4b23f2-0b87-436c-a770-0877b05f761e"
      },
      "execution_count": 41,
      "outputs": [
        {
          "output_type": "stream",
          "name": "stdout",
          "text": [
            "Baseline test accuracy: 0.4344951808452606\n",
            "Quantization test accuracy: 0.6790865659713745\n"
          ]
        }
      ]
    },
    {
      "cell_type": "code",
      "source": [
        "# compare model size\n",
        "print(\"Size of gzipped baseline Keras model: %.2f bytes\" % (get_gzipped_model_size(keras_file)))\n",
        "print(\"Size of gzipped quantization Keras model: %.2f bytes\" % (get_gzipped_model_size(quant_tflite_file)))"
      ],
      "metadata": {
        "id": "kMYVTyOYEA1w",
        "colab": {
          "base_uri": "https://localhost:8080/"
        },
        "outputId": "07b9d014-612c-4ac5-c0b8-2a92c3e8e90b"
      },
      "execution_count": 42,
      "outputs": [
        {
          "output_type": "stream",
          "name": "stdout",
          "text": [
            "Size of gzipped baseline Keras model: 10746207.00 bytes\n",
            "Size of gzipped quantization Keras model: 7661527.00 bytes\n"
          ]
        }
      ]
    },
    {
      "cell_type": "code",
      "source": [
        "#########################################\n",
        "######## Pruning + Quantization #########\n",
        "#########################################"
      ],
      "metadata": {
        "id": "W49wlVCs7XpU"
      },
      "execution_count": null,
      "outputs": []
    },
    {
      "cell_type": "code",
      "source": [
        "## Prunning the entire dataset\n",
        "\n",
        "import tensorflow_model_optimization as tfmot\n",
        "import numpy as np\n",
        "\n",
        "prune_low_magnitude = tfmot.sparsity.keras.prune_low_magnitude\n",
        "\n",
        "# batch_size & epochs stay the same as the baseline model\n",
        "batch_size = 64\n",
        "epochs = 1\n",
        "\n",
        "\n",
        "# Define model for pruning.\n",
        "# For the pruning schedule, we start at the sparsity level 50% \n",
        "# and gradually train the model to reach 90% sparsity. \n",
        "# 90% of the weight tensor is going to be pruned away.\n",
        "\n",
        "x = 0.2\n",
        "sparsity_pq = []\n",
        "acc_pq = []\n",
        "while x <= 0.9:\n",
        "  print(\"current x is: \",x)\n",
        "  sparsity_pq.append(x)\n",
        "  pruning_params = {\n",
        "      'pruning_schedule': tfmot.sparsity.keras.ConstantSparsity(x, begin_step=0, frequency=100)\n",
        "  }\n",
        "  callbacks = [\n",
        "      tfmot.sparsity.keras.UpdatePruningStep()\n",
        "    ]\n",
        "\n",
        "  model_for_pruning = prune_low_magnitude(model, **pruning_params)\n",
        "\n",
        "  # `prune_low_magnitude` requires a recompile.\n",
        "  model_for_pruning.compile(optimizer='adam',\n",
        "                            loss=tf.keras.losses.SparseCategoricalCrossentropy(from_logits=True),\n",
        "                            metrics=['accuracy'])\n",
        "\n",
        "  history_pruned = model_for_pruning.fit(train_ds,\n",
        "                      batch_size=batch_size, epochs=epochs, validation_data=test_ds,\n",
        "                      callbacks=callbacks)\n",
        "\n",
        "                      \n",
        "  model_for_export = tfmot.sparsity.keras.strip_pruning(model_for_pruning)\n",
        "  model_quant_prune = tfmot.quantization.keras.quantize_model(model_for_export)\n",
        "  model_quant_prune.compile(optimizer='adam', loss=tf.losses.sparse_categorical_crossentropy, metrics=['accuracy'])\n",
        "  model_quant_prune.fit(train_ds, batch_size=batch_size, epochs=epochs, validation_data=test_ds)\n",
        "    \n",
        "  _, model_quant_prune_accuracy = model_quant_prune.evaluate(test_ds, verbose=0)\n",
        "\n",
        "  print(\"current x is: \",x, \"and model acc is: \",model_quant_prune_accuracy)\n",
        "  acc_pq.append(model_quant_prune_accuracy)\n",
        "  print(\"sparsity: \", sparsity_pq)\n",
        "  print(\"accuracy list: \", acc_pq)\n",
        "  x += 0.1\n",
        "\n",
        "# model_for_pruning.summary()"
      ],
      "metadata": {
        "id": "VWv7GXZ7RLAV",
        "colab": {
          "base_uri": "https://localhost:8080/"
        },
        "outputId": "8b8a7fb7-5c64-4cb1-e41f-8d7ab29fc28e"
      },
      "execution_count": 43,
      "outputs": [
        {
          "output_type": "stream",
          "name": "stdout",
          "text": [
            "current x is:  0.2\n"
          ]
        },
        {
          "output_type": "stream",
          "name": "stderr",
          "text": [
            "/usr/local/lib/python3.7/dist-packages/tensorflow/python/util/dispatch.py:1082: UserWarning: \"`sparse_categorical_crossentropy` received `from_logits=True`, but the `output` argument was produced by a sigmoid or softmax activation and thus does not represent logits. Was this intended?\"\n",
            "  return dispatch_target(*args, **kwargs)\n"
          ]
        },
        {
          "output_type": "stream",
          "name": "stdout",
          "text": [
            "1562/1562 [==============================] - 629s 396ms/step - loss: 0.8514 - accuracy: 0.7235 - val_loss: 0.8724 - val_accuracy: 0.7072\n",
            "1562/1562 [==============================] - 743s 471ms/step - loss: 0.8141 - accuracy: 0.7356 - val_loss: 0.9574 - val_accuracy: 0.6947\n",
            "current x is:  0.2 and model acc is:  0.6948117017745972\n",
            "sparsity:  [0.2]\n",
            "accuracy list:  [0.6948117017745972]\n",
            "current x is:  0.30000000000000004\n",
            "1562/1562 [==============================] - 653s 410ms/step - loss: 0.7258 - accuracy: 0.7668 - val_loss: 0.8858 - val_accuracy: 0.7068\n",
            "1562/1562 [==============================] - 783s 498ms/step - loss: 0.7301 - accuracy: 0.7631 - val_loss: 0.9430 - val_accuracy: 0.7011\n",
            "current x is:  0.30000000000000004 and model acc is:  0.7014222741127014\n",
            "sparsity:  [0.2, 0.30000000000000004]\n",
            "accuracy list:  [0.6948117017745972, 0.7014222741127014]\n",
            "current x is:  0.4\n",
            "1562/1562 [==============================] - 652s 410ms/step - loss: 0.6065 - accuracy: 0.8049 - val_loss: 0.8809 - val_accuracy: 0.7271\n",
            "1562/1562 [==============================] - 758s 481ms/step - loss: 0.6550 - accuracy: 0.7918 - val_loss: 1.0375 - val_accuracy: 0.6856\n",
            "current x is:  0.4 and model acc is:  0.6855969429016113\n",
            "sparsity:  [0.2, 0.30000000000000004, 0.4]\n",
            "accuracy list:  [0.6948117017745972, 0.7014222741127014, 0.6855969429016113]\n",
            "current x is:  0.5\n",
            "1562/1562 [==============================] - 638s 401ms/step - loss: 0.4960 - accuracy: 0.8401 - val_loss: 0.9169 - val_accuracy: 0.7219\n",
            "1562/1562 [==============================] - 755s 480ms/step - loss: 0.6089 - accuracy: 0.8044 - val_loss: 0.9618 - val_accuracy: 0.7009\n",
            "current x is:  0.5 and model acc is:  0.7003205418586731\n",
            "sparsity:  [0.2, 0.30000000000000004, 0.4, 0.5]\n",
            "accuracy list:  [0.6948117017745972, 0.7014222741127014, 0.6855969429016113, 0.7003205418586731]\n",
            "current x is:  0.6\n",
            "1562/1562 [==============================] - 674s 424ms/step - loss: 0.4011 - accuracy: 0.8723 - val_loss: 0.9057 - val_accuracy: 0.7445\n",
            "1562/1562 [==============================] - 802s 507ms/step - loss: 0.5706 - accuracy: 0.8176 - val_loss: 0.9806 - val_accuracy: 0.7009\n",
            "current x is:  0.6 and model acc is:  0.7012219429016113\n",
            "sparsity:  [0.2, 0.30000000000000004, 0.4, 0.5, 0.6]\n",
            "accuracy list:  [0.6948117017745972, 0.7014222741127014, 0.6855969429016113, 0.7003205418586731, 0.7012219429016113]\n",
            "current x is:  0.7\n",
            "1562/1562 [==============================] - 643s 405ms/step - loss: 0.3382 - accuracy: 0.8923 - val_loss: 0.9493 - val_accuracy: 0.7522\n",
            "1562/1562 [==============================] - 759s 482ms/step - loss: 0.5717 - accuracy: 0.8188 - val_loss: 1.0390 - val_accuracy: 0.6993\n",
            "current x is:  0.7 and model acc is:  0.6994190812110901\n",
            "sparsity:  [0.2, 0.30000000000000004, 0.4, 0.5, 0.6, 0.7]\n",
            "accuracy list:  [0.6948117017745972, 0.7014222741127014, 0.6855969429016113, 0.7003205418586731, 0.7012219429016113, 0.6994190812110901]\n",
            "current x is:  0.7999999999999999\n",
            "1562/1562 [==============================] - 612s 385ms/step - loss: 0.3017 - accuracy: 0.9029 - val_loss: 1.0823 - val_accuracy: 0.7510\n",
            "1562/1562 [==============================] - 751s 476ms/step - loss: 0.5909 - accuracy: 0.8116 - val_loss: 0.9727 - val_accuracy: 0.6958\n",
            "current x is:  0.7999999999999999 and model acc is:  0.6957131624221802\n",
            "sparsity:  [0.2, 0.30000000000000004, 0.4, 0.5, 0.6, 0.7, 0.7999999999999999]\n",
            "accuracy list:  [0.6948117017745972, 0.7014222741127014, 0.6855969429016113, 0.7003205418586731, 0.7012219429016113, 0.6994190812110901, 0.6957131624221802]\n",
            "current x is:  0.8999999999999999\n",
            "1562/1562 [==============================] - 662s 416ms/step - loss: 0.3960 - accuracy: 0.8745 - val_loss: 1.0037 - val_accuracy: 0.7447\n",
            "1562/1562 [==============================] - 834s 528ms/step - loss: 0.7321 - accuracy: 0.7658 - val_loss: 0.9596 - val_accuracy: 0.7024\n",
            "current x is:  0.8999999999999999 and model acc is:  0.7026242017745972\n",
            "sparsity:  [0.2, 0.30000000000000004, 0.4, 0.5, 0.6, 0.7, 0.7999999999999999, 0.8999999999999999]\n",
            "accuracy list:  [0.6948117017745972, 0.7014222741127014, 0.6855969429016113, 0.7003205418586731, 0.7012219429016113, 0.6994190812110901, 0.6957131624221802, 0.7026242017745972]\n"
          ]
        }
      ]
    },
    {
      "cell_type": "code",
      "source": [
        "converter = tf.lite.TFLiteConverter.from_keras_model(model_for_export)\n",
        "converter.optimizations = [tf.lite.Optimize.DEFAULT]\n",
        "quantized_and_pruned_tflite_model = converter.convert()\n",
        "\n",
        "_, quantized_and_pruned_tflite_file = tempfile.mkstemp('.tflite')\n",
        "with open(quantized_and_pruned_tflite_file, 'wb') as f:\n",
        "  f.write(quantized_and_pruned_tflite_model)"
      ],
      "metadata": {
        "id": "GTg8KW_GjfK1",
        "colab": {
          "base_uri": "https://localhost:8080/"
        },
        "outputId": "98990682-183a-4a11-8582-3600b6bd43db"
      },
      "execution_count": 44,
      "outputs": [
        {
          "output_type": "stream",
          "name": "stderr",
          "text": [
            "WARNING:absl:Found untraced functions such as _jit_compiled_convolution_op, _jit_compiled_convolution_op, _jit_compiled_convolution_op, _jit_compiled_convolution_op, _jit_compiled_convolution_op while saving (showing 5 of 5). These functions will not be directly callable after loading.\n"
          ]
        }
      ]
    },
    {
      "cell_type": "code",
      "source": [
        "#########################################\n",
        "##### Pruning + Quantization Result #####\n",
        "#########################################"
      ],
      "metadata": {
        "id": "WFbg8mQ6lk2B"
      },
      "execution_count": 45,
      "outputs": []
    },
    {
      "cell_type": "code",
      "source": [
        "compression_pq_ratio = [1/x for x in sparsity_pq]\n",
        "compression_pq_ratio"
      ],
      "metadata": {
        "id": "IPueWNHHhOLQ",
        "colab": {
          "base_uri": "https://localhost:8080/"
        },
        "outputId": "62e37b30-ceed-4e42-f033-481b09229600"
      },
      "execution_count": 46,
      "outputs": [
        {
          "output_type": "execute_result",
          "data": {
            "text/plain": [
              "[5.0,\n",
              " 3.333333333333333,\n",
              " 2.5,\n",
              " 2.0,\n",
              " 1.6666666666666667,\n",
              " 1.4285714285714286,\n",
              " 1.25,\n",
              " 1.1111111111111112]"
            ]
          },
          "metadata": {},
          "execution_count": 46
        }
      ]
    },
    {
      "cell_type": "code",
      "source": [
        "acc_pq"
      ],
      "metadata": {
        "id": "s7GVuNyWFzMA",
        "colab": {
          "base_uri": "https://localhost:8080/"
        },
        "outputId": "4d3c8e23-79bb-4052-ead2-ed223712f9ee"
      },
      "execution_count": 47,
      "outputs": [
        {
          "output_type": "execute_result",
          "data": {
            "text/plain": [
              "[0.6948117017745972,\n",
              " 0.7014222741127014,\n",
              " 0.6855969429016113,\n",
              " 0.7003205418586731,\n",
              " 0.7012219429016113,\n",
              " 0.6994190812110901,\n",
              " 0.6957131624221802,\n",
              " 0.7026242017745972]"
            ]
          },
          "metadata": {},
          "execution_count": 47
        }
      ]
    },
    {
      "cell_type": "code",
      "source": [
        "# compression ratio vs accuracy graph\n",
        "import matplotlib.pyplot as plt\n",
        "\n",
        "fig, ax = plt.subplots()\n",
        "# plt.scatter(compression_rat, acc)\n",
        "ax.plot(compression_pq_ratio, acc_pq, linewidth=2.0)\n",
        "plt.xlabel('Compresion Ratio(Pruned + Quantization)')\n",
        "plt.ylabel('Accuracy')\n",
        "plt.title('Compresion Ratio(Pruned + Quantization) VS Accuracy')\n",
        "plt.show()"
      ],
      "metadata": {
        "id": "46peLtbOhON_",
        "colab": {
          "base_uri": "https://localhost:8080/",
          "height": 295
        },
        "outputId": "a1e72ea0-3573-44e0-8498-445e77d629c1"
      },
      "execution_count": 48,
      "outputs": [
        {
          "output_type": "display_data",
          "data": {
            "text/plain": [
              "<Figure size 432x288 with 1 Axes>"
            ],
            "image/png": "[encoded data removed]"
          },
          "metadata": {
            "needs_background": "light"
          }
        }
      ]
    },
    {
      "cell_type": "code",
      "source": [
        "# accuracy results\n",
        "print('Baseline test accuracy:', baseline_model_accuracy) \n",
        "print('Pruned + Quantization test accuracy:', model_quant_prune_accuracy)"
      ],
      "metadata": {
        "id": "18J3MhF2hOTF",
        "colab": {
          "base_uri": "https://localhost:8080/"
        },
        "outputId": "f53134a6-86f5-46bf-8e2e-ab13d50db95d"
      },
      "execution_count": 49,
      "outputs": [
        {
          "output_type": "stream",
          "name": "stdout",
          "text": [
            "Baseline test accuracy: 0.4344951808452606\n",
            "Pruned + Quantization test accuracy: 0.7026242017745972\n"
          ]
        }
      ]
    },
    {
      "cell_type": "code",
      "source": [
        "# compare model size\n",
        "print(\"Size of gzipped baseline Keras model: %.2f bytes\" % (get_gzipped_model_size(keras_file)))\n",
        "print(\"Size of gzipped pruned and quantized TFlite model: %.2f bytes\" % (get_gzipped_model_size(quantized_and_pruned_tflite_file)))"
      ],
      "metadata": {
        "id": "B1dOY6GGhOY_",
        "colab": {
          "base_uri": "https://localhost:8080/"
        },
        "outputId": "2a85617d-785b-4585-c187-6e909c473e5d"
      },
      "execution_count": 50,
      "outputs": [
        {
          "output_type": "stream",
          "name": "stdout",
          "text": [
            "Size of gzipped baseline Keras model: 10746207.00 bytes\n",
            "Size of gzipped pruned and quantized TFlite model: 613250.00 bytes\n"
          ]
        }
      ]
    },
    {
      "cell_type": "code",
      "source": [
        "# confusion matrix for based model\n",
        "# from sklearn.metrics import confusion_matrix\n",
        "# import numpy as np\n",
        "# test_predictions = model.predict(x_test)\n",
        "# confusion = confusion_matrix(y_test, np.argmax(test_predictions,axis=1))\n",
        "# confusion"
      ],
      "metadata": {
        "id": "nshNE4_hhOat"
      },
      "execution_count": null,
      "outputs": []
    },
    {
      "cell_type": "code",
      "source": [
        "# confusion matrix for pruned+quantized model\n",
        "# pq_test_predictions = model_quant_prune.predict(x_test)\n",
        "# pq_confusion = confusion_matrix(y_test, np.argmax(pq_test_predictions,axis=1))\n",
        "# pq_confusion"
      ],
      "metadata": {
        "id": "TN-tW_D1lyVZ"
      },
      "execution_count": null,
      "outputs": []
    },
    {
      "cell_type": "code",
      "source": [],
      "metadata": {
        "id": "2ib1aHwYmEV7"
      },
      "execution_count": null,
      "outputs": []
    }
  ],
  "metadata": {
    "colab": {
      "provenance": []
    },
    "kernelspec": {
      "display_name": "Python 3",
      "name": "python3"
    },
    "language_info": {
      "name": "python"
    }
  },
  "nbformat": 4,
  "nbformat_minor": 0
}