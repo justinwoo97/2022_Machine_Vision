{
  "cells": [
    {
      "cell_type": "code",
      "execution_count": 1,
      "metadata": {
        "id": "cH8ZE_BW7xqc"
      },
      "outputs": [],
      "source": [
        "import numpy as np # linear algebra\n",
        "import pandas as pd # data processing, CSV file I/O (e.g. pd.read_csv)\n",
        "import tensorflow as tf\n",
        "from tensorflow import keras\n",
        "import matplotlib.pyplot as plt\n",
        "import os\n",
        "import time"
      ]
    },
    {
      "cell_type": "code",
      "execution_count": 4,
      "metadata": {
        "id": "a7HDRM0k71r8"
      },
      "outputs": [],
      "source": [
        "(x_train,y_train),(x_test,y_test) = keras.datasets.mnist.load_data()"
      ]
    },
    {
      "cell_type": "code",
      "source": [
        "alexnet_img_size = (227,227,3)"
      ],
      "metadata": {
        "id": "IoHGZG0SHPNh"
      },
      "execution_count": 3,
      "outputs": []
    },
    {
      "cell_type": "code",
      "source": [
        "no_of_images = 2000"
      ],
      "metadata": {
        "id": "4PuMBgsvEEyF"
      },
      "execution_count": 5,
      "outputs": []
    },
    {
      "cell_type": "code",
      "source": [
        "x_train = x_train[:no_of_images]\n",
        "y_train = y_train[:no_of_images]\n",
        "x_test = x_test[:int(no_of_images/2)]\n",
        "y_test = y_test[:int(no_of_images/2)]"
      ],
      "metadata": {
        "id": "UjCz8VaLEJhr"
      },
      "execution_count": 6,
      "outputs": []
    },
    {
      "cell_type": "code",
      "source": [
        "# Shape of Dataset\n",
        "test_shape = np.shape(x_test)\n",
        "train_shape = np.shape(x_train)\n"
      ],
      "metadata": {
        "id": "ge-3VT2JBj7U"
      },
      "execution_count": 7,
      "outputs": []
    },
    {
      "cell_type": "code",
      "source": [
        "def resize_images(images,img_size):\n",
        "    resized_images = []\n",
        "    \n",
        "    for i in tqdm(range(len(images))):\n",
        "        img = cv2.cvtColor(images[i], cv2.COLOR_GRAY2RGB)\n",
        "        resized_images.append(resize(img,(img_size),mode = 'constant'))\n",
        "    \n",
        "    return np.array(resized_images,dtype='float32')"
      ],
      "metadata": {
        "id": "oWRYI8JhFOml"
      },
      "execution_count": 8,
      "outputs": []
    },
    {
      "cell_type": "code",
      "source": [
        "from tqdm import tqdm\n",
        "import cv2\n",
        "from skimage.transform import resize\n",
        "\n",
        "print('Loading train data for AlexNet :')\n",
        "alex_train = resize_images(x_train,alexnet_img_size)\n",
        "\n",
        "print('Loading test data for AlexNet :')\n",
        "alex_test = resize_images(x_test,alexnet_img_size)"
      ],
      "metadata": {
        "colab": {
          "base_uri": "https://localhost:8080/"
        },
        "id": "Cy5a14oiHtIk",
        "outputId": "77351b20-e588-48a3-9a4d-119aa409e094"
      },
      "execution_count": 13,
      "outputs": [
        {
          "output_type": "stream",
          "name": "stdout",
          "text": [
            "Loading train data for AlexNet :\n"
          ]
        },
        {
          "output_type": "stream",
          "name": "stderr",
          "text": [
            "100%|██████████| 2000/2000 [00:20<00:00, 95.86it/s]\n"
          ]
        },
        {
          "output_type": "stream",
          "name": "stdout",
          "text": [
            "Loading test data for AlexNet :\n"
          ]
        },
        {
          "output_type": "stream",
          "name": "stderr",
          "text": [
            "100%|██████████| 1000/1000 [00:09<00:00, 101.13it/s]\n"
          ]
        }
      ]
    },
    {
      "cell_type": "code",
      "source": [
        "from sklearn.utils import shuffle\n",
        "alex_train, alex_train_labels = shuffle(alex_train, y_train, random_state=10)"
      ],
      "metadata": {
        "id": "0DZMs-61IGyS"
      },
      "execution_count": 15,
      "outputs": []
    },
    {
      "cell_type": "code",
      "source": [
        "alex_val, alex_val_labels = alex_train[:int(no_of_images/5)], alex_train_labels[:int(no_of_images/5)]"
      ],
      "metadata": {
        "id": "Y9NEKUJBISYw"
      },
      "execution_count": 16,
      "outputs": []
    },
    {
      "cell_type": "code",
      "source": [
        "x_train, y_train = alex_train, alex_train_labels\n",
        "x_test, y_test = alex_val, alex_val_labels"
      ],
      "metadata": {
        "id": "2uXwYIiIIWCv"
      },
      "execution_count": 17,
      "outputs": []
    },
    {
      "cell_type": "code",
      "source": [
        "model=keras.models.Sequential([\n",
        "    keras.layers.Conv2D(filters=128, kernel_size=(11,11), strides=(4,4), input_shape=(alexnet_img_size)),\n",
        "    keras.layers.BatchNormalization(),\n",
        "    keras.layers.Activation('relu'),\n",
        "    keras.layers.MaxPool2D(pool_size=(2,2)),\n",
        "    keras.layers.Conv2D(filters=256, kernel_size=(5,5), strides=(1,1), padding=\"same\"),\n",
        "    keras.layers.BatchNormalization(),\n",
        "    keras.layers.Activation('relu'),\n",
        "    keras.layers.MaxPool2D(pool_size=(3,3)),\n",
        "    keras.layers.Conv2D(filters=256, kernel_size=(3,3), strides=(1,1), padding=\"same\"),\n",
        "    keras.layers.BatchNormalization(),\n",
        "    keras.layers.Activation('relu'),\n",
        "    keras.layers.Conv2D(filters=256, kernel_size=(1,1), strides=(1,1), padding=\"same\"),\n",
        "    keras.layers.BatchNormalization(),\n",
        "    keras.layers.Activation('relu'),\n",
        "    keras.layers.Conv2D(filters=256, kernel_size=(1,1), strides=(1,1), padding=\"same\"),\n",
        "    keras.layers.BatchNormalization(),\n",
        "    keras.layers.Activation('relu'),\n",
        "    keras.layers.MaxPool2D(pool_size=(2,2)),\n",
        "    keras.layers.Flatten(),\n",
        "    keras.layers.Dense(1024,activation='relu'),\n",
        "    keras.layers.Dropout(0.5),\n",
        "    keras.layers.Dense(1024,activation='relu'),\n",
        "    keras.layers.Dropout(0.5),\n",
        "    keras.layers.Dense(10,activation='softmax')  \n",
        "    \n",
        "    \n",
        "])\n",
        "model.summary()"
      ],
      "metadata": {
        "colab": {
          "base_uri": "https://localhost:8080/"
        },
        "id": "RE8XyUy2_CGl",
        "outputId": "d3589003-8a2a-42cb-c191-388f9ef28c24"
      },
      "execution_count": 23,
      "outputs": [
        {
          "output_type": "stream",
          "name": "stdout",
          "text": [
            "Model: \"sequential_1\"\n",
            "_________________________________________________________________\n",
            " Layer (type)                Output Shape              Param #   \n",
            "=================================================================\n",
            " conv2d_5 (Conv2D)           (None, 55, 55, 128)       46592     \n",
            "                                                                 \n",
            " batch_normalization_5 (Batc  (None, 55, 55, 128)      512       \n",
            " hNormalization)                                                 \n",
            "                                                                 \n",
            " activation_5 (Activation)   (None, 55, 55, 128)       0         \n",
            "                                                                 \n",
            " max_pooling2d_3 (MaxPooling  (None, 27, 27, 128)      0         \n",
            " 2D)                                                             \n",
            "                                                                 \n",
            " conv2d_6 (Conv2D)           (None, 27, 27, 256)       819456    \n",
            "                                                                 \n",
            " batch_normalization_6 (Batc  (None, 27, 27, 256)      1024      \n",
            " hNormalization)                                                 \n",
            "                                                                 \n",
            " activation_6 (Activation)   (None, 27, 27, 256)       0         \n",
            "                                                                 \n",
            " max_pooling2d_4 (MaxPooling  (None, 9, 9, 256)        0         \n",
            " 2D)                                                             \n",
            "                                                                 \n",
            " conv2d_7 (Conv2D)           (None, 9, 9, 256)         590080    \n",
            "                                                                 \n",
            " batch_normalization_7 (Batc  (None, 9, 9, 256)        1024      \n",
            " hNormalization)                                                 \n",
            "                                                                 \n",
            " activation_7 (Activation)   (None, 9, 9, 256)         0         \n",
            "                                                                 \n",
            " conv2d_8 (Conv2D)           (None, 9, 9, 256)         65792     \n",
            "                                                                 \n",
            " batch_normalization_8 (Batc  (None, 9, 9, 256)        1024      \n",
            " hNormalization)                                                 \n",
            "                                                                 \n",
            " activation_8 (Activation)   (None, 9, 9, 256)         0         \n",
            "                                                                 \n",
            " conv2d_9 (Conv2D)           (None, 9, 9, 256)         65792     \n",
            "                                                                 \n",
            " batch_normalization_9 (Batc  (None, 9, 9, 256)        1024      \n",
            " hNormalization)                                                 \n",
            "                                                                 \n",
            " activation_9 (Activation)   (None, 9, 9, 256)         0         \n",
            "                                                                 \n",
            " max_pooling2d_5 (MaxPooling  (None, 4, 4, 256)        0         \n",
            " 2D)                                                             \n",
            "                                                                 \n",
            " flatten_1 (Flatten)         (None, 4096)              0         \n",
            "                                                                 \n",
            " dense_3 (Dense)             (None, 1024)              4195328   \n",
            "                                                                 \n",
            " dropout_2 (Dropout)         (None, 1024)              0         \n",
            "                                                                 \n",
            " dense_4 (Dense)             (None, 1024)              1049600   \n",
            "                                                                 \n",
            " dropout_3 (Dropout)         (None, 1024)              0         \n",
            "                                                                 \n",
            " dense_5 (Dense)             (None, 10)                10250     \n",
            "                                                                 \n",
            "=================================================================\n",
            "Total params: 6,847,498\n",
            "Trainable params: 6,845,194\n",
            "Non-trainable params: 2,304\n",
            "_________________________________________________________________\n"
          ]
        }
      ]
    },
    {
      "cell_type": "code",
      "source": [
        "model.compile(\n",
        "    loss='sparse_categorical_crossentropy',\n",
        "    optimizer=tf.optimizers.SGD(lr=0.001),\n",
        "    metrics=['accuracy']    \n",
        ")"
      ],
      "metadata": {
        "id": "42avXFXaArhv"
      },
      "execution_count": 24,
      "outputs": []
    },
    {
      "cell_type": "code",
      "source": [
        "history=model.fit(\n",
        "    x_train,\n",
        "    y_train,\n",
        "    epochs=5,\n",
        "    validation_data=(x_test,y_test),\n",
        "    validation_freq=1\n",
        ")"
      ],
      "metadata": {
        "colab": {
          "base_uri": "https://localhost:8080/"
        },
        "id": "wHlnwkfSByEJ",
        "outputId": "d94ad3b8-38a0-4a9c-ab50-5614c9388b19"
      },
      "execution_count": 29,
      "outputs": [
        {
          "output_type": "stream",
          "name": "stdout",
          "text": [
            "Epoch 1/5\n",
            "63/63 [==============================] - 228s 4s/step - loss: 0.3344 - accuracy: 0.8965 - val_loss: 0.1400 - val_accuracy: 0.9625\n",
            "Epoch 2/5\n",
            "63/63 [==============================] - 227s 4s/step - loss: 0.3047 - accuracy: 0.9110 - val_loss: 0.1233 - val_accuracy: 0.9800\n",
            "Epoch 3/5\n",
            "63/63 [==============================] - 227s 4s/step - loss: 0.2966 - accuracy: 0.9175 - val_loss: 0.1119 - val_accuracy: 0.9775\n",
            "Epoch 4/5\n",
            "63/63 [==============================] - 226s 4s/step - loss: 0.2559 - accuracy: 0.9280 - val_loss: 0.1072 - val_accuracy: 0.9725\n",
            "Epoch 5/5\n",
            "63/63 [==============================] - 227s 4s/step - loss: 0.2412 - accuracy: 0.9320 - val_loss: 0.0979 - val_accuracy: 0.9775\n"
          ]
        }
      ]
    },
    {
      "cell_type": "code",
      "source": [
        "# base model accuracy\n",
        "# batch_size = 64\n",
        "# epochs = 1\n",
        "# model.compile(optimizer='adam', loss=losses.sparse_categorical_crossentropy, metrics=['accuracy'])"
      ],
      "metadata": {
        "id": "ftDq8RIAHTBp"
      },
      "execution_count": null,
      "outputs": []
    },
    {
      "cell_type": "code",
      "source": [
        "# model.fit(x_train, y_train, batch_size=batch_size, epochs=epochs, validation_data=(x_val, y_val))"
      ],
      "metadata": {
        "id": "8Z4ySJvyIuyE"
      },
      "execution_count": null,
      "outputs": []
    },
    {
      "cell_type": "code",
      "source": [
        "# Test baseline accuracy\n",
        "import tempfile\n",
        "\n",
        "_, baseline_model_accuracy = model.evaluate(x_test,y_test, verbose=0)\n",
        "\n",
        "print('Baseline test accuracy:', baseline_model_accuracy)\n"
      ],
      "metadata": {
        "id": "zsce210CHduF",
        "colab": {
          "base_uri": "https://localhost:8080/"
        },
        "outputId": "6907ad9d-4f9f-420e-e7dc-2429597e4def"
      },
      "execution_count": 56,
      "outputs": [
        {
          "output_type": "stream",
          "name": "stdout",
          "text": [
            "Baseline test accuracy: 0.8050000071525574\n"
          ]
        }
      ]
    },
    {
      "cell_type": "code",
      "source": [
        "# base model saved location\n",
        "_, keras_file = tempfile.mkstemp('.h5')\n",
        "print('Saving model to: ', keras_file)\n",
        "tf.keras.models.save_model(model, keras_file, include_optimizer=False)"
      ],
      "metadata": {
        "colab": {
          "base_uri": "https://localhost:8080/"
        },
        "id": "F2lQ8w0xW-vw",
        "outputId": "b65b3690-5be6-47bd-b19a-689a1c50aeb2"
      },
      "execution_count": 57,
      "outputs": [
        {
          "output_type": "stream",
          "name": "stdout",
          "text": [
            "Saving model to:  /tmp/tmp_gzyhf0f.h5\n"
          ]
        }
      ]
    },
    {
      "cell_type": "code",
      "source": [
        "###############################\n",
        "########### PRUNING ###########\n",
        "###############################"
      ],
      "metadata": {
        "id": "KbFQNPXaHn0U"
      },
      "execution_count": null,
      "outputs": []
    },
    {
      "cell_type": "code",
      "source": [
        "pip install tensorflow-model-optimization"
      ],
      "metadata": {
        "colab": {
          "base_uri": "https://localhost:8080/"
        },
        "id": "c4FQzpMcD2U8",
        "outputId": "9478b77f-9cf3-4543-b8a3-563dfe53197e"
      },
      "execution_count": 32,
      "outputs": [
        {
          "output_type": "stream",
          "name": "stdout",
          "text": [
            "Looking in indexes: https://pypi.org/simple, https://us-python.pkg.dev/colab-wheels/public/simple/\n",
            "Collecting tensorflow-model-optimization\n",
            "  Downloading tensorflow_model_optimization-0.7.3-py2.py3-none-any.whl (238 kB)\n",
            "\u001b[K     |████████████████████████████████| 238 kB 5.0 MB/s \n",
            "\u001b[?25hRequirement already satisfied: numpy~=1.14 in /usr/local/lib/python3.7/dist-packages (from tensorflow-model-optimization) (1.21.6)\n",
            "Requirement already satisfied: six~=1.10 in /usr/local/lib/python3.7/dist-packages (from tensorflow-model-optimization) (1.15.0)\n",
            "Requirement already satisfied: dm-tree~=0.1.1 in /usr/local/lib/python3.7/dist-packages (from tensorflow-model-optimization) (0.1.7)\n",
            "Installing collected packages: tensorflow-model-optimization\n",
            "Successfully installed tensorflow-model-optimization-0.7.3\n"
          ]
        }
      ]
    },
    {
      "cell_type": "code",
      "source": [
        "## Prunning the entire dataset\n",
        "\n",
        "import tensorflow_model_optimization as tfmot\n",
        "import numpy as np\n",
        "\n",
        "prune_low_magnitude = tfmot.sparsity.keras.prune_low_magnitude\n",
        "\n",
        "# batch_size & epochs stay the same as the baseline model\n",
        "batch_size = 64\n",
        "epochs = 1\n",
        "\n",
        "\n",
        "# Define model for pruning.\n",
        "# For the pruning schedule, we start at the sparsity level 50% \n",
        "# and gradually train the model to reach 90% sparsity. \n",
        "# 90% of the weight tensor is going to be pruned away.\n",
        "\n",
        "x = 0.2\n",
        "sparsity = []\n",
        "acc = []\n",
        "while x <= 0.9:\n",
        "  print(\"current x is: \",x)\n",
        "  sparsity.append(x)\n",
        "  pruning_params = {\n",
        "      'pruning_schedule': tfmot.sparsity.keras.ConstantSparsity(x, begin_step=0, frequency=100)\n",
        "  }\n",
        "  callbacks = [\n",
        "      tfmot.sparsity.keras.UpdatePruningStep()\n",
        "    ]\n",
        "\n",
        "  model_for_pruning = prune_low_magnitude(model, **pruning_params)\n",
        "\n",
        "  # `prune_low_magnitude` requires a recompile.\n",
        "  model_for_pruning.compile(optimizer='adam',\n",
        "                            loss=tf.keras.losses.SparseCategoricalCrossentropy(from_logits=True),\n",
        "                            metrics=['accuracy'])\n",
        "\n",
        "  history_pruned = model_for_pruning.fit(x_train,y_train,\n",
        "                      batch_size=batch_size, epochs=epochs, validation_data=(x_test,y_test),\n",
        "                      callbacks=callbacks)\n",
        "    \n",
        "  _, model_for_pruning_accuracy = model_for_pruning.evaluate(x_test,y_test, verbose=0)\n",
        "\n",
        "  print(\"current x is: \",x, \"and model acc is: \",model_for_pruning_accuracy)\n",
        "  acc.append(model_for_pruning_accuracy)\n",
        "  print(\"sparsity: \", sparsity)\n",
        "  print(\"accuracy list: \", acc)\n",
        "  x += 0.1\n",
        "\n",
        "# model_for_pruning.summary()"
      ],
      "metadata": {
        "id": "5TjUZxOvZO0c",
        "colab": {
          "base_uri": "https://localhost:8080/"
        },
        "outputId": "f21c102f-ed1f-4d7d-9bf0-e1405852fcba"
      },
      "execution_count": 87,
      "outputs": [
        {
          "output_type": "stream",
          "name": "stdout",
          "text": [
            "current x is:  0.2\n"
          ]
        },
        {
          "output_type": "stream",
          "name": "stderr",
          "text": [
            "/usr/local/lib/python3.7/dist-packages/tensorflow/python/util/dispatch.py:1082: UserWarning: \"`sparse_categorical_crossentropy` received `from_logits=True`, but the `output` argument was produced by a sigmoid or softmax activation and thus does not represent logits. Was this intended?\"\n",
            "  return dispatch_target(*args, **kwargs)\n"
          ]
        },
        {
          "output_type": "stream",
          "name": "stdout",
          "text": [
            "32/32 [==============================] - 234s 7s/step - loss: 0.0797 - accuracy: 0.9775 - val_loss: 0.1333 - val_accuracy: 0.9650\n",
            "current x is:  0.2 and model acc is:  0.9649999737739563\n",
            "sparsity:  [0.2]\n",
            "accuracy list:  [0.9649999737739563]\n",
            "current x is:  0.30000000000000004\n",
            "32/32 [==============================] - 234s 7s/step - loss: 0.0998 - accuracy: 0.9715 - val_loss: 0.0982 - val_accuracy: 0.9700\n",
            "current x is:  0.30000000000000004 and model acc is:  0.9700000286102295\n",
            "sparsity:  [0.2, 0.30000000000000004]\n",
            "accuracy list:  [0.9649999737739563, 0.9700000286102295]\n",
            "current x is:  0.4\n",
            "32/32 [==============================] - 234s 7s/step - loss: 0.1229 - accuracy: 0.9700 - val_loss: 0.1372 - val_accuracy: 0.9700\n",
            "current x is:  0.4 and model acc is:  0.9700000286102295\n",
            "sparsity:  [0.2, 0.30000000000000004, 0.4]\n",
            "accuracy list:  [0.9649999737739563, 0.9700000286102295, 0.9700000286102295]\n",
            "current x is:  0.5\n",
            "32/32 [==============================] - 236s 7s/step - loss: 0.0886 - accuracy: 0.9750 - val_loss: 0.0686 - val_accuracy: 0.9850\n",
            "current x is:  0.5 and model acc is:  0.9850000143051147\n",
            "sparsity:  [0.2, 0.30000000000000004, 0.4, 0.5]\n",
            "accuracy list:  [0.9649999737739563, 0.9700000286102295, 0.9700000286102295, 0.9850000143051147]\n",
            "current x is:  0.6\n",
            "32/32 [==============================] - 232s 7s/step - loss: 0.1205 - accuracy: 0.9785 - val_loss: 0.0474 - val_accuracy: 0.9850\n",
            "current x is:  0.6 and model acc is:  0.9850000143051147\n",
            "sparsity:  [0.2, 0.30000000000000004, 0.4, 0.5, 0.6]\n",
            "accuracy list:  [0.9649999737739563, 0.9700000286102295, 0.9700000286102295, 0.9850000143051147, 0.9850000143051147]\n",
            "current x is:  0.7\n",
            "32/32 [==============================] - 235s 7s/step - loss: 0.1294 - accuracy: 0.9735 - val_loss: 0.0261 - val_accuracy: 0.9900\n",
            "current x is:  0.7 and model acc is:  0.9900000095367432\n",
            "sparsity:  [0.2, 0.30000000000000004, 0.4, 0.5, 0.6, 0.7]\n",
            "accuracy list:  [0.9649999737739563, 0.9700000286102295, 0.9700000286102295, 0.9850000143051147, 0.9850000143051147, 0.9900000095367432]\n",
            "current x is:  0.7999999999999999\n",
            "32/32 [==============================] - 236s 7s/step - loss: 0.0817 - accuracy: 0.9795 - val_loss: 0.1128 - val_accuracy: 0.9825\n",
            "current x is:  0.7999999999999999 and model acc is:  0.9825000166893005\n",
            "sparsity:  [0.2, 0.30000000000000004, 0.4, 0.5, 0.6, 0.7, 0.7999999999999999]\n",
            "accuracy list:  [0.9649999737739563, 0.9700000286102295, 0.9700000286102295, 0.9850000143051147, 0.9850000143051147, 0.9900000095367432, 0.9825000166893005]\n",
            "current x is:  0.8999999999999999\n",
            "32/32 [==============================] - 232s 7s/step - loss: 0.1153 - accuracy: 0.9735 - val_loss: 0.0842 - val_accuracy: 0.9775\n",
            "current x is:  0.8999999999999999 and model acc is:  0.9775000214576721\n",
            "sparsity:  [0.2, 0.30000000000000004, 0.4, 0.5, 0.6, 0.7, 0.7999999999999999, 0.8999999999999999]\n",
            "accuracy list:  [0.9649999737739563, 0.9700000286102295, 0.9700000286102295, 0.9850000143051147, 0.9850000143051147, 0.9900000095367432, 0.9825000166893005, 0.9775000214576721]\n"
          ]
        }
      ]
    },
    {
      "cell_type": "code",
      "source": [
        "sparsity = [round(x, 2) for x in sparsity]\n",
        "sparsity"
      ],
      "metadata": {
        "id": "xO65-xSKut59",
        "colab": {
          "base_uri": "https://localhost:8080/"
        },
        "outputId": "89190ba1-74bb-4bdf-84da-b95b549bb348"
      },
      "execution_count": 88,
      "outputs": [
        {
          "output_type": "execute_result",
          "data": {
            "text/plain": [
              "[0.2, 0.3, 0.4, 0.5, 0.6, 0.7, 0.8, 0.9]"
            ]
          },
          "metadata": {},
          "execution_count": 88
        }
      ]
    },
    {
      "cell_type": "code",
      "source": [
        "acc"
      ],
      "metadata": {
        "id": "1RQ_VgnPuwv0",
        "colab": {
          "base_uri": "https://localhost:8080/"
        },
        "outputId": "8d44f343-c2fb-4245-ea08-707909eb2c9d"
      },
      "execution_count": 89,
      "outputs": [
        {
          "output_type": "execute_result",
          "data": {
            "text/plain": [
              "[0.9649999737739563,\n",
              " 0.9700000286102295,\n",
              " 0.9700000286102295,\n",
              " 0.9850000143051147,\n",
              " 0.9850000143051147,\n",
              " 0.9900000095367432,\n",
              " 0.9825000166893005,\n",
              " 0.9775000214576721]"
            ]
          },
          "metadata": {},
          "execution_count": 89
        }
      ]
    },
    {
      "cell_type": "code",
      "source": [
        "# # fit the pruned model\n",
        "\n",
        "# logdir = tempfile.mkdtemp()\n",
        "\n",
        "# callbacks = [\n",
        "#   tfmot.sparsity.keras.UpdatePruningStep(),\n",
        "#   tfmot.sparsity.keras.PruningSummaries(log_dir=logdir),\n",
        "# ]\n",
        "\n",
        "# history_pruned = model_for_pruning.fit(x_train,y_train,\n",
        "#                   batch_size=batch_size, epochs=epochs, validation_split=validation_split,\n",
        "#                   callbacks=callbacks)"
      ],
      "metadata": {
        "id": "7d-X3PqEE_25"
      },
      "execution_count": 90,
      "outputs": []
    },
    {
      "cell_type": "code",
      "source": [
        "# Test out pruned model accuracy\n",
        "_, model_for_pruning_accuracy = model_for_pruning.evaluate(\n",
        "   x_train,y_train, verbose=0)"
      ],
      "metadata": {
        "id": "sTkfl80b2o-m"
      },
      "execution_count": 104,
      "outputs": []
    },
    {
      "cell_type": "code",
      "source": [
        "# compare results\n",
        "print('Baseline test accuracy:', baseline_model_accuracy) \n",
        "print('Pruned test accuracy:', model_for_pruning_accuracy)"
      ],
      "metadata": {
        "id": "cy5TXkXi3GP4",
        "colab": {
          "base_uri": "https://localhost:8080/"
        },
        "outputId": "21710274-faab-4cf2-9048-da4c068d5504"
      },
      "execution_count": 105,
      "outputs": [
        {
          "output_type": "stream",
          "name": "stdout",
          "text": [
            "Baseline test accuracy: 0.8050000071525574\n",
            "Pruned test accuracy: 0.9804999828338623\n"
          ]
        }
      ]
    },
    {
      "cell_type": "code",
      "source": [
        "# Once our pre-trained model achieved desirable accuracy\n",
        "# we save the model trained model and make it “prunable”\n",
        "# _, keras_file = tempfile.mkstemp('.h5')\n",
        "# tf.keras.models.save_model(model_for_pruning, keras_file, include_optimizer=False)\n",
        "# print('Saved baseline model to:', keras_file)"
      ],
      "metadata": {
        "id": "6CCXJzyLSTvd"
      },
      "execution_count": 76,
      "outputs": []
    },
    {
      "cell_type": "code",
      "source": [
        "compression_ratio = [1/x for x in sparsity]\n",
        "compression_ratio"
      ],
      "metadata": {
        "id": "ILkolML0DH5Q",
        "colab": {
          "base_uri": "https://localhost:8080/"
        },
        "outputId": "6f1c7669-46fd-4dd3-8e9e-43c138fc7502"
      },
      "execution_count": 106,
      "outputs": [
        {
          "output_type": "execute_result",
          "data": {
            "text/plain": [
              "[5.0,\n",
              " 3.3333333333333335,\n",
              " 2.5,\n",
              " 2.0,\n",
              " 1.6666666666666667,\n",
              " 1.4285714285714286,\n",
              " 1.25,\n",
              " 1.1111111111111112]"
            ]
          },
          "metadata": {},
          "execution_count": 106
        }
      ]
    },
    {
      "cell_type": "code",
      "source": [
        "acc"
      ],
      "metadata": {
        "id": "DfUOmFwRHqFg",
        "colab": {
          "base_uri": "https://localhost:8080/"
        },
        "outputId": "ee451c72-a635-411e-ade6-aa5fd776550b"
      },
      "execution_count": 107,
      "outputs": [
        {
          "output_type": "execute_result",
          "data": {
            "text/plain": [
              "[0.9649999737739563,\n",
              " 0.9700000286102295,\n",
              " 0.9700000286102295,\n",
              " 0.9850000143051147,\n",
              " 0.9850000143051147,\n",
              " 0.9900000095367432,\n",
              " 0.9825000166893005,\n",
              " 0.9775000214576721]"
            ]
          },
          "metadata": {},
          "execution_count": 107
        }
      ]
    },
    {
      "cell_type": "code",
      "source": [
        "# pruned model saved\n",
        "_, pruned_keras_file = tempfile.mkstemp('.h5')\n",
        "print('Saving model to: ', pruned_keras_file)\n",
        "tf.keras.models.save_model(model_for_pruning, pruned_keras_file, include_optimizer=False)"
      ],
      "metadata": {
        "id": "lAPakfQNktBP",
        "colab": {
          "base_uri": "https://localhost:8080/"
        },
        "outputId": "86bc22bd-d0fc-44a4-8310-eee3330ef16d"
      },
      "execution_count": 108,
      "outputs": [
        {
          "output_type": "stream",
          "name": "stdout",
          "text": [
            "Saving model to:  /tmp/tmpcy9rwkdb.h5\n"
          ]
        }
      ]
    },
    {
      "cell_type": "code",
      "source": [
        "###############################\n",
        "###### PRUNING RESULT #########\n",
        "###############################"
      ],
      "metadata": {
        "id": "ouYSl9PxkTbn"
      },
      "execution_count": 109,
      "outputs": []
    },
    {
      "cell_type": "code",
      "source": [
        "# compression ratio vs accuracy graph\n",
        "import matplotlib.pyplot as plt\n",
        "\n",
        "fig, ax = plt.subplots()\n",
        "# plt.scatter(compression_rat, acc)\n",
        "ax.plot(compression_ratio, acc, linewidth=2.0)\n",
        "plt.xlabel('Compresion Ratio')\n",
        "plt.ylabel('Accuracy')\n",
        "plt.title('Compresion Ratio VS Accuracy')\n",
        "plt.show()"
      ],
      "metadata": {
        "id": "l4WKeq4Z9jgn",
        "colab": {
          "base_uri": "https://localhost:8080/",
          "height": 295
        },
        "outputId": "b5c6e175-2d52-4d6e-f096-e83a9dd1b1f1"
      },
      "execution_count": 110,
      "outputs": [
        {
          "output_type": "display_data",
          "data": {
            "text/plain": [
              "<Figure size 432x288 with 1 Axes>"
            ],
            "image/png": "[encoded data removed]"
          },
          "metadata": {
            "needs_background": "light"
          }
        }
      ]
    },
    {
      "cell_type": "code",
      "source": [
        "# accuracy results\n",
        "print('Baseline test accuracy:', baseline_model_accuracy) \n",
        "print('Pruned test accuracy (90% pruned rate):', model_for_pruning_accuracy)"
      ],
      "metadata": {
        "id": "TaXou0THFM68",
        "colab": {
          "base_uri": "https://localhost:8080/"
        },
        "outputId": "58b4f4a7-c2bc-42f7-bdee-d43ba88ec674"
      },
      "execution_count": 111,
      "outputs": [
        {
          "output_type": "stream",
          "name": "stdout",
          "text": [
            "Baseline test accuracy: 0.8050000071525574\n",
            "Pruned test accuracy (90% pruned rate): 0.9804999828338623\n"
          ]
        }
      ]
    },
    {
      "cell_type": "code",
      "source": [
        "# pruned model summary\n",
        "# model_for_pruning.summary()"
      ],
      "metadata": {
        "id": "1kkGkxKBIhxQ"
      },
      "execution_count": 112,
      "outputs": []
    },
    {
      "cell_type": "code",
      "source": [
        "# base model summary\n",
        "# model.summary()"
      ],
      "metadata": {
        "id": "aBpM7UF9Kzog"
      },
      "execution_count": 113,
      "outputs": []
    },
    {
      "cell_type": "code",
      "source": [
        "# helper function to get model size\n",
        "def get_gzipped_model_size(file):\n",
        "  # Returns size of gzipped model, in bytes.\n",
        "  import os\n",
        "  import zipfile\n",
        "\n",
        "  _, zipped_file = tempfile.mkstemp('.zip')\n",
        "  with zipfile.ZipFile(zipped_file, 'w', compression=zipfile.ZIP_DEFLATED) as f:\n",
        "    f.write(file)\n",
        "\n",
        "  return os.path.getsize(zipped_file)"
      ],
      "metadata": {
        "id": "H1Fm186si2le"
      },
      "execution_count": 114,
      "outputs": []
    },
    {
      "cell_type": "code",
      "source": [
        "# compare model size\n",
        "print(\"Size of gzipped baseline Keras model: %.2f bytes\" % (get_gzipped_model_size(pruned_keras_file)))\n",
        "print(\"Size of gzipped pruned Keras model: %.2f bytes\" % (get_gzipped_model_size(keras_file)))"
      ],
      "metadata": {
        "id": "pSF_b1K2klTA",
        "colab": {
          "base_uri": "https://localhost:8080/"
        },
        "outputId": "3a66b671-8e6e-47c4-c15c-7e38fd05beb3"
      },
      "execution_count": 116,
      "outputs": [
        {
          "output_type": "stream",
          "name": "stdout",
          "text": [
            "Size of gzipped baseline Keras model: 13237833.00 bytes\n",
            "Size of gzipped pruned Keras model: 5167134.00 bytes\n"
          ]
        }
      ]
    },
    {
      "cell_type": "code",
      "source": [
        "# confusion matrix for based model\n",
        "# from sklearn.metrics import confusion_matrix\n",
        "# import numpy as np\n",
        "# test_predictions = model.predict(x_test)\n",
        "# confusion = confusion_matrix(y_test, np.argmax(test_predictions,axis=1))\n",
        "# confusion"
      ],
      "metadata": {
        "id": "lo8-Oz4ystSc"
      },
      "execution_count": 117,
      "outputs": []
    },
    {
      "cell_type": "code",
      "source": [
        "# confusion matrix for pruned model\n",
        "# p_test_predictions = model_for_pruning.predict(x_test)\n",
        "# p_confusion = confusion_matrix(y_test, np.argmax(p_test_predictions,axis=1))\n",
        "# p_confusion"
      ],
      "metadata": {
        "id": "GeAi6GZ6pm6i"
      },
      "execution_count": 118,
      "outputs": []
    },
    {
      "cell_type": "code",
      "source": [
        "###############################\n",
        "######## Quantization #########\n",
        "###############################"
      ],
      "metadata": {
        "id": "v5yiAke-NVhG"
      },
      "execution_count": 119,
      "outputs": []
    },
    {
      "cell_type": "code",
      "source": [
        "## Quantization \n",
        "import tensorflow_model_optimization as tfmot\n",
        "\n",
        "model_quant = tfmot.quantization.keras.quantize_model(model)\n",
        "model_quant.compile(optimizer='adam', loss=tf.losses.sparse_categorical_crossentropy, metrics=['accuracy'])\n",
        "model_quant.summary()\n"
      ],
      "metadata": {
        "id": "quDmyFES3QkO",
        "colab": {
          "base_uri": "https://localhost:8080/"
        },
        "outputId": "c837ad9d-2f22-4be5-a49f-736ec103d798"
      },
      "execution_count": 120,
      "outputs": [
        {
          "output_type": "stream",
          "name": "stdout",
          "text": [
            "Model: \"sequential_1\"\n",
            "_________________________________________________________________\n",
            " Layer (type)                Output Shape              Param #   \n",
            "=================================================================\n",
            " quantize_layer (QuantizeLay  (None, 227, 227, 3)      3         \n",
            " er)                                                             \n",
            "                                                                 \n",
            " quant_conv2d_5 (QuantizeWra  (None, 55, 55, 128)      46849     \n",
            " pperV2)                                                         \n",
            "                                                                 \n",
            " quant_batch_normalization_5  (None, 55, 55, 128)      513       \n",
            "  (QuantizeWrapperV2)                                            \n",
            "                                                                 \n",
            " quant_activation_5 (Quantiz  (None, 55, 55, 128)      3         \n",
            " eWrapperV2)                                                     \n",
            "                                                                 \n",
            " quant_max_pooling2d_3 (Quan  (None, 27, 27, 128)      1         \n",
            " tizeWrapperV2)                                                  \n",
            "                                                                 \n",
            " quant_conv2d_6 (QuantizeWra  (None, 27, 27, 256)      819969    \n",
            " pperV2)                                                         \n",
            "                                                                 \n",
            " quant_batch_normalization_6  (None, 27, 27, 256)      1025      \n",
            "  (QuantizeWrapperV2)                                            \n",
            "                                                                 \n",
            " quant_activation_6 (Quantiz  (None, 27, 27, 256)      3         \n",
            " eWrapperV2)                                                     \n",
            "                                                                 \n",
            " quant_max_pooling2d_4 (Quan  (None, 9, 9, 256)        1         \n",
            " tizeWrapperV2)                                                  \n",
            "                                                                 \n",
            " quant_conv2d_7 (QuantizeWra  (None, 9, 9, 256)        590593    \n",
            " pperV2)                                                         \n",
            "                                                                 \n",
            " quant_batch_normalization_7  (None, 9, 9, 256)        1025      \n",
            "  (QuantizeWrapperV2)                                            \n",
            "                                                                 \n",
            " quant_activation_7 (Quantiz  (None, 9, 9, 256)        3         \n",
            " eWrapperV2)                                                     \n",
            "                                                                 \n",
            " quant_conv2d_8 (QuantizeWra  (None, 9, 9, 256)        66305     \n",
            " pperV2)                                                         \n",
            "                                                                 \n",
            " quant_batch_normalization_8  (None, 9, 9, 256)        1025      \n",
            "  (QuantizeWrapperV2)                                            \n",
            "                                                                 \n",
            " quant_activation_8 (Quantiz  (None, 9, 9, 256)        3         \n",
            " eWrapperV2)                                                     \n",
            "                                                                 \n",
            " quant_conv2d_9 (QuantizeWra  (None, 9, 9, 256)        66305     \n",
            " pperV2)                                                         \n",
            "                                                                 \n",
            " quant_batch_normalization_9  (None, 9, 9, 256)        1025      \n",
            "  (QuantizeWrapperV2)                                            \n",
            "                                                                 \n",
            " quant_activation_9 (Quantiz  (None, 9, 9, 256)        3         \n",
            " eWrapperV2)                                                     \n",
            "                                                                 \n",
            " quant_max_pooling2d_5 (Quan  (None, 4, 4, 256)        1         \n",
            " tizeWrapperV2)                                                  \n",
            "                                                                 \n",
            " quant_flatten_1 (QuantizeWr  (None, 4096)             1         \n",
            " apperV2)                                                        \n",
            "                                                                 \n",
            " quant_dense_3 (QuantizeWrap  (None, 1024)             4195333   \n",
            " perV2)                                                          \n",
            "                                                                 \n",
            " quant_dropout_2 (QuantizeWr  (None, 1024)             1         \n",
            " apperV2)                                                        \n",
            "                                                                 \n",
            " quant_dense_4 (QuantizeWrap  (None, 1024)             1049605   \n",
            " perV2)                                                          \n",
            "                                                                 \n",
            " quant_dropout_3 (QuantizeWr  (None, 1024)             1         \n",
            " apperV2)                                                        \n",
            "                                                                 \n",
            " quant_dense_5 (QuantizeWrap  (None, 10)               10255     \n",
            " perV2)                                                          \n",
            "                                                                 \n",
            "=================================================================\n",
            "Total params: 6,849,851\n",
            "Trainable params: 6,845,194\n",
            "Non-trainable params: 4,657\n",
            "_________________________________________________________________\n"
          ]
        }
      ]
    },
    {
      "cell_type": "code",
      "source": [
        "model_quant.fit(x_train,y_train, batch_size=64, epochs=1, validation_data=(x_test,y_test))"
      ],
      "metadata": {
        "id": "8qrVIH4-cts5",
        "colab": {
          "base_uri": "https://localhost:8080/"
        },
        "outputId": "b553ed67-8d0e-476e-da1f-45f7660a87df"
      },
      "execution_count": 121,
      "outputs": [
        {
          "output_type": "stream",
          "name": "stdout",
          "text": [
            "32/32 [==============================] - 242s 7s/step - loss: 0.0847 - accuracy: 0.9830 - val_loss: 0.0631 - val_accuracy: 0.9775\n"
          ]
        },
        {
          "output_type": "execute_result",
          "data": {
            "text/plain": [
              "<keras.callbacks.History at 0x7fd53940aad0>"
            ]
          },
          "metadata": {},
          "execution_count": 121
        }
      ]
    },
    {
      "cell_type": "code",
      "source": [
        "# quant model saved\n",
        "converter = tf.lite.TFLiteConverter.from_keras_model(model_quant)\n",
        "quant_tflite_model = converter.convert()\n",
        "\n",
        "_, quant_tflite_file = tempfile.mkstemp('.h5')\n",
        "\n",
        "with open(quant_tflite_file, 'wb') as f:\n",
        "  f.write(quant_tflite_model)\n",
        "\n",
        "print('Saved pruned TFLite model to:', quant_tflite_file)\n"
      ],
      "metadata": {
        "id": "6MnrqkLuEAyM",
        "colab": {
          "base_uri": "https://localhost:8080/"
        },
        "outputId": "8beb6a9c-27eb-419e-b303-fb5ca41047ef"
      },
      "execution_count": 122,
      "outputs": [
        {
          "output_type": "stream",
          "name": "stderr",
          "text": [
            "WARNING:absl:Found untraced functions such as conv2d_5_layer_call_fn, conv2d_5_layer_call_and_return_conditional_losses, _jit_compiled_convolution_op, activation_5_layer_call_fn, activation_5_layer_call_and_return_conditional_losses while saving (showing 5 of 37). These functions will not be directly callable after loading.\n"
          ]
        },
        {
          "output_type": "stream",
          "name": "stdout",
          "text": [
            "Saved pruned TFLite model to: /tmp/tmpvdc49azb.h5\n"
          ]
        }
      ]
    },
    {
      "cell_type": "code",
      "source": [
        "#####################################\n",
        "######## Quantization Result#########\n",
        "#####################################"
      ],
      "metadata": {
        "id": "Di97YRZXD7ki"
      },
      "execution_count": 123,
      "outputs": []
    },
    {
      "cell_type": "code",
      "source": [
        "# Accuracy comparisons\n",
        "_, model_quant_accuracy = model_quant.evaluate(x_test,y_test, verbose=0)\n",
        "print('Baseline test accuracy:', baseline_model_accuracy) \n",
        "print('Quantization test accuracy:', model_quant_accuracy)"
      ],
      "metadata": {
        "id": "mswjUhcs41Vr",
        "colab": {
          "base_uri": "https://localhost:8080/"
        },
        "outputId": "f0e7c835-1997-4a4b-8a72-aa6283d0e77e"
      },
      "execution_count": 124,
      "outputs": [
        {
          "output_type": "stream",
          "name": "stdout",
          "text": [
            "Baseline test accuracy: 0.8050000071525574\n",
            "Quantization test accuracy: 0.9775000214576721\n"
          ]
        }
      ]
    },
    {
      "cell_type": "code",
      "source": [
        "# compare model size\n",
        "print(\"Size of gzipped baseline Keras model: %.2f bytes\" % (get_gzipped_model_size(quant_tflite_file)))\n",
        "print(\"Size of gzipped quantization Keras model: %.2f bytes\" % (get_gzipped_model_size(keras_file)))"
      ],
      "metadata": {
        "id": "kMYVTyOYEA1w",
        "colab": {
          "base_uri": "https://localhost:8080/"
        },
        "outputId": "d8dd648b-f074-4c9b-917e-a6bbc645954a"
      },
      "execution_count": 126,
      "outputs": [
        {
          "output_type": "stream",
          "name": "stdout",
          "text": [
            "Size of gzipped baseline Keras model: 11572728.00 bytes\n",
            "Size of gzipped quantization Keras model: 5167134.00 bytes\n"
          ]
        }
      ]
    },
    {
      "cell_type": "code",
      "source": [
        "#########################################\n",
        "######## Pruning + Quantization #########\n",
        "#########################################"
      ],
      "metadata": {
        "id": "W49wlVCs7XpU"
      },
      "execution_count": 127,
      "outputs": []
    },
    {
      "cell_type": "code",
      "source": [
        "## Prunning the entire dataset\n",
        "\n",
        "import tensorflow_model_optimization as tfmot\n",
        "import numpy as np\n",
        "\n",
        "prune_low_magnitude = tfmot.sparsity.keras.prune_low_magnitude\n",
        "\n",
        "# batch_size & epochs stay the same as the baseline model\n",
        "batch_size = 64\n",
        "epochs = 1\n",
        "\n",
        "\n",
        "# Define model for pruning.\n",
        "# For the pruning schedule, we start at the sparsity level 50% \n",
        "# and gradually train the model to reach 90% sparsity. \n",
        "# 90% of the weight tensor is going to be pruned away.\n",
        "\n",
        "x = 0.2\n",
        "sparsity_pq = []\n",
        "acc_pq = []\n",
        "while x <= 0.9:\n",
        "  print(\"current x is: \",x)\n",
        "  sparsity_pq.append(x)\n",
        "  pruning_params = {\n",
        "      'pruning_schedule': tfmot.sparsity.keras.ConstantSparsity(x, begin_step=0, frequency=100)\n",
        "  }\n",
        "  callbacks = [\n",
        "      tfmot.sparsity.keras.UpdatePruningStep()\n",
        "    ]\n",
        "\n",
        "  model_for_pruning = prune_low_magnitude(model, **pruning_params)\n",
        "\n",
        "  # `prune_low_magnitude` requires a recompile.\n",
        "  model_for_pruning.compile(optimizer='adam',\n",
        "                            loss=tf.keras.losses.SparseCategoricalCrossentropy(from_logits=True),\n",
        "                            metrics=['accuracy'])\n",
        "\n",
        "  history_pruned = model_for_pruning.fit(x_train,y_train,\n",
        "                      batch_size=batch_size, epochs=epochs, validation_data=(x_test,y_test),\n",
        "                      callbacks=callbacks)\n",
        "\n",
        "                      \n",
        "  model_for_export = tfmot.sparsity.keras.strip_pruning(model_for_pruning)\n",
        "  model_quant_prune = tfmot.quantization.keras.quantize_model(model_for_export)\n",
        "  model_quant_prune.compile(optimizer='adam', loss=tf.losses.sparse_categorical_crossentropy, metrics=['accuracy'])\n",
        "  model_quant_prune.fit(x_train,y_train, batch_size=batch_size, epochs=epochs, validation_data=(x_test,y_test))\n",
        "    \n",
        "  _, model_quant_prune_accuracy = model_quant_prune.evaluate(x_test,y_test, verbose=0)\n",
        "\n",
        "  print(\"current x is: \",x, \"and model acc is: \",model_quant_prune_accuracy)\n",
        "  acc_pq.append(model_quant_prune_accuracy)\n",
        "  print(\"sparsity: \", sparsity_pq)\n",
        "  print(\"accuracy list: \", acc_pq)\n",
        "  x += 0.1\n",
        "\n",
        "# model_for_pruning.summary()"
      ],
      "metadata": {
        "id": "VWv7GXZ7RLAV",
        "colab": {
          "base_uri": "https://localhost:8080/"
        },
        "outputId": "049de96c-e9e8-4bb7-c4fe-bcccfcab99b6"
      },
      "execution_count": 128,
      "outputs": [
        {
          "output_type": "stream",
          "name": "stdout",
          "text": [
            "current x is:  0.2\n"
          ]
        },
        {
          "output_type": "stream",
          "name": "stderr",
          "text": [
            "/usr/local/lib/python3.7/dist-packages/tensorflow/python/util/dispatch.py:1082: UserWarning: \"`sparse_categorical_crossentropy` received `from_logits=True`, but the `output` argument was produced by a sigmoid or softmax activation and thus does not represent logits. Was this intended?\"\n",
            "  return dispatch_target(*args, **kwargs)\n"
          ]
        },
        {
          "output_type": "stream",
          "name": "stdout",
          "text": [
            "32/32 [==============================] - 241s 7s/step - loss: 0.0885 - accuracy: 0.9790 - val_loss: 0.0483 - val_accuracy: 0.9850\n",
            "32/32 [==============================] - 243s 8s/step - loss: 0.1207 - accuracy: 0.9730 - val_loss: 0.0599 - val_accuracy: 0.9900\n",
            "current x is:  0.2 and model acc is:  0.9900000095367432\n",
            "sparsity:  [0.2]\n",
            "accuracy list:  [0.9900000095367432]\n",
            "current x is:  0.30000000000000004\n",
            "32/32 [==============================] - 235s 7s/step - loss: 0.0495 - accuracy: 0.9865 - val_loss: 0.5757 - val_accuracy: 0.9150\n",
            "32/32 [==============================] - 244s 8s/step - loss: 0.1675 - accuracy: 0.9580 - val_loss: 0.0864 - val_accuracy: 0.9775\n",
            "current x is:  0.30000000000000004 and model acc is:  0.9775000214576721\n",
            "sparsity:  [0.2, 0.30000000000000004]\n",
            "accuracy list:  [0.9900000095367432, 0.9775000214576721]\n",
            "current x is:  0.4\n",
            "32/32 [==============================] - 234s 7s/step - loss: 0.1027 - accuracy: 0.9800 - val_loss: 0.1016 - val_accuracy: 0.9875\n",
            "32/32 [==============================] - 241s 7s/step - loss: 0.1805 - accuracy: 0.9600 - val_loss: 0.0646 - val_accuracy: 0.9850\n",
            "current x is:  0.4 and model acc is:  0.9850000143051147\n",
            "sparsity:  [0.2, 0.30000000000000004, 0.4]\n",
            "accuracy list:  [0.9900000095367432, 0.9775000214576721, 0.9850000143051147]\n",
            "current x is:  0.5\n",
            "32/32 [==============================] - 235s 7s/step - loss: 0.0723 - accuracy: 0.9830 - val_loss: 0.0337 - val_accuracy: 0.9950\n",
            "32/32 [==============================] - 241s 7s/step - loss: 0.1955 - accuracy: 0.9505 - val_loss: 0.0022 - val_accuracy: 1.0000\n",
            "current x is:  0.5 and model acc is:  1.0\n",
            "sparsity:  [0.2, 0.30000000000000004, 0.4, 0.5]\n",
            "accuracy list:  [0.9900000095367432, 0.9775000214576721, 0.9850000143051147, 1.0]\n",
            "current x is:  0.6\n",
            "32/32 [==============================] - 234s 7s/step - loss: 0.0837 - accuracy: 0.9835 - val_loss: 0.0344 - val_accuracy: 0.9950\n",
            "32/32 [==============================] - 241s 7s/step - loss: 0.1629 - accuracy: 0.9655 - val_loss: 0.0775 - val_accuracy: 0.9825\n",
            "current x is:  0.6 and model acc is:  0.9825000166893005\n",
            "sparsity:  [0.2, 0.30000000000000004, 0.4, 0.5, 0.6]\n",
            "accuracy list:  [0.9900000095367432, 0.9775000214576721, 0.9850000143051147, 1.0, 0.9825000166893005]\n",
            "current x is:  0.7\n",
            "32/32 [==============================] - 235s 7s/step - loss: 0.0464 - accuracy: 0.9895 - val_loss: 0.3263 - val_accuracy: 0.9625\n",
            "32/32 [==============================] - 240s 7s/step - loss: 0.3405 - accuracy: 0.9115 - val_loss: 0.0250 - val_accuracy: 0.9950\n",
            "current x is:  0.7 and model acc is:  0.9950000047683716\n",
            "sparsity:  [0.2, 0.30000000000000004, 0.4, 0.5, 0.6, 0.7]\n",
            "accuracy list:  [0.9900000095367432, 0.9775000214576721, 0.9850000143051147, 1.0, 0.9825000166893005, 0.9950000047683716]\n",
            "current x is:  0.7999999999999999\n",
            "32/32 [==============================] - 232s 7s/step - loss: 0.0782 - accuracy: 0.9880 - val_loss: 0.0281 - val_accuracy: 0.9900\n",
            "32/32 [==============================] - 241s 7s/step - loss: 0.2540 - accuracy: 0.9390 - val_loss: 0.0173 - val_accuracy: 0.9950\n",
            "current x is:  0.7999999999999999 and model acc is:  0.9950000047683716\n",
            "sparsity:  [0.2, 0.30000000000000004, 0.4, 0.5, 0.6, 0.7, 0.7999999999999999]\n",
            "accuracy list:  [0.9900000095367432, 0.9775000214576721, 0.9850000143051147, 1.0, 0.9825000166893005, 0.9950000047683716, 0.9950000047683716]\n",
            "current x is:  0.8999999999999999\n",
            "32/32 [==============================] - 238s 7s/step - loss: 0.0727 - accuracy: 0.9835 - val_loss: 0.0452 - val_accuracy: 0.9900\n",
            "32/32 [==============================] - 239s 7s/step - loss: 0.3457 - accuracy: 0.9095 - val_loss: 0.0020 - val_accuracy: 1.0000\n",
            "current x is:  0.8999999999999999 and model acc is:  1.0\n",
            "sparsity:  [0.2, 0.30000000000000004, 0.4, 0.5, 0.6, 0.7, 0.7999999999999999, 0.8999999999999999]\n",
            "accuracy list:  [0.9900000095367432, 0.9775000214576721, 0.9850000143051147, 1.0, 0.9825000166893005, 0.9950000047683716, 0.9950000047683716, 1.0]\n"
          ]
        }
      ]
    },
    {
      "cell_type": "code",
      "source": [
        "converter = tf.lite.TFLiteConverter.from_keras_model(model_for_export)\n",
        "converter.optimizations = [tf.lite.Optimize.DEFAULT]\n",
        "quantized_and_pruned_tflite_model = converter.convert()\n",
        "\n",
        "_, quantized_and_pruned_tflite_file = tempfile.mkstemp('.tflite')\n",
        "with open(quantized_and_pruned_tflite_file, 'wb') as f:\n",
        "  f.write(quantized_and_pruned_tflite_model)"
      ],
      "metadata": {
        "id": "GTg8KW_GjfK1",
        "colab": {
          "base_uri": "https://localhost:8080/"
        },
        "outputId": "aa0946e8-03ee-4908-bd2f-6fe5064ef197"
      },
      "execution_count": 129,
      "outputs": [
        {
          "output_type": "stream",
          "name": "stderr",
          "text": [
            "WARNING:absl:Found untraced functions such as _jit_compiled_convolution_op, _jit_compiled_convolution_op, _jit_compiled_convolution_op, _jit_compiled_convolution_op, _jit_compiled_convolution_op while saving (showing 5 of 5). These functions will not be directly callable after loading.\n"
          ]
        }
      ]
    },
    {
      "cell_type": "code",
      "source": [
        "#########################################\n",
        "##### Pruning + Quantization Result #####\n",
        "#########################################"
      ],
      "metadata": {
        "id": "WFbg8mQ6lk2B"
      },
      "execution_count": 130,
      "outputs": []
    },
    {
      "cell_type": "code",
      "source": [
        "compression_pq_ratio = [1/x for x in sparsity_pq]\n",
        "compression_pq_ratio"
      ],
      "metadata": {
        "id": "IPueWNHHhOLQ",
        "colab": {
          "base_uri": "https://localhost:8080/"
        },
        "outputId": "eba3d9ad-35a6-4ba5-e299-9b45567c643c"
      },
      "execution_count": 131,
      "outputs": [
        {
          "output_type": "execute_result",
          "data": {
            "text/plain": [
              "[5.0,\n",
              " 3.333333333333333,\n",
              " 2.5,\n",
              " 2.0,\n",
              " 1.6666666666666667,\n",
              " 1.4285714285714286,\n",
              " 1.25,\n",
              " 1.1111111111111112]"
            ]
          },
          "metadata": {},
          "execution_count": 131
        }
      ]
    },
    {
      "cell_type": "code",
      "source": [
        "acc_pq"
      ],
      "metadata": {
        "id": "s7GVuNyWFzMA",
        "colab": {
          "base_uri": "https://localhost:8080/"
        },
        "outputId": "601f6b09-f070-4d30-8e36-7a082f462a5e"
      },
      "execution_count": 132,
      "outputs": [
        {
          "output_type": "execute_result",
          "data": {
            "text/plain": [
              "[0.9900000095367432,\n",
              " 0.9775000214576721,\n",
              " 0.9850000143051147,\n",
              " 1.0,\n",
              " 0.9825000166893005,\n",
              " 0.9950000047683716,\n",
              " 0.9950000047683716,\n",
              " 1.0]"
            ]
          },
          "metadata": {},
          "execution_count": 132
        }
      ]
    },
    {
      "cell_type": "code",
      "source": [
        "# compression ratio vs accuracy graph\n",
        "import matplotlib.pyplot as plt\n",
        "\n",
        "fig, ax = plt.subplots()\n",
        "# plt.scatter(compression_rat, acc)\n",
        "ax.plot(compression_pq_ratio, acc_pq, linewidth=2.0)\n",
        "plt.xlabel('Compresion Ratio(Pruned + Quantization)')\n",
        "plt.ylabel('Accuracy')\n",
        "plt.title('Compresion Ratio(Pruned + Quantization) VS Accuracy')\n",
        "plt.show()"
      ],
      "metadata": {
        "id": "46peLtbOhON_",
        "colab": {
          "base_uri": "https://localhost:8080/",
          "height": 295
        },
        "outputId": "97d38002-0570-4d43-c046-ac61f999024e"
      },
      "execution_count": 133,
      "outputs": [
        {
          "output_type": "display_data",
          "data": {
            "text/plain": [
              "<Figure size 432x288 with 1 Axes>"
            ],
            "image/png": "[encoded data removed]"
          },
          "metadata": {
            "needs_background": "light"
          }
        }
      ]
    },
    {
      "cell_type": "code",
      "source": [
        "# accuracy results\n",
        "print('Baseline test accuracy:', baseline_model_accuracy) \n",
        "print('Pruned + Quantization test accuracy:', model_quant_prune_accuracy)"
      ],
      "metadata": {
        "id": "18J3MhF2hOTF",
        "colab": {
          "base_uri": "https://localhost:8080/"
        },
        "outputId": "82258c4f-7142-4a2a-ddeb-b7ad3f3356b6"
      },
      "execution_count": 134,
      "outputs": [
        {
          "output_type": "stream",
          "name": "stdout",
          "text": [
            "Baseline test accuracy: 0.8050000071525574\n",
            "Pruned + Quantization test accuracy: 1.0\n"
          ]
        }
      ]
    },
    {
      "cell_type": "code",
      "source": [
        "# compare model size\n",
        "print(\"Size of gzipped baseline Keras model: %.2f bytes\" % (get_gzipped_model_size(keras_file)))\n",
        "print(\"Size of gzipped pruned and quantized TFlite model: %.2f bytes\" % (get_gzipped_model_size(quantized_and_pruned_tflite_file)))"
      ],
      "metadata": {
        "id": "B1dOY6GGhOY_",
        "colab": {
          "base_uri": "https://localhost:8080/"
        },
        "outputId": "7f6f70f1-5aa5-4b6d-df97-b82b5b688dbf"
      },
      "execution_count": 135,
      "outputs": [
        {
          "output_type": "stream",
          "name": "stdout",
          "text": [
            "Size of gzipped baseline Keras model: 5167134.00 bytes\n",
            "Size of gzipped pruned and quantized TFlite model: 2754853.00 bytes\n"
          ]
        }
      ]
    },
    {
      "cell_type": "code",
      "source": [
        "# confusion matrix for based model\n",
        "# from sklearn.metrics import confusion_matrix\n",
        "# import numpy as np\n",
        "# test_predictions = model.predict(x_test)\n",
        "# confusion = confusion_matrix(y_test, np.argmax(test_predictions,axis=1))\n",
        "# confusion"
      ],
      "metadata": {
        "id": "nshNE4_hhOat"
      },
      "execution_count": 136,
      "outputs": []
    },
    {
      "cell_type": "code",
      "source": [
        "# confusion matrix for pruned+quantized model\n",
        "# pq_test_predictions = model_quant_prune.predict(x_test)\n",
        "# pq_confusion = confusion_matrix(y_test, np.argmax(pq_test_predictions,axis=1))\n",
        "# pq_confusion"
      ],
      "metadata": {
        "id": "TN-tW_D1lyVZ"
      },
      "execution_count": null,
      "outputs": []
    },
    {
      "cell_type": "code",
      "source": [],
      "metadata": {
        "id": "2ib1aHwYmEV7"
      },
      "execution_count": null,
      "outputs": []
    }
  ],
  "metadata": {
    "colab": {
      "provenance": []
    },
    "kernelspec": {
      "display_name": "Python 3",
      "name": "python3"
    },
    "language_info": {
      "name": "python"
    }
  },
  "nbformat": 4,
  "nbformat_minor": 0
}