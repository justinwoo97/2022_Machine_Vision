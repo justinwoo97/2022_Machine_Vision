{
  "cells": [
    {
      "cell_type": "code",
      "execution_count": 19,
      "metadata": {
        "id": "cH8ZE_BW7xqc"
      },
      "outputs": [],
      "source": [
        "import tensorflow as tf\n",
        "import matplotlib.pyplot as plt\n",
        "from tensorflow.keras import datasets, layers, models, losses"
      ]
    },
    {
      "cell_type": "code",
      "execution_count": 27,
      "metadata": {
        "colab": {
          "base_uri": "https://localhost:8080/"
        },
        "id": "a7HDRM0k71r8",
        "outputId": "fc599f60-aa48-4b65-ebbe-fc3a9deac850"
      },
      "outputs": [
        {
          "output_type": "execute_result",
          "data": {
            "text/plain": [
              "(50000, 32, 32, 3)"
            ]
          },
          "metadata": {},
          "execution_count": 27
        }
      ],
      "source": [
        "(x_train,y_train),(x_test,y_test) = datasets.cifar10.load_data()\n",
        "x_train.shape"
      ]
    },
    {
      "cell_type": "code",
      "source": [
        "# Reshape converting 2D to 1D\n",
        "y_test = y_test.reshape(-1,)\n",
        "y_train = y_train.reshape(-1,)"
      ],
      "metadata": {
        "id": "8jwvCQmQ4u-_"
      },
      "execution_count": 28,
      "outputs": []
    },
    {
      "cell_type": "code",
      "source": [
        "# This code normalazation\n",
        "x_train = x_train / 255.0\n",
        "x_test = x_test / 255.0"
      ],
      "metadata": {
        "id": "HI29iOwz4wr4"
      },
      "execution_count": 29,
      "outputs": []
    },
    {
      "cell_type": "code",
      "source": [
        "x_train.shape"
      ],
      "metadata": {
        "id": "LpUuFLJx4ztd",
        "outputId": "63765749-e1fe-4d54-b9ed-7e8b284b3c37",
        "colab": {
          "base_uri": "https://localhost:8080/"
        }
      },
      "execution_count": 30,
      "outputs": [
        {
          "output_type": "execute_result",
          "data": {
            "text/plain": [
              "(50000, 32, 32, 3)"
            ]
          },
          "metadata": {},
          "execution_count": 30
        }
      ]
    },
    {
      "cell_type": "code",
      "source": [
        "# base model\n",
        "model = models.Sequential()\n",
        "model.add(layers.Conv2D(6, 5, activation='relu', input_shape=(32,32,3),padding='same'))\n",
        "model.add(layers.AveragePooling2D(2))\n",
        "model.add(layers.Activation('relu'))\n",
        "model.add(layers.Conv2D(16, 5, activation='tanh',padding='valid'))\n",
        "model.add(layers.AveragePooling2D(2))\n",
        "model.add(layers.Activation('relu'))\n",
        "model.add(layers.Conv2D(120, 5, activation='tanh',padding='valid'))\n",
        "model.add(layers.Flatten())\n",
        "model.add(layers.Dense(84, activation='tanh'))\n",
        "model.add(layers.Dense(10, activation='softmax'))\n",
        "model.summary()"
      ],
      "metadata": {
        "id": "yDYB2LcR8PkX",
        "colab": {
          "base_uri": "https://localhost:8080/"
        },
        "outputId": "79eb51f8-5384-4df4-8514-4a0ea0b19f65"
      },
      "execution_count": 31,
      "outputs": [
        {
          "output_type": "stream",
          "name": "stdout",
          "text": [
            "Model: \"sequential_3\"\n",
            "_________________________________________________________________\n",
            " Layer (type)                Output Shape              Param #   \n",
            "=================================================================\n",
            " conv2d_5 (Conv2D)           (None, 32, 32, 6)         456       \n",
            "                                                                 \n",
            " average_pooling2d_2 (Averag  (None, 16, 16, 6)        0         \n",
            " ePooling2D)                                                     \n",
            "                                                                 \n",
            " activation_2 (Activation)   (None, 16, 16, 6)         0         \n",
            "                                                                 \n",
            " conv2d_6 (Conv2D)           (None, 12, 12, 16)        2416      \n",
            "                                                                 \n",
            " average_pooling2d_3 (Averag  (None, 6, 6, 16)         0         \n",
            " ePooling2D)                                                     \n",
            "                                                                 \n",
            " activation_3 (Activation)   (None, 6, 6, 16)          0         \n",
            "                                                                 \n",
            " conv2d_7 (Conv2D)           (None, 2, 2, 120)         48120     \n",
            "                                                                 \n",
            " flatten_2 (Flatten)         (None, 480)               0         \n",
            "                                                                 \n",
            " dense_5 (Dense)             (None, 84)                40404     \n",
            "                                                                 \n",
            " dense_6 (Dense)             (None, 10)                850       \n",
            "                                                                 \n",
            "=================================================================\n",
            "Total params: 92,246\n",
            "Trainable params: 92,246\n",
            "Non-trainable params: 0\n",
            "_________________________________________________________________\n"
          ]
        }
      ]
    },
    {
      "cell_type": "code",
      "source": [
        "batch_size=64\n",
        "epochs=10"
      ],
      "metadata": {
        "id": "K1U6wqHRjU9t"
      },
      "execution_count": 24,
      "outputs": []
    },
    {
      "cell_type": "code",
      "source": [
        "# base model accuracy\n",
        "model.compile(optimizer='adam', loss=losses.sparse_categorical_crossentropy, metrics=['accuracy'])\n",
        "history_base = model.fit(x_train, y_train, batch_size=batch_size, epochs=epochs, validation_data=(x_test, y_test),verbose=1)"
      ],
      "metadata": {
        "colab": {
          "base_uri": "https://localhost:8080/"
        },
        "id": "bT3ojZMg8PmM",
        "outputId": "71fa639f-b179-4013-db00-b9dd0d217679"
      },
      "execution_count": 32,
      "outputs": [
        {
          "output_type": "stream",
          "name": "stdout",
          "text": [
            "Epoch 1/10\n",
            "782/782 [==============================] - 66s 75ms/step - loss: 1.5996 - accuracy: 0.4157 - val_loss: 1.4442 - val_accuracy: 0.4790\n",
            "Epoch 2/10\n",
            "782/782 [==============================] - 60s 77ms/step - loss: 1.3802 - accuracy: 0.5033 - val_loss: 1.3830 - val_accuracy: 0.5044\n",
            "Epoch 3/10\n",
            "782/782 [==============================] - 57s 72ms/step - loss: 1.2968 - accuracy: 0.5353 - val_loss: 1.2606 - val_accuracy: 0.5486\n",
            "Epoch 4/10\n",
            "782/782 [==============================] - 56s 71ms/step - loss: 1.2397 - accuracy: 0.5586 - val_loss: 1.2277 - val_accuracy: 0.5607\n",
            "Epoch 5/10\n",
            "782/782 [==============================] - 58s 74ms/step - loss: 1.1934 - accuracy: 0.5732 - val_loss: 1.2002 - val_accuracy: 0.5648\n",
            "Epoch 6/10\n",
            "782/782 [==============================] - 56s 72ms/step - loss: 1.1492 - accuracy: 0.5921 - val_loss: 1.1846 - val_accuracy: 0.5749\n",
            "Epoch 7/10\n",
            "782/782 [==============================] - 57s 73ms/step - loss: 1.1162 - accuracy: 0.6045 - val_loss: 1.1487 - val_accuracy: 0.5923\n",
            "Epoch 8/10\n",
            "782/782 [==============================] - 56s 72ms/step - loss: 1.0844 - accuracy: 0.6184 - val_loss: 1.1698 - val_accuracy: 0.5820\n",
            "Epoch 9/10\n",
            "782/782 [==============================] - 56s 72ms/step - loss: 1.0543 - accuracy: 0.6284 - val_loss: 1.1728 - val_accuracy: 0.5874\n",
            "Epoch 10/10\n",
            "782/782 [==============================] - 58s 74ms/step - loss: 1.0305 - accuracy: 0.6379 - val_loss: 1.1247 - val_accuracy: 0.5994\n"
          ]
        }
      ]
    },
    {
      "cell_type": "code",
      "source": [
        "# Test baseline accuracy\n",
        "import tempfile\n",
        "\n",
        "_, baseline_model_accuracy = model.evaluate(x_test,y_test, verbose=0)\n",
        "\n",
        "print('Baseline test accuracy:', baseline_model_accuracy)\n"
      ],
      "metadata": {
        "id": "zsce210CHduF",
        "colab": {
          "base_uri": "https://localhost:8080/"
        },
        "outputId": "bcd6b208-2095-4561-f23f-e52d85912d02"
      },
      "execution_count": 33,
      "outputs": [
        {
          "output_type": "stream",
          "name": "stdout",
          "text": [
            "Baseline test accuracy: 0.599399983882904\n"
          ]
        }
      ]
    },
    {
      "cell_type": "code",
      "source": [
        "# base model saved location\n",
        "_, keras_file = tempfile.mkstemp('.h5')\n",
        "print('Saving model to: ', keras_file)\n",
        "tf.keras.models.save_model(model, keras_file, include_optimizer=False)"
      ],
      "metadata": {
        "colab": {
          "base_uri": "https://localhost:8080/"
        },
        "id": "F2lQ8w0xW-vw",
        "outputId": "ac9edeb4-bdff-4504-a3f9-37ff62ea083c"
      },
      "execution_count": 34,
      "outputs": [
        {
          "output_type": "stream",
          "name": "stdout",
          "text": [
            "Saving model to:  /tmp/tmpuxky2pj5.h5\n"
          ]
        }
      ]
    },
    {
      "cell_type": "code",
      "source": [
        "###############################\n",
        "########### PRUNING ###########\n",
        "###############################"
      ],
      "metadata": {
        "id": "KbFQNPXaHn0U"
      },
      "execution_count": 35,
      "outputs": []
    },
    {
      "cell_type": "code",
      "source": [
        "pip install tensorflow-model-optimization"
      ],
      "metadata": {
        "colab": {
          "base_uri": "https://localhost:8080/"
        },
        "id": "c4FQzpMcD2U8",
        "outputId": "b6b35e0b-a9b3-48c5-a138-b21c4a67fc7e"
      },
      "execution_count": 36,
      "outputs": [
        {
          "output_type": "stream",
          "name": "stdout",
          "text": [
            "Looking in indexes: https://pypi.org/simple, https://us-python.pkg.dev/colab-wheels/public/simple/\n",
            "Collecting tensorflow-model-optimization\n",
            "  Downloading tensorflow_model_optimization-0.7.3-py2.py3-none-any.whl (238 kB)\n",
            "\u001b[K     |████████████████████████████████| 238 kB 8.0 MB/s \n",
            "\u001b[?25hRequirement already satisfied: six~=1.10 in /usr/local/lib/python3.7/dist-packages (from tensorflow-model-optimization) (1.15.0)\n",
            "Requirement already satisfied: numpy~=1.14 in /usr/local/lib/python3.7/dist-packages (from tensorflow-model-optimization) (1.21.6)\n",
            "Requirement already satisfied: dm-tree~=0.1.1 in /usr/local/lib/python3.7/dist-packages (from tensorflow-model-optimization) (0.1.7)\n",
            "Installing collected packages: tensorflow-model-optimization\n",
            "Successfully installed tensorflow-model-optimization-0.7.3\n"
          ]
        }
      ]
    },
    {
      "cell_type": "code",
      "source": [
        "## Prunning the entire dataset\n",
        "\n",
        "import tensorflow_model_optimization as tfmot\n",
        "import numpy as np\n",
        "\n",
        "prune_low_magnitude = tfmot.sparsity.keras.prune_low_magnitude\n",
        "\n",
        "# batch_size & epochs stay the same as the baseline model\n",
        "batch_size = 64\n",
        "epochs = 5\n",
        "\n",
        "\n",
        "# Define model for pruning.\n",
        "# For the pruning schedule, we start at the sparsity level 50% \n",
        "# and gradually train the model to reach 90% sparsity. \n",
        "# 90% of the weight tensor is going to be pruned away.\n",
        "\n",
        "x = 0.2\n",
        "sparsity = []\n",
        "acc = []\n",
        "while x <= 0.9:\n",
        "  print(\"current x is: \",x)\n",
        "  sparsity.append(x)\n",
        "  pruning_params = {\n",
        "      'pruning_schedule': tfmot.sparsity.keras.ConstantSparsity(x, begin_step=0, frequency=100)\n",
        "  }\n",
        "  callbacks = [\n",
        "      tfmot.sparsity.keras.UpdatePruningStep()\n",
        "    ]\n",
        "\n",
        "  model_for_pruning = prune_low_magnitude(model, **pruning_params)\n",
        "\n",
        "  # `prune_low_magnitude` requires a recompile.\n",
        "  model_for_pruning.compile(optimizer='adam',\n",
        "                            loss=tf.keras.losses.SparseCategoricalCrossentropy(from_logits=True),\n",
        "                            metrics=['accuracy'])\n",
        "\n",
        "  history_pruned = model_for_pruning.fit(x_train,y_train,\n",
        "                      batch_size=batch_size, epochs=epochs, validation_data=(x_test, y_test),\n",
        "                      callbacks=callbacks)\n",
        "    \n",
        "  _, model_for_pruning_accuracy = model_for_pruning.evaluate(x_train,y_train, verbose=0)\n",
        "\n",
        "  print(\"current x is: \",x, \"and model acc is: \",model_for_pruning_accuracy)\n",
        "  acc.append(model_for_pruning_accuracy)\n",
        "  print(\"sparsity: \", sparsity)\n",
        "  print(\"accuracy list: \", acc)\n",
        "  x += 0.1\n",
        "\n",
        "# model_for_pruning.summary()"
      ],
      "metadata": {
        "id": "5TjUZxOvZO0c",
        "colab": {
          "base_uri": "https://localhost:8080/"
        },
        "outputId": "77c9312f-4929-4b00-c6a1-4894e39d124a"
      },
      "execution_count": 37,
      "outputs": [
        {
          "output_type": "stream",
          "name": "stdout",
          "text": [
            "current x is:  0.2\n",
            "Epoch 1/5\n"
          ]
        },
        {
          "output_type": "stream",
          "name": "stderr",
          "text": [
            "/usr/local/lib/python3.7/dist-packages/tensorflow/python/util/dispatch.py:1082: UserWarning: \"`sparse_categorical_crossentropy` received `from_logits=True`, but the `output` argument was produced by a sigmoid or softmax activation and thus does not represent logits. Was this intended?\"\n",
            "  return dispatch_target(*args, **kwargs)\n"
          ]
        },
        {
          "output_type": "stream",
          "name": "stdout",
          "text": [
            "782/782 [==============================] - 65s 78ms/step - loss: 0.9846 - accuracy: 0.6549 - val_loss: 1.0687 - val_accuracy: 0.6222\n",
            "Epoch 2/5\n",
            "782/782 [==============================] - 64s 82ms/step - loss: 0.9562 - accuracy: 0.6626 - val_loss: 1.0714 - val_accuracy: 0.6198\n",
            "Epoch 3/5\n",
            "782/782 [==============================] - 60s 77ms/step - loss: 0.9399 - accuracy: 0.6737 - val_loss: 1.1061 - val_accuracy: 0.6072\n",
            "Epoch 4/5\n",
            "782/782 [==============================] - 62s 79ms/step - loss: 0.9175 - accuracy: 0.6805 - val_loss: 1.0684 - val_accuracy: 0.6274\n",
            "Epoch 5/5\n",
            "782/782 [==============================] - 60s 76ms/step - loss: 0.9011 - accuracy: 0.6835 - val_loss: 1.0593 - val_accuracy: 0.6297\n",
            "current x is:  0.2 and model acc is:  0.7028999924659729\n",
            "sparsity:  [0.2]\n",
            "accuracy list:  [0.7028999924659729]\n",
            "current x is:  0.30000000000000004\n",
            "Epoch 1/5\n",
            "782/782 [==============================] - 64s 79ms/step - loss: 0.8752 - accuracy: 0.6903 - val_loss: 1.0382 - val_accuracy: 0.6354\n",
            "Epoch 2/5\n",
            "782/782 [==============================] - 62s 79ms/step - loss: 0.8515 - accuracy: 0.7013 - val_loss: 1.0575 - val_accuracy: 0.6318\n",
            "Epoch 3/5\n",
            "782/782 [==============================] - 64s 82ms/step - loss: 0.8313 - accuracy: 0.7083 - val_loss: 1.0441 - val_accuracy: 0.6378\n",
            "Epoch 4/5\n",
            "782/782 [==============================] - 62s 80ms/step - loss: 0.8212 - accuracy: 0.7121 - val_loss: 1.0503 - val_accuracy: 0.6392\n",
            "Epoch 5/5\n",
            "782/782 [==============================] - 64s 82ms/step - loss: 0.8036 - accuracy: 0.7192 - val_loss: 1.0774 - val_accuracy: 0.6306\n",
            "current x is:  0.30000000000000004 and model acc is:  0.7268999814987183\n",
            "sparsity:  [0.2, 0.30000000000000004]\n",
            "accuracy list:  [0.7028999924659729, 0.7268999814987183]\n",
            "current x is:  0.4\n",
            "Epoch 1/5\n",
            "782/782 [==============================] - 66s 81ms/step - loss: 0.7944 - accuracy: 0.7238 - val_loss: 1.0433 - val_accuracy: 0.6398\n",
            "Epoch 2/5\n",
            "782/782 [==============================] - 63s 80ms/step - loss: 0.7643 - accuracy: 0.7330 - val_loss: 1.0460 - val_accuracy: 0.6433\n",
            "Epoch 3/5\n",
            "782/782 [==============================] - 61s 78ms/step - loss: 0.7525 - accuracy: 0.7370 - val_loss: 1.0573 - val_accuracy: 0.6429\n",
            "Epoch 4/5\n",
            "782/782 [==============================] - 63s 80ms/step - loss: 0.7361 - accuracy: 0.7435 - val_loss: 1.0821 - val_accuracy: 0.6380\n",
            "Epoch 5/5\n",
            "782/782 [==============================] - 62s 79ms/step - loss: 0.7237 - accuracy: 0.7494 - val_loss: 1.0893 - val_accuracy: 0.6359\n",
            "current x is:  0.4 and model acc is:  0.7552800178527832\n",
            "sparsity:  [0.2, 0.30000000000000004, 0.4]\n",
            "accuracy list:  [0.7028999924659729, 0.7268999814987183, 0.7552800178527832]\n",
            "current x is:  0.5\n",
            "Epoch 1/5\n",
            "782/782 [==============================] - 64s 79ms/step - loss: 0.7445 - accuracy: 0.7378 - val_loss: 1.0551 - val_accuracy: 0.6432\n",
            "Epoch 2/5\n",
            "782/782 [==============================] - 64s 81ms/step - loss: 0.6973 - accuracy: 0.7551 - val_loss: 1.0721 - val_accuracy: 0.6427\n",
            "Epoch 3/5\n",
            "782/782 [==============================] - 61s 78ms/step - loss: 0.6841 - accuracy: 0.7611 - val_loss: 1.0725 - val_accuracy: 0.6464\n",
            "Epoch 4/5\n",
            "782/782 [==============================] - 63s 80ms/step - loss: 0.6658 - accuracy: 0.7688 - val_loss: 1.1121 - val_accuracy: 0.6372\n",
            "Epoch 5/5\n",
            "782/782 [==============================] - 64s 82ms/step - loss: 0.6560 - accuracy: 0.7704 - val_loss: 1.1311 - val_accuracy: 0.6316\n",
            "current x is:  0.5 and model acc is:  0.7737799882888794\n",
            "sparsity:  [0.2, 0.30000000000000004, 0.4, 0.5]\n",
            "accuracy list:  [0.7028999924659729, 0.7268999814987183, 0.7552800178527832, 0.7737799882888794]\n",
            "current x is:  0.6\n",
            "Epoch 1/5\n",
            "782/782 [==============================] - 70s 86ms/step - loss: 0.7352 - accuracy: 0.7411 - val_loss: 1.0801 - val_accuracy: 0.6375\n",
            "Epoch 2/5\n",
            "782/782 [==============================] - 63s 80ms/step - loss: 0.6688 - accuracy: 0.7657 - val_loss: 1.1094 - val_accuracy: 0.6406\n",
            "Epoch 3/5\n",
            "782/782 [==============================] - 64s 81ms/step - loss: 0.6451 - accuracy: 0.7742 - val_loss: 1.1038 - val_accuracy: 0.6396\n",
            "Epoch 4/5\n",
            "782/782 [==============================] - 62s 80ms/step - loss: 0.6281 - accuracy: 0.7810 - val_loss: 1.1102 - val_accuracy: 0.6403\n",
            "Epoch 5/5\n",
            "782/782 [==============================] - 63s 81ms/step - loss: 0.6152 - accuracy: 0.7849 - val_loss: 1.1575 - val_accuracy: 0.6268\n",
            "current x is:  0.6 and model acc is:  0.7806400060653687\n",
            "sparsity:  [0.2, 0.30000000000000004, 0.4, 0.5, 0.6]\n",
            "accuracy list:  [0.7028999924659729, 0.7268999814987183, 0.7552800178527832, 0.7737799882888794, 0.7806400060653687]\n",
            "current x is:  0.7\n",
            "Epoch 1/5\n",
            "782/782 [==============================] - 62s 76ms/step - loss: 1.0288 - accuracy: 0.6415 - val_loss: 1.1325 - val_accuracy: 0.6176\n",
            "Epoch 2/5\n",
            "782/782 [==============================] - 62s 79ms/step - loss: 0.7373 - accuracy: 0.7378 - val_loss: 1.1070 - val_accuracy: 0.6360\n",
            "Epoch 3/5\n",
            "782/782 [==============================] - 61s 78ms/step - loss: 0.6971 - accuracy: 0.7528 - val_loss: 1.1047 - val_accuracy: 0.6302\n",
            "Epoch 4/5\n",
            "782/782 [==============================] - 62s 79ms/step - loss: 0.6729 - accuracy: 0.7641 - val_loss: 1.1094 - val_accuracy: 0.6401\n",
            "Epoch 5/5\n",
            "782/782 [==============================] - 61s 78ms/step - loss: 0.6572 - accuracy: 0.7675 - val_loss: 1.1274 - val_accuracy: 0.6356\n",
            "current x is:  0.7 and model acc is:  0.7821400165557861\n",
            "sparsity:  [0.2, 0.30000000000000004, 0.4, 0.5, 0.6, 0.7]\n",
            "accuracy list:  [0.7028999924659729, 0.7268999814987183, 0.7552800178527832, 0.7737799882888794, 0.7806400060653687, 0.7821400165557861]\n",
            "current x is:  0.7999999999999999\n",
            "Epoch 1/5\n",
            "782/782 [==============================] - 65s 80ms/step - loss: 1.1349 - accuracy: 0.6049 - val_loss: 1.1623 - val_accuracy: 0.5949\n",
            "Epoch 2/5\n",
            "782/782 [==============================] - 64s 82ms/step - loss: 0.9122 - accuracy: 0.6764 - val_loss: 1.0786 - val_accuracy: 0.6305\n",
            "Epoch 3/5\n",
            "782/782 [==============================] - 61s 78ms/step - loss: 0.8577 - accuracy: 0.6993 - val_loss: 1.0697 - val_accuracy: 0.6358\n",
            "Epoch 4/5\n",
            "782/782 [==============================] - 63s 81ms/step - loss: 0.8283 - accuracy: 0.7085 - val_loss: 1.0691 - val_accuracy: 0.6338\n",
            "Epoch 5/5\n",
            "782/782 [==============================] - 63s 80ms/step - loss: 0.8065 - accuracy: 0.7179 - val_loss: 1.0525 - val_accuracy: 0.6429\n",
            "current x is:  0.7999999999999999 and model acc is:  0.7302799820899963\n",
            "sparsity:  [0.2, 0.30000000000000004, 0.4, 0.5, 0.6, 0.7, 0.7999999999999999]\n",
            "accuracy list:  [0.7028999924659729, 0.7268999814987183, 0.7552800178527832, 0.7737799882888794, 0.7806400060653687, 0.7821400165557861, 0.7302799820899963]\n",
            "current x is:  0.8999999999999999\n",
            "Epoch 1/5\n",
            "782/782 [==============================] - 71s 86ms/step - loss: 1.7449 - accuracy: 0.3586 - val_loss: 1.6190 - val_accuracy: 0.4096\n",
            "Epoch 2/5\n",
            "782/782 [==============================] - 63s 81ms/step - loss: 1.4184 - accuracy: 0.4878 - val_loss: 1.2910 - val_accuracy: 0.5414\n",
            "Epoch 3/5\n",
            "782/782 [==============================] - 63s 81ms/step - loss: 1.2097 - accuracy: 0.5726 - val_loss: 1.2034 - val_accuracy: 0.5775\n",
            "Epoch 4/5\n",
            "782/782 [==============================] - 63s 81ms/step - loss: 1.1373 - accuracy: 0.5988 - val_loss: 1.1889 - val_accuracy: 0.5834\n",
            "Epoch 5/5\n",
            "782/782 [==============================] - 63s 81ms/step - loss: 1.0954 - accuracy: 0.6141 - val_loss: 1.1362 - val_accuracy: 0.6021\n",
            "current x is:  0.8999999999999999 and model acc is:  0.6231799721717834\n",
            "sparsity:  [0.2, 0.30000000000000004, 0.4, 0.5, 0.6, 0.7, 0.7999999999999999, 0.8999999999999999]\n",
            "accuracy list:  [0.7028999924659729, 0.7268999814987183, 0.7552800178527832, 0.7737799882888794, 0.7806400060653687, 0.7821400165557861, 0.7302799820899963, 0.6231799721717834]\n"
          ]
        }
      ]
    },
    {
      "cell_type": "code",
      "source": [
        "sparsity = [round(x, 2) for x in sparsity]\n",
        "sparsity"
      ],
      "metadata": {
        "colab": {
          "base_uri": "https://localhost:8080/"
        },
        "id": "xO65-xSKut59",
        "outputId": "78004494-e297-4873-aa3b-7975a761d893"
      },
      "execution_count": 43,
      "outputs": [
        {
          "output_type": "execute_result",
          "data": {
            "text/plain": [
              "[0.2, 0.3, 0.4, 0.5, 0.6, 0.7, 0.8, 0.9]"
            ]
          },
          "metadata": {},
          "execution_count": 43
        }
      ]
    },
    {
      "cell_type": "code",
      "source": [
        "acc"
      ],
      "metadata": {
        "colab": {
          "base_uri": "https://localhost:8080/"
        },
        "id": "1RQ_VgnPuwv0",
        "outputId": "541b7e80-b0c9-4add-9608-8fc4b9344329"
      },
      "execution_count": 44,
      "outputs": [
        {
          "output_type": "execute_result",
          "data": {
            "text/plain": [
              "[0.7028999924659729,\n",
              " 0.7268999814987183,\n",
              " 0.7552800178527832,\n",
              " 0.7737799882888794,\n",
              " 0.7806400060653687,\n",
              " 0.7821400165557861,\n",
              " 0.7302799820899963,\n",
              " 0.6231799721717834]"
            ]
          },
          "metadata": {},
          "execution_count": 44
        }
      ]
    },
    {
      "cell_type": "code",
      "source": [
        "# # fit the pruned model\n",
        "\n",
        "# logdir = tempfile.mkdtemp()\n",
        "\n",
        "# callbacks = [\n",
        "#   tfmot.sparsity.keras.UpdatePruningStep(),\n",
        "#   tfmot.sparsity.keras.PruningSummaries(log_dir=logdir),\n",
        "# ]\n",
        "\n",
        "# history_pruned = model_for_pruning.fit(x_train,y_train,\n",
        "#                   batch_size=batch_size, epochs=epochs, validation_split=validation_split,\n",
        "#                   callbacks=callbacks)"
      ],
      "metadata": {
        "id": "7d-X3PqEE_25"
      },
      "execution_count": 45,
      "outputs": []
    },
    {
      "cell_type": "code",
      "source": [
        "# Test out pruned model accuracy\n",
        "# _, model_for_pruning_accuracy = model_for_pruning.evaluate(\n",
        "#    x_train,y_train, verbose=0)"
      ],
      "metadata": {
        "id": "sTkfl80b2o-m"
      },
      "execution_count": 46,
      "outputs": []
    },
    {
      "cell_type": "code",
      "source": [
        "# compare results\n",
        "print('Baseline test accuracy:', baseline_model_accuracy) \n",
        "print('Pruned test accuracy:', model_for_pruning_accuracy)"
      ],
      "metadata": {
        "colab": {
          "base_uri": "https://localhost:8080/"
        },
        "id": "cy5TXkXi3GP4",
        "outputId": "baaecc5f-7611-49c0-b0ed-d1f1ec6640a1"
      },
      "execution_count": 47,
      "outputs": [
        {
          "output_type": "stream",
          "name": "stdout",
          "text": [
            "Baseline test accuracy: 0.599399983882904\n",
            "Pruned test accuracy: 0.6231799721717834\n"
          ]
        }
      ]
    },
    {
      "cell_type": "code",
      "source": [
        "# Once our pre-trained model achieved desirable accuracy\n",
        "# we save the model trained model and make it “prunable”\n",
        "# _, keras_file = tempfile.mkstemp('.h5')\n",
        "# tf.keras.models.save_model(model_for_pruning, keras_file, include_optimizer=False)\n",
        "# print('Saved baseline model to:', keras_file)"
      ],
      "metadata": {
        "id": "6CCXJzyLSTvd"
      },
      "execution_count": 48,
      "outputs": []
    },
    {
      "cell_type": "code",
      "source": [
        "compression_ratio = [1/x for x in sparsity]\n",
        "compression_ratio"
      ],
      "metadata": {
        "colab": {
          "base_uri": "https://localhost:8080/"
        },
        "id": "ILkolML0DH5Q",
        "outputId": "ab1e506b-efe1-4bc4-e6ea-732896634fa6"
      },
      "execution_count": 49,
      "outputs": [
        {
          "output_type": "execute_result",
          "data": {
            "text/plain": [
              "[5.0,\n",
              " 3.3333333333333335,\n",
              " 2.5,\n",
              " 2.0,\n",
              " 1.6666666666666667,\n",
              " 1.4285714285714286,\n",
              " 1.25,\n",
              " 1.1111111111111112]"
            ]
          },
          "metadata": {},
          "execution_count": 49
        }
      ]
    },
    {
      "cell_type": "code",
      "source": [
        "acc"
      ],
      "metadata": {
        "colab": {
          "base_uri": "https://localhost:8080/"
        },
        "id": "DfUOmFwRHqFg",
        "outputId": "1a21cde9-723e-4c9b-f647-c225ea4ede51"
      },
      "execution_count": 50,
      "outputs": [
        {
          "output_type": "execute_result",
          "data": {
            "text/plain": [
              "[0.7028999924659729,\n",
              " 0.7268999814987183,\n",
              " 0.7552800178527832,\n",
              " 0.7737799882888794,\n",
              " 0.7806400060653687,\n",
              " 0.7821400165557861,\n",
              " 0.7302799820899963,\n",
              " 0.6231799721717834]"
            ]
          },
          "metadata": {},
          "execution_count": 50
        }
      ]
    },
    {
      "cell_type": "code",
      "source": [
        "# pruned model saved\n",
        "_, pruned_keras_file = tempfile.mkstemp('.h5')\n",
        "print('Saving model to: ', pruned_keras_file)\n",
        "tf.keras.models.save_model(model_for_pruning, pruned_keras_file, include_optimizer=False)"
      ],
      "metadata": {
        "colab": {
          "base_uri": "https://localhost:8080/"
        },
        "id": "lAPakfQNktBP",
        "outputId": "0a20ea29-4f88-4d32-d08d-06774db61636"
      },
      "execution_count": 51,
      "outputs": [
        {
          "output_type": "stream",
          "name": "stdout",
          "text": [
            "Saving model to:  /tmp/tmpvl_c46r1.h5\n"
          ]
        }
      ]
    },
    {
      "cell_type": "code",
      "source": [
        "###############################\n",
        "###### PRUNING RESULT #########\n",
        "###############################"
      ],
      "metadata": {
        "id": "ouYSl9PxkTbn"
      },
      "execution_count": 52,
      "outputs": []
    },
    {
      "cell_type": "code",
      "source": [
        "# compression ratio vs accuracy graph\n",
        "import matplotlib.pyplot as plt\n",
        "\n",
        "fig, ax = plt.subplots()\n",
        "# plt.scatter(compression_rat, acc)\n",
        "ax.plot(compression_ratio, acc, linewidth=2.0)\n",
        "plt.xlabel('Compresion Ratio')\n",
        "plt.ylabel('Accuracy')\n",
        "plt.title('Compresion Ratio VS Accuracy')\n",
        "plt.show()"
      ],
      "metadata": {
        "colab": {
          "base_uri": "https://localhost:8080/",
          "height": 295
        },
        "id": "l4WKeq4Z9jgn",
        "outputId": "3460eb76-572e-47e3-f20b-5a1cd9bf9a40"
      },
      "execution_count": 53,
      "outputs": [
        {
          "output_type": "display_data",
          "data": {
            "text/plain": [
              "<Figure size 432x288 with 1 Axes>"
            ],
            "image/png": "[encoded data removed]"
          },
          "metadata": {
            "needs_background": "light"
          }
        }
      ]
    },
    {
      "cell_type": "code",
      "source": [
        "# accuracy results\n",
        "print('Baseline test accuracy:', baseline_model_accuracy) \n",
        "print('Pruned test accuracy (90% pruned rate):', model_for_pruning_accuracy)"
      ],
      "metadata": {
        "colab": {
          "base_uri": "https://localhost:8080/"
        },
        "id": "TaXou0THFM68",
        "outputId": "33fd057b-10eb-42c6-fd8e-2e427f1e2ee3"
      },
      "execution_count": 54,
      "outputs": [
        {
          "output_type": "stream",
          "name": "stdout",
          "text": [
            "Baseline test accuracy: 0.599399983882904\n",
            "Pruned test accuracy (90% pruned rate): 0.6231799721717834\n"
          ]
        }
      ]
    },
    {
      "cell_type": "code",
      "source": [
        "# pruned model summary\n",
        "# model_for_pruning.summary()"
      ],
      "metadata": {
        "id": "1kkGkxKBIhxQ"
      },
      "execution_count": 55,
      "outputs": []
    },
    {
      "cell_type": "code",
      "source": [
        "# base model summary\n",
        "# model.summary()"
      ],
      "metadata": {
        "id": "aBpM7UF9Kzog"
      },
      "execution_count": 56,
      "outputs": []
    },
    {
      "cell_type": "code",
      "source": [
        "# helper function to get model size\n",
        "def get_gzipped_model_size(file):\n",
        "  # Returns size of gzipped model, in bytes.\n",
        "  import os\n",
        "  import zipfile\n",
        "\n",
        "  _, zipped_file = tempfile.mkstemp('.zip')\n",
        "  with zipfile.ZipFile(zipped_file, 'w', compression=zipfile.ZIP_DEFLATED) as f:\n",
        "    f.write(file)\n",
        "\n",
        "  return os.path.getsize(zipped_file)"
      ],
      "metadata": {
        "id": "H1Fm186si2le"
      },
      "execution_count": 57,
      "outputs": []
    },
    {
      "cell_type": "code",
      "source": [
        "# compare model size\n",
        "print(\"Size of gzipped baseline Keras model: %.2f bytes\" % (get_gzipped_model_size(keras_file)))\n",
        "print(\"Size of gzipped pruned Keras model: %.2f bytes\" % (get_gzipped_model_size(pruned_keras_file)))"
      ],
      "metadata": {
        "colab": {
          "base_uri": "https://localhost:8080/"
        },
        "id": "pSF_b1K2klTA",
        "outputId": "822c5e70-009a-478d-c811-bf9a1dff8076"
      },
      "execution_count": 58,
      "outputs": [
        {
          "output_type": "stream",
          "name": "stdout",
          "text": [
            "Size of gzipped baseline Keras model: 346362.00 bytes\n",
            "Size of gzipped pruned Keras model: 91857.00 bytes\n"
          ]
        }
      ]
    },
    {
      "cell_type": "code",
      "source": [
        "# confusion matrix for based model\n",
        "from sklearn.metrics import confusion_matrix\n",
        "import numpy as np\n",
        "test_predictions = model.predict(x_test)\n",
        "confusion = confusion_matrix(y_test, np.argmax(test_predictions,axis=1))\n",
        "confusion"
      ],
      "metadata": {
        "colab": {
          "base_uri": "https://localhost:8080/"
        },
        "id": "lo8-Oz4ystSc",
        "outputId": "150aaba1-06e2-4e8e-ddfd-692c7715aee4"
      },
      "execution_count": 59,
      "outputs": [
        {
          "output_type": "stream",
          "name": "stdout",
          "text": [
            "313/313 [==============================] - 6s 18ms/step\n"
          ]
        },
        {
          "output_type": "execute_result",
          "data": {
            "text/plain": [
              "array([[717,  25,  45,  11,  32,  10,   8,   3, 106,  43],\n",
              "       [ 33, 708,   8,   9,  14,   9,  17,   4,  53, 145],\n",
              "       [ 93,  11, 418,  56, 156, 142,  55,  32,  19,  18],\n",
              "       [ 51,  12,  64, 338,  99, 265,  65,  42,  29,  35],\n",
              "       [ 54,   4,  77,  61, 603,  52,  50,  69,  24,   6],\n",
              "       [ 23,   5,  53, 132,  81, 594,  23,  61,  16,  12],\n",
              "       [ 18,  17,  39,  61, 113,  61, 624,  17,  18,  32],\n",
              "       [ 29,   5,  45,  45,  98, 111,  15, 593,   9,  50],\n",
              "       [116,  56,  10,  13,   6,  13,   8,   8, 740,  30],\n",
              "       [ 41, 123,  12,  19,  11,  15,  15,  15,  63, 686]])"
            ]
          },
          "metadata": {},
          "execution_count": 59
        }
      ]
    },
    {
      "cell_type": "code",
      "source": [
        "# confusion matrix for pruned model\n",
        "p_test_predictions = model_for_pruning.predict(x_test)\n",
        "p_confusion = confusion_matrix(y_test, np.argmax(p_test_predictions,axis=1))\n",
        "p_confusion"
      ],
      "metadata": {
        "colab": {
          "base_uri": "https://localhost:8080/"
        },
        "id": "GeAi6GZ6pm6i",
        "outputId": "8160a89b-8165-475c-e9c2-9cd22bf1a9c9"
      },
      "execution_count": 60,
      "outputs": [
        {
          "output_type": "stream",
          "name": "stdout",
          "text": [
            "313/313 [==============================] - 6s 18ms/step\n"
          ]
        },
        {
          "output_type": "execute_result",
          "data": {
            "text/plain": [
              "array([[717,  25,  45,  11,  32,  10,   8,   3, 106,  43],\n",
              "       [ 33, 708,   8,   9,  14,   9,  17,   4,  53, 145],\n",
              "       [ 93,  11, 418,  56, 156, 142,  55,  32,  19,  18],\n",
              "       [ 51,  12,  64, 338,  99, 265,  65,  42,  29,  35],\n",
              "       [ 54,   4,  77,  61, 603,  52,  50,  69,  24,   6],\n",
              "       [ 23,   5,  53, 132,  81, 594,  23,  61,  16,  12],\n",
              "       [ 18,  17,  39,  61, 113,  61, 624,  17,  18,  32],\n",
              "       [ 29,   5,  45,  45,  98, 111,  15, 593,   9,  50],\n",
              "       [116,  56,  10,  13,   6,  13,   8,   8, 740,  30],\n",
              "       [ 41, 123,  12,  19,  11,  15,  15,  15,  63, 686]])"
            ]
          },
          "metadata": {},
          "execution_count": 60
        }
      ]
    },
    {
      "cell_type": "code",
      "source": [
        "###############################\n",
        "######## Quantization #########\n",
        "###############################"
      ],
      "metadata": {
        "id": "v5yiAke-NVhG"
      },
      "execution_count": 61,
      "outputs": []
    },
    {
      "cell_type": "code",
      "source": [
        "## Quantization \n",
        "import tensorflow_model_optimization as tfmot\n",
        "\n",
        "model_quant = tfmot.quantization.keras.quantize_model(model)\n",
        "model_quant.compile(optimizer='adam', loss=losses.sparse_categorical_crossentropy, metrics=['accuracy'])\n",
        "model_quant.summary()\n"
      ],
      "metadata": {
        "colab": {
          "base_uri": "https://localhost:8080/"
        },
        "id": "quDmyFES3QkO",
        "outputId": "f4398736-674d-47d2-8e83-4a5a99fff999"
      },
      "execution_count": 62,
      "outputs": [
        {
          "output_type": "stream",
          "name": "stdout",
          "text": [
            "Model: \"sequential_3\"\n",
            "_________________________________________________________________\n",
            " Layer (type)                Output Shape              Param #   \n",
            "=================================================================\n",
            " quantize_layer (QuantizeLay  (None, 32, 32, 3)        3         \n",
            " er)                                                             \n",
            "                                                                 \n",
            " quant_conv2d_5 (QuantizeWra  (None, 32, 32, 6)        471       \n",
            " pperV2)                                                         \n",
            "                                                                 \n",
            " quant_average_pooling2d_2 (  (None, 16, 16, 6)        3         \n",
            " QuantizeWrapperV2)                                              \n",
            "                                                                 \n",
            " quant_activation_2 (Quantiz  (None, 16, 16, 6)        3         \n",
            " eWrapperV2)                                                     \n",
            "                                                                 \n",
            " quant_conv2d_6 (QuantizeWra  (None, 12, 12, 16)       2451      \n",
            " pperV2)                                                         \n",
            "                                                                 \n",
            " quant_average_pooling2d_3 (  (None, 6, 6, 16)         3         \n",
            " QuantizeWrapperV2)                                              \n",
            "                                                                 \n",
            " quant_activation_3 (Quantiz  (None, 6, 6, 16)         3         \n",
            " eWrapperV2)                                                     \n",
            "                                                                 \n",
            " quant_conv2d_7 (QuantizeWra  (None, 2, 2, 120)        48363     \n",
            " pperV2)                                                         \n",
            "                                                                 \n",
            " quant_flatten_2 (QuantizeWr  (None, 480)              1         \n",
            " apperV2)                                                        \n",
            "                                                                 \n",
            " quant_dense_5 (QuantizeWrap  (None, 84)               40409     \n",
            " perV2)                                                          \n",
            "                                                                 \n",
            " quant_dense_6 (QuantizeWrap  (None, 10)               855       \n",
            " perV2)                                                          \n",
            "                                                                 \n",
            "=================================================================\n",
            "Total params: 92,565\n",
            "Trainable params: 92,246\n",
            "Non-trainable params: 319\n",
            "_________________________________________________________________\n"
          ]
        }
      ]
    },
    {
      "cell_type": "code",
      "source": [
        "model_quant.fit(x_train, y_train, batch_size=64, epochs=5, validation_data=(x_test, y_test))"
      ],
      "metadata": {
        "colab": {
          "base_uri": "https://localhost:8080/"
        },
        "id": "8qrVIH4-cts5",
        "outputId": "52371fae-d365-43d7-fe4a-6ace12d1999e"
      },
      "execution_count": 64,
      "outputs": [
        {
          "output_type": "stream",
          "name": "stdout",
          "text": [
            "Epoch 1/5\n",
            "782/782 [==============================] - 76s 97ms/step - loss: 1.0935 - accuracy: 0.6127 - val_loss: 1.0451 - val_accuracy: 0.6326\n",
            "Epoch 2/5\n",
            "782/782 [==============================] - 71s 91ms/step - loss: 0.9672 - accuracy: 0.6597 - val_loss: 1.0834 - val_accuracy: 0.6205\n",
            "Epoch 3/5\n",
            "782/782 [==============================] - 69s 88ms/step - loss: 0.8988 - accuracy: 0.6875 - val_loss: 1.0781 - val_accuracy: 0.6323\n",
            "Epoch 4/5\n",
            "782/782 [==============================] - 77s 98ms/step - loss: 0.8610 - accuracy: 0.6995 - val_loss: 0.9800 - val_accuracy: 0.6645\n",
            "Epoch 5/5\n",
            "782/782 [==============================] - 69s 88ms/step - loss: 0.8201 - accuracy: 0.7126 - val_loss: 1.0231 - val_accuracy: 0.6486\n"
          ]
        },
        {
          "output_type": "execute_result",
          "data": {
            "text/plain": [
              "<keras.callbacks.History at 0x7f71a09aa5d0>"
            ]
          },
          "metadata": {},
          "execution_count": 64
        }
      ]
    },
    {
      "cell_type": "code",
      "source": [
        "# quant model saved\n",
        "converter = tf.lite.TFLiteConverter.from_keras_model(model_quant)\n",
        "quant_tflite_model = converter.convert()\n",
        "\n",
        "_, quant_tflite_file = tempfile.mkstemp('.h5')\n",
        "\n",
        "with open(quant_tflite_file, 'wb') as f:\n",
        "  f.write(quant_tflite_model)\n",
        "\n",
        "print('Saved pruned TFLite model to:', quant_tflite_file)\n"
      ],
      "metadata": {
        "colab": {
          "base_uri": "https://localhost:8080/"
        },
        "id": "6MnrqkLuEAyM",
        "outputId": "8772589b-a86f-47cf-b3bf-567d056f1fcd"
      },
      "execution_count": 65,
      "outputs": [
        {
          "output_type": "stream",
          "name": "stderr",
          "text": [
            "WARNING:absl:Found untraced functions such as conv2d_5_layer_call_fn, conv2d_5_layer_call_and_return_conditional_losses, _jit_compiled_convolution_op, activation_2_layer_call_fn, activation_2_layer_call_and_return_conditional_losses while saving (showing 5 of 19). These functions will not be directly callable after loading.\n"
          ]
        },
        {
          "output_type": "stream",
          "name": "stdout",
          "text": [
            "Saved pruned TFLite model to: /tmp/tmp3wvwxkwp.h5\n"
          ]
        }
      ]
    },
    {
      "cell_type": "code",
      "source": [
        "#####################################\n",
        "######## Quantization Result#########\n",
        "#####################################"
      ],
      "metadata": {
        "id": "Di97YRZXD7ki"
      },
      "execution_count": 66,
      "outputs": []
    },
    {
      "cell_type": "code",
      "source": [
        "# Accuracy comparisons\n",
        "_, model_quant_accuracy = model_quant.evaluate(x_train,y_train, verbose=0)\n",
        "print('Baseline test accuracy:', baseline_model_accuracy) \n",
        "print('Quantization test accuracy:', model_quant_accuracy)"
      ],
      "metadata": {
        "colab": {
          "base_uri": "https://localhost:8080/"
        },
        "id": "mswjUhcs41Vr",
        "outputId": "e90fa289-84d0-4a47-d613-663664e14605"
      },
      "execution_count": 67,
      "outputs": [
        {
          "output_type": "stream",
          "name": "stdout",
          "text": [
            "Baseline test accuracy: 0.599399983882904\n",
            "Quantization test accuracy: 0.7170000076293945\n"
          ]
        }
      ]
    },
    {
      "cell_type": "code",
      "source": [
        "# compare model size\n",
        "print(\"Size of gzipped baseline Keras model: %.2f bytes\" % (get_gzipped_model_size(keras_file)))\n",
        "print(\"Size of gzipped quantization Keras model: %.2f bytes\" % (get_gzipped_model_size(quant_tflite_file)))"
      ],
      "metadata": {
        "colab": {
          "base_uri": "https://localhost:8080/"
        },
        "id": "kMYVTyOYEA1w",
        "outputId": "306378b3-b415-4f90-8b7e-85d913bdfcb4"
      },
      "execution_count": 80,
      "outputs": [
        {
          "output_type": "stream",
          "name": "stdout",
          "text": [
            "Size of gzipped baseline Keras model: 346362.00 bytes\n",
            "Size of gzipped quantization Keras model: 298284.00 bytes\n"
          ]
        }
      ]
    },
    {
      "cell_type": "code",
      "source": [
        "#########################################\n",
        "######## Pruning + Quantization #########\n",
        "#########################################"
      ],
      "metadata": {
        "id": "W49wlVCs7XpU"
      },
      "execution_count": 68,
      "outputs": []
    },
    {
      "cell_type": "code",
      "source": [
        "## Prunning the entire dataset\n",
        "\n",
        "import tensorflow_model_optimization as tfmot\n",
        "import numpy as np\n",
        "\n",
        "prune_low_magnitude = tfmot.sparsity.keras.prune_low_magnitude\n",
        "\n",
        "# batch_size & epochs stay the same as the baseline model\n",
        "batch_size = 64\n",
        "epochs = 5\n",
        "\n",
        "\n",
        "# Define model for pruning.\n",
        "# For the pruning schedule, we start at the sparsity level 50% \n",
        "# and gradually train the model to reach 90% sparsity. \n",
        "# 90% of the weight tensor is going to be pruned away.\n",
        "\n",
        "x = 0.2\n",
        "sparsity_pq = []\n",
        "acc_pq = []\n",
        "while x <= 0.9:\n",
        "  print(\"current x is: \",x)\n",
        "  sparsity_pq.append(x)\n",
        "  pruning_params = {\n",
        "      'pruning_schedule': tfmot.sparsity.keras.ConstantSparsity(x, begin_step=0, frequency=100)\n",
        "  }\n",
        "  callbacks = [\n",
        "      tfmot.sparsity.keras.UpdatePruningStep()\n",
        "    ]\n",
        "\n",
        "  model_for_pruning = prune_low_magnitude(model, **pruning_params)\n",
        "\n",
        "  # `prune_low_magnitude` requires a recompile.\n",
        "  model_for_pruning.compile(optimizer='adam',\n",
        "                            loss=tf.keras.losses.SparseCategoricalCrossentropy(from_logits=True),\n",
        "                            metrics=['accuracy'])\n",
        "\n",
        "  history_pruned = model_for_pruning.fit(x_train,y_train,\n",
        "                      batch_size=batch_size, epochs=epochs, validation_data=(x_val, y_val),\n",
        "                      callbacks=callbacks)\n",
        "\n",
        "                      \n",
        "  model_for_export = tfmot.sparsity.keras.strip_pruning(model_for_pruning)\n",
        "  model_quant_prune = tfmot.quantization.keras.quantize_model(model_for_export)\n",
        "  model_quant_prune.compile(optimizer='adam', loss=losses.sparse_categorical_crossentropy, metrics=['accuracy'])\n",
        "  model_quant_prune.fit(x_train, y_train, batch_size=batch_size, epochs=epochs, validation_data=(x_val, y_val))\n",
        "    \n",
        "  _, model_quant_prune_accuracy = model_quant_prune.evaluate(x_train,y_train, verbose=0)\n",
        "\n",
        "  print(\"current x is: \",x, \"and model acc is: \",model_quant_prune_accuracy)\n",
        "  acc_pq.append(model_quant_prune_accuracy)\n",
        "  print(\"sparsity: \", sparsity_pq)\n",
        "  print(\"accuracy list: \", acc_pq)\n",
        "  x += 0.1\n",
        "\n",
        "# model_for_pruning.summary()"
      ],
      "metadata": {
        "colab": {
          "base_uri": "https://localhost:8080/"
        },
        "id": "VWv7GXZ7RLAV",
        "outputId": "902f282d-2113-490e-ee91-9ecba78c53b9"
      },
      "execution_count": 69,
      "outputs": [
        {
          "output_type": "stream",
          "name": "stdout",
          "text": [
            "current x is:  0.2\n",
            "Epoch 1/5\n"
          ]
        },
        {
          "output_type": "stream",
          "name": "stderr",
          "text": [
            "/usr/local/lib/python3.7/dist-packages/tensorflow/python/util/dispatch.py:1082: UserWarning: \"`sparse_categorical_crossentropy` received `from_logits=True`, but the `output` argument was produced by a sigmoid or softmax activation and thus does not represent logits. Was this intended?\"\n",
            "  return dispatch_target(*args, **kwargs)\n"
          ]
        },
        {
          "output_type": "stream",
          "name": "stdout",
          "text": [
            "782/782 [==============================] - 59s 73ms/step - loss: 1.0651 - accuracy: 0.6261 - val_loss: 0.9417 - val_accuracy: 0.6740\n",
            "Epoch 2/5\n",
            "782/782 [==============================] - 55s 70ms/step - loss: 0.9451 - accuracy: 0.6667 - val_loss: 0.8515 - val_accuracy: 0.6920\n",
            "Epoch 3/5\n",
            "782/782 [==============================] - 56s 72ms/step - loss: 0.8831 - accuracy: 0.6909 - val_loss: 0.7934 - val_accuracy: 0.7245\n",
            "Epoch 4/5\n",
            "782/782 [==============================] - 55s 70ms/step - loss: 0.8383 - accuracy: 0.7058 - val_loss: 0.7852 - val_accuracy: 0.7285\n",
            "Epoch 5/5\n",
            "782/782 [==============================] - 55s 70ms/step - loss: 0.8014 - accuracy: 0.7212 - val_loss: 0.7428 - val_accuracy: 0.7405\n",
            "Epoch 1/5\n",
            "782/782 [==============================] - 63s 79ms/step - loss: 0.8347 - accuracy: 0.7078 - val_loss: 0.7538 - val_accuracy: 0.7220\n",
            "Epoch 2/5\n",
            "782/782 [==============================] - 61s 78ms/step - loss: 0.7893 - accuracy: 0.7224 - val_loss: 0.7318 - val_accuracy: 0.7360\n",
            "Epoch 3/5\n",
            "782/782 [==============================] - 61s 78ms/step - loss: 0.7656 - accuracy: 0.7301 - val_loss: 0.6667 - val_accuracy: 0.7490\n",
            "Epoch 4/5\n",
            "782/782 [==============================] - 63s 80ms/step - loss: 0.7439 - accuracy: 0.7394 - val_loss: 0.6883 - val_accuracy: 0.7565\n",
            "Epoch 5/5\n",
            "782/782 [==============================] - 62s 79ms/step - loss: 0.7096 - accuracy: 0.7509 - val_loss: 0.6209 - val_accuracy: 0.7825\n",
            "current x is:  0.2 and model acc is:  0.7804800271987915\n",
            "sparsity:  [0.2]\n",
            "accuracy list:  [0.7804800271987915]\n",
            "current x is:  0.30000000000000004\n",
            "Epoch 1/5\n",
            "782/782 [==============================] - 61s 74ms/step - loss: 0.7694 - accuracy: 0.7308 - val_loss: 0.6868 - val_accuracy: 0.7555\n",
            "Epoch 2/5\n",
            "782/782 [==============================] - 56s 72ms/step - loss: 0.7330 - accuracy: 0.7447 - val_loss: 0.6548 - val_accuracy: 0.7740\n",
            "Epoch 3/5\n",
            "782/782 [==============================] - 58s 74ms/step - loss: 0.7105 - accuracy: 0.7521 - val_loss: 0.6380 - val_accuracy: 0.7770\n",
            "Epoch 4/5\n",
            "782/782 [==============================] - 57s 73ms/step - loss: 0.6899 - accuracy: 0.7573 - val_loss: 0.6312 - val_accuracy: 0.7780\n",
            "Epoch 5/5\n",
            "782/782 [==============================] - 58s 74ms/step - loss: 0.6744 - accuracy: 0.7638 - val_loss: 0.6450 - val_accuracy: 0.7720\n",
            "Epoch 1/5\n",
            "782/782 [==============================] - 63s 78ms/step - loss: 0.7259 - accuracy: 0.7460 - val_loss: 0.7145 - val_accuracy: 0.7425\n",
            "Epoch 2/5\n",
            "782/782 [==============================] - 64s 82ms/step - loss: 0.6991 - accuracy: 0.7520 - val_loss: 0.5929 - val_accuracy: 0.7845\n",
            "Epoch 3/5\n",
            "782/782 [==============================] - 63s 81ms/step - loss: 0.6674 - accuracy: 0.7650 - val_loss: 0.6896 - val_accuracy: 0.7475\n",
            "Epoch 4/5\n",
            "782/782 [==============================] - 64s 82ms/step - loss: 0.6493 - accuracy: 0.7709 - val_loss: 0.5717 - val_accuracy: 0.7965\n",
            "Epoch 5/5\n",
            "782/782 [==============================] - 63s 80ms/step - loss: 0.6275 - accuracy: 0.7797 - val_loss: 0.6124 - val_accuracy: 0.7730\n",
            "current x is:  0.30000000000000004 and model acc is:  0.7808200120925903\n",
            "sparsity:  [0.2, 0.30000000000000004]\n",
            "accuracy list:  [0.7804800271987915, 0.7808200120925903]\n",
            "current x is:  0.4\n",
            "Epoch 1/5\n",
            "782/782 [==============================] - 59s 72ms/step - loss: 0.6418 - accuracy: 0.7753 - val_loss: 0.5601 - val_accuracy: 0.8110\n",
            "Epoch 2/5\n",
            "782/782 [==============================] - 59s 75ms/step - loss: 0.6177 - accuracy: 0.7842 - val_loss: 0.5550 - val_accuracy: 0.7980\n",
            "Epoch 3/5\n",
            "782/782 [==============================] - 56s 72ms/step - loss: 0.6018 - accuracy: 0.7894 - val_loss: 0.5227 - val_accuracy: 0.8120\n",
            "Epoch 4/5\n",
            "782/782 [==============================] - 56s 72ms/step - loss: 0.5801 - accuracy: 0.7966 - val_loss: 0.5696 - val_accuracy: 0.7950\n",
            "Epoch 5/5\n",
            "782/782 [==============================] - 57s 73ms/step - loss: 0.5705 - accuracy: 0.7996 - val_loss: 0.5341 - val_accuracy: 0.8095\n",
            "Epoch 1/5\n",
            "782/782 [==============================] - 64s 81ms/step - loss: 0.6609 - accuracy: 0.7672 - val_loss: 0.6705 - val_accuracy: 0.7530\n",
            "Epoch 2/5\n",
            "782/782 [==============================] - 64s 82ms/step - loss: 0.6265 - accuracy: 0.7792 - val_loss: 0.5265 - val_accuracy: 0.8120\n",
            "Epoch 3/5\n",
            "782/782 [==============================] - 61s 77ms/step - loss: 0.6066 - accuracy: 0.7853 - val_loss: 0.5265 - val_accuracy: 0.8155\n",
            "Epoch 4/5\n",
            "782/782 [==============================] - 64s 82ms/step - loss: 0.5852 - accuracy: 0.7940 - val_loss: 0.4766 - val_accuracy: 0.8425\n",
            "Epoch 5/5\n",
            "782/782 [==============================] - 60s 77ms/step - loss: 0.5720 - accuracy: 0.7982 - val_loss: 0.5010 - val_accuracy: 0.8225\n",
            "current x is:  0.4 and model acc is:  0.8275600075721741\n",
            "sparsity:  [0.2, 0.30000000000000004, 0.4]\n",
            "accuracy list:  [0.7804800271987915, 0.7808200120925903, 0.8275600075721741]\n",
            "current x is:  0.5\n",
            "Epoch 1/5\n",
            "782/782 [==============================] - 60s 72ms/step - loss: 0.5550 - accuracy: 0.8066 - val_loss: 0.4783 - val_accuracy: 0.8315\n",
            "Epoch 2/5\n",
            "782/782 [==============================] - 58s 74ms/step - loss: 0.5229 - accuracy: 0.8187 - val_loss: 0.4779 - val_accuracy: 0.8365\n",
            "Epoch 3/5\n",
            "782/782 [==============================] - 56s 72ms/step - loss: 0.5099 - accuracy: 0.8226 - val_loss: 0.4533 - val_accuracy: 0.8405\n",
            "Epoch 4/5\n",
            "782/782 [==============================] - 57s 73ms/step - loss: 0.4942 - accuracy: 0.8274 - val_loss: 0.4365 - val_accuracy: 0.8555\n",
            "Epoch 5/5\n",
            "782/782 [==============================] - 56s 72ms/step - loss: 0.4876 - accuracy: 0.8303 - val_loss: 0.4520 - val_accuracy: 0.8405\n",
            "Epoch 1/5\n",
            "782/782 [==============================] - 66s 82ms/step - loss: 0.6101 - accuracy: 0.7828 - val_loss: 0.5502 - val_accuracy: 0.8010\n",
            "Epoch 2/5\n",
            "782/782 [==============================] - 64s 81ms/step - loss: 0.5775 - accuracy: 0.7953 - val_loss: 0.5068 - val_accuracy: 0.8170\n",
            "Epoch 3/5\n",
            "782/782 [==============================] - 65s 83ms/step - loss: 0.5538 - accuracy: 0.8028 - val_loss: 0.5025 - val_accuracy: 0.8220\n",
            "Epoch 4/5\n",
            "782/782 [==============================] - 64s 82ms/step - loss: 0.5323 - accuracy: 0.8125 - val_loss: 0.5318 - val_accuracy: 0.8000\n",
            "Epoch 5/5\n",
            "782/782 [==============================] - 66s 84ms/step - loss: 0.5311 - accuracy: 0.8120 - val_loss: 0.4626 - val_accuracy: 0.8350\n",
            "current x is:  0.5 and model acc is:  0.8320000171661377\n",
            "sparsity:  [0.2, 0.30000000000000004, 0.4, 0.5]\n",
            "accuracy list:  [0.7804800271987915, 0.7808200120925903, 0.8275600075721741, 0.8320000171661377]\n",
            "current x is:  0.6\n",
            "Epoch 1/5\n",
            "782/782 [==============================] - 60s 73ms/step - loss: 0.4984 - accuracy: 0.8260 - val_loss: 0.4171 - val_accuracy: 0.8660\n",
            "Epoch 2/5\n",
            "782/782 [==============================] - 58s 74ms/step - loss: 0.4571 - accuracy: 0.8428 - val_loss: 0.3954 - val_accuracy: 0.8685\n",
            "Epoch 3/5\n",
            "782/782 [==============================] - 57s 72ms/step - loss: 0.4434 - accuracy: 0.8472 - val_loss: 0.3917 - val_accuracy: 0.8645\n",
            "Epoch 4/5\n",
            "782/782 [==============================] - 57s 73ms/step - loss: 0.4324 - accuracy: 0.8512 - val_loss: 0.4127 - val_accuracy: 0.8585\n",
            "Epoch 5/5\n",
            "782/782 [==============================] - 56s 72ms/step - loss: 0.4201 - accuracy: 0.8555 - val_loss: 0.3729 - val_accuracy: 0.8755\n",
            "Epoch 1/5\n",
            "782/782 [==============================] - 64s 80ms/step - loss: 0.5856 - accuracy: 0.7919 - val_loss: 0.4596 - val_accuracy: 0.8305\n",
            "Epoch 2/5\n",
            "782/782 [==============================] - 65s 83ms/step - loss: 0.5442 - accuracy: 0.8070 - val_loss: 0.4531 - val_accuracy: 0.8425\n",
            "Epoch 3/5\n",
            "782/782 [==============================] - 64s 81ms/step - loss: 0.5187 - accuracy: 0.8171 - val_loss: 0.5627 - val_accuracy: 0.7990\n",
            "Epoch 4/5\n",
            "782/782 [==============================] - 65s 83ms/step - loss: 0.5081 - accuracy: 0.8188 - val_loss: 0.4194 - val_accuracy: 0.8530\n",
            "Epoch 5/5\n",
            "782/782 [==============================] - 67s 85ms/step - loss: 0.4899 - accuracy: 0.8253 - val_loss: 0.4199 - val_accuracy: 0.8540\n",
            "current x is:  0.6 and model acc is:  0.8523600101470947\n",
            "sparsity:  [0.2, 0.30000000000000004, 0.4, 0.5, 0.6]\n",
            "accuracy list:  [0.7804800271987915, 0.7808200120925903, 0.8275600075721741, 0.8320000171661377, 0.8523600101470947]\n",
            "current x is:  0.7\n",
            "Epoch 1/5\n",
            "782/782 [==============================] - 60s 74ms/step - loss: 0.5346 - accuracy: 0.8093 - val_loss: 0.4394 - val_accuracy: 0.8430\n",
            "Epoch 2/5\n",
            "782/782 [==============================] - 58s 74ms/step - loss: 0.4611 - accuracy: 0.8371 - val_loss: 0.4036 - val_accuracy: 0.8575\n",
            "Epoch 3/5\n",
            "782/782 [==============================] - 58s 74ms/step - loss: 0.4385 - accuracy: 0.8471 - val_loss: 0.3975 - val_accuracy: 0.8635\n",
            "Epoch 4/5\n",
            "782/782 [==============================] - 58s 74ms/step - loss: 0.4260 - accuracy: 0.8510 - val_loss: 0.3847 - val_accuracy: 0.8660\n",
            "Epoch 5/5\n",
            "782/782 [==============================] - 58s 75ms/step - loss: 0.4134 - accuracy: 0.8570 - val_loss: 0.3802 - val_accuracy: 0.8730\n",
            "Epoch 1/5\n",
            "782/782 [==============================] - 64s 80ms/step - loss: 0.6075 - accuracy: 0.7834 - val_loss: 0.5365 - val_accuracy: 0.8075\n",
            "Epoch 2/5\n",
            "782/782 [==============================] - 63s 80ms/step - loss: 0.5486 - accuracy: 0.8044 - val_loss: 0.4783 - val_accuracy: 0.8265\n",
            "Epoch 3/5\n",
            "782/782 [==============================] - 64s 82ms/step - loss: 0.5209 - accuracy: 0.8143 - val_loss: 0.5256 - val_accuracy: 0.8050\n",
            "Epoch 4/5\n",
            "782/782 [==============================] - 64s 82ms/step - loss: 0.5096 - accuracy: 0.8177 - val_loss: 0.4345 - val_accuracy: 0.8385\n",
            "Epoch 5/5\n",
            "782/782 [==============================] - 64s 82ms/step - loss: 0.4948 - accuracy: 0.8222 - val_loss: 0.4694 - val_accuracy: 0.8420\n",
            "current x is:  0.7 and model acc is:  0.8290200233459473\n",
            "sparsity:  [0.2, 0.30000000000000004, 0.4, 0.5, 0.6, 0.7]\n",
            "accuracy list:  [0.7804800271987915, 0.7808200120925903, 0.8275600075721741, 0.8320000171661377, 0.8523600101470947, 0.8290200233459473]\n",
            "current x is:  0.7999999999999999\n",
            "Epoch 1/5\n",
            "782/782 [==============================] - 60s 72ms/step - loss: 0.7853 - accuracy: 0.7361 - val_loss: 0.6152 - val_accuracy: 0.7890\n",
            "Epoch 2/5\n",
            "782/782 [==============================] - 58s 74ms/step - loss: 0.6157 - accuracy: 0.7791 - val_loss: 0.5499 - val_accuracy: 0.7980\n",
            "Epoch 3/5\n",
            "782/782 [==============================] - 57s 73ms/step - loss: 0.5745 - accuracy: 0.7924 - val_loss: 0.5444 - val_accuracy: 0.8010\n",
            "Epoch 4/5\n",
            "782/782 [==============================] - 58s 74ms/step - loss: 0.5514 - accuracy: 0.8026 - val_loss: 0.4955 - val_accuracy: 0.8225\n",
            "Epoch 5/5\n",
            "782/782 [==============================] - 57s 73ms/step - loss: 0.5358 - accuracy: 0.8086 - val_loss: 0.4918 - val_accuracy: 0.8330\n",
            "Epoch 1/5\n",
            "782/782 [==============================] - 62s 77ms/step - loss: 0.7208 - accuracy: 0.7445 - val_loss: 0.5983 - val_accuracy: 0.7845\n",
            "Epoch 2/5\n",
            "782/782 [==============================] - 62s 80ms/step - loss: 0.6347 - accuracy: 0.7720 - val_loss: 0.5819 - val_accuracy: 0.7805\n",
            "Epoch 3/5\n",
            "782/782 [==============================] - 64s 82ms/step - loss: 0.5871 - accuracy: 0.7908 - val_loss: 0.5277 - val_accuracy: 0.8085\n",
            "Epoch 4/5\n",
            "782/782 [==============================] - 61s 78ms/step - loss: 0.5464 - accuracy: 0.8036 - val_loss: 0.5498 - val_accuracy: 0.7955\n",
            "Epoch 5/5\n",
            "782/782 [==============================] - 63s 80ms/step - loss: 0.5266 - accuracy: 0.8137 - val_loss: 0.4527 - val_accuracy: 0.8450\n",
            "current x is:  0.7999999999999999 and model acc is:  0.8263999819755554\n",
            "sparsity:  [0.2, 0.30000000000000004, 0.4, 0.5, 0.6, 0.7, 0.7999999999999999]\n",
            "accuracy list:  [0.7804800271987915, 0.7808200120925903, 0.8275600075721741, 0.8320000171661377, 0.8523600101470947, 0.8290200233459473, 0.8263999819755554]\n",
            "current x is:  0.8999999999999999\n",
            "Epoch 1/5\n",
            "782/782 [==============================] - 60s 73ms/step - loss: 1.1631 - accuracy: 0.6080 - val_loss: 0.9967 - val_accuracy: 0.6430\n",
            "Epoch 2/5\n",
            "782/782 [==============================] - 56s 72ms/step - loss: 1.0177 - accuracy: 0.6401 - val_loss: 0.9221 - val_accuracy: 0.6780\n",
            "Epoch 3/5\n",
            "782/782 [==============================] - 59s 76ms/step - loss: 0.9592 - accuracy: 0.6597 - val_loss: 0.8800 - val_accuracy: 0.6925\n",
            "Epoch 4/5\n",
            "782/782 [==============================] - 55s 71ms/step - loss: 0.9235 - accuracy: 0.6722 - val_loss: 0.8608 - val_accuracy: 0.6945\n",
            "Epoch 5/5\n",
            "782/782 [==============================] - 55s 70ms/step - loss: 0.8990 - accuracy: 0.6812 - val_loss: 0.8354 - val_accuracy: 0.7120\n",
            "Epoch 1/5\n",
            "782/782 [==============================] - 63s 79ms/step - loss: 0.9746 - accuracy: 0.6576 - val_loss: 0.8923 - val_accuracy: 0.6875\n",
            "Epoch 2/5\n",
            "782/782 [==============================] - 63s 81ms/step - loss: 0.8448 - accuracy: 0.7041 - val_loss: 0.7456 - val_accuracy: 0.7375\n",
            "Epoch 3/5\n",
            "782/782 [==============================] - 63s 80ms/step - loss: 0.7737 - accuracy: 0.7266 - val_loss: 0.7648 - val_accuracy: 0.7220\n",
            "Epoch 4/5\n",
            "782/782 [==============================] - 64s 82ms/step - loss: 0.7275 - accuracy: 0.7443 - val_loss: 0.6530 - val_accuracy: 0.7565\n",
            "Epoch 5/5\n",
            "782/782 [==============================] - 62s 80ms/step - loss: 0.6924 - accuracy: 0.7558 - val_loss: 0.6100 - val_accuracy: 0.7920\n",
            "current x is:  0.8999999999999999 and model acc is:  0.7818199992179871\n",
            "sparsity:  [0.2, 0.30000000000000004, 0.4, 0.5, 0.6, 0.7, 0.7999999999999999, 0.8999999999999999]\n",
            "accuracy list:  [0.7804800271987915, 0.7808200120925903, 0.8275600075721741, 0.8320000171661377, 0.8523600101470947, 0.8290200233459473, 0.8263999819755554, 0.7818199992179871]\n"
          ]
        }
      ]
    },
    {
      "cell_type": "code",
      "source": [
        "converter = tf.lite.TFLiteConverter.from_keras_model(model_for_export)\n",
        "converter.optimizations = [tf.lite.Optimize.DEFAULT]\n",
        "quantized_and_pruned_tflite_model = converter.convert()\n",
        "\n",
        "_, quantized_and_pruned_tflite_file = tempfile.mkstemp('.tflite')\n",
        "with open(quantized_and_pruned_tflite_file, 'wb') as f:\n",
        "  f.write(quantized_and_pruned_tflite_model)"
      ],
      "metadata": {
        "colab": {
          "base_uri": "https://localhost:8080/"
        },
        "id": "GTg8KW_GjfK1",
        "outputId": "b8572571-aa0c-452d-9deb-ed6e3e4503bf"
      },
      "execution_count": 70,
      "outputs": [
        {
          "output_type": "stream",
          "name": "stderr",
          "text": [
            "WARNING:absl:Found untraced functions such as _jit_compiled_convolution_op, _jit_compiled_convolution_op, _jit_compiled_convolution_op while saving (showing 3 of 3). These functions will not be directly callable after loading.\n"
          ]
        }
      ]
    },
    {
      "cell_type": "code",
      "source": [
        "#########################################\n",
        "##### Pruning + Quantization Result #####\n",
        "#########################################"
      ],
      "metadata": {
        "id": "WFbg8mQ6lk2B"
      },
      "execution_count": 71,
      "outputs": []
    },
    {
      "cell_type": "code",
      "source": [
        "compression_pq_ratio = [1/x for x in sparsity_pq]\n",
        "compression_pq_ratio"
      ],
      "metadata": {
        "colab": {
          "base_uri": "https://localhost:8080/"
        },
        "id": "IPueWNHHhOLQ",
        "outputId": "eff76ba9-6aba-42e9-e88c-9282d0248a52"
      },
      "execution_count": 72,
      "outputs": [
        {
          "output_type": "execute_result",
          "data": {
            "text/plain": [
              "[5.0,\n",
              " 3.333333333333333,\n",
              " 2.5,\n",
              " 2.0,\n",
              " 1.6666666666666667,\n",
              " 1.4285714285714286,\n",
              " 1.25,\n",
              " 1.1111111111111112]"
            ]
          },
          "metadata": {},
          "execution_count": 72
        }
      ]
    },
    {
      "cell_type": "code",
      "source": [
        "acc_pq"
      ],
      "metadata": {
        "id": "s7GVuNyWFzMA",
        "outputId": "693669f4-41d0-4652-ecfe-00ab41b44154",
        "colab": {
          "base_uri": "https://localhost:8080/"
        }
      },
      "execution_count": 73,
      "outputs": [
        {
          "output_type": "execute_result",
          "data": {
            "text/plain": [
              "[0.7804800271987915,\n",
              " 0.7808200120925903,\n",
              " 0.8275600075721741,\n",
              " 0.8320000171661377,\n",
              " 0.8523600101470947,\n",
              " 0.8290200233459473,\n",
              " 0.8263999819755554,\n",
              " 0.7818199992179871]"
            ]
          },
          "metadata": {},
          "execution_count": 73
        }
      ]
    },
    {
      "cell_type": "code",
      "source": [
        "# compression ratio vs accuracy graph\n",
        "import matplotlib.pyplot as plt\n",
        "\n",
        "fig, ax = plt.subplots()\n",
        "# plt.scatter(compression_rat, acc)\n",
        "ax.plot(compression_pq_ratio, acc_pq, linewidth=2.0)\n",
        "plt.xlabel('Compresion Ratio(Pruned + Quantization)')\n",
        "plt.ylabel('Accuracy')\n",
        "plt.title('Compresion Ratio(Pruned + Quantization) VS Accuracy')\n",
        "plt.show()"
      ],
      "metadata": {
        "colab": {
          "base_uri": "https://localhost:8080/",
          "height": 295
        },
        "id": "46peLtbOhON_",
        "outputId": "543c970b-99d5-432b-f1ba-5598c00028e3"
      },
      "execution_count": 74,
      "outputs": [
        {
          "output_type": "display_data",
          "data": {
            "text/plain": [
              "<Figure size 432x288 with 1 Axes>"
            ],
            "image/png": "[encoded data removed]"
          },
          "metadata": {
            "needs_background": "light"
          }
        }
      ]
    },
    {
      "cell_type": "code",
      "source": [
        "# accuracy results\n",
        "print('Baseline test accuracy:', baseline_model_accuracy) \n",
        "print('Pruned + Quantization test accuracy:', model_quant_prune_accuracy)"
      ],
      "metadata": {
        "colab": {
          "base_uri": "https://localhost:8080/"
        },
        "id": "18J3MhF2hOTF",
        "outputId": "3e6ca3af-a2b2-4f45-8f4f-91cb753071dd"
      },
      "execution_count": 75,
      "outputs": [
        {
          "output_type": "stream",
          "name": "stdout",
          "text": [
            "Baseline test accuracy: 0.599399983882904\n",
            "Pruned + Quantization test accuracy: 0.7818199992179871\n"
          ]
        }
      ]
    },
    {
      "cell_type": "code",
      "source": [
        "# compare model size\n",
        "print(\"Size of gzipped baseline Keras model: %.2f bytes\" % (get_gzipped_model_size(keras_file)))\n",
        "print(\"Size of gzipped pruned and quantized TFlite model: %.2f bytes\" % (get_gzipped_model_size(quantized_and_pruned_tflite_file)))"
      ],
      "metadata": {
        "colab": {
          "base_uri": "https://localhost:8080/"
        },
        "id": "B1dOY6GGhOY_",
        "outputId": "050b861e-14ac-4433-8b84-a4e400476c34"
      },
      "execution_count": 76,
      "outputs": [
        {
          "output_type": "stream",
          "name": "stdout",
          "text": [
            "Size of gzipped baseline Keras model: 346362.00 bytes\n",
            "Size of gzipped pruned and quantized TFlite model: 24468.00 bytes\n"
          ]
        }
      ]
    },
    {
      "cell_type": "code",
      "source": [
        "# confusion matrix for based model\n",
        "from sklearn.metrics import confusion_matrix\n",
        "import numpy as np\n",
        "test_predictions = model.predict(x_test)\n",
        "confusion = confusion_matrix(y_test, np.argmax(test_predictions,axis=1))\n",
        "confusion"
      ],
      "metadata": {
        "colab": {
          "base_uri": "https://localhost:8080/"
        },
        "id": "nshNE4_hhOat",
        "outputId": "635946a5-8323-4385-b293-688841fe5673"
      },
      "execution_count": 77,
      "outputs": [
        {
          "output_type": "stream",
          "name": "stdout",
          "text": [
            "313/313 [==============================] - 6s 19ms/step\n"
          ]
        },
        {
          "output_type": "execute_result",
          "data": {
            "text/plain": [
              "array([[694,  34,  55,  22,  16,   3,  12,  16, 101,  47],\n",
              "       [ 20, 785,   4,   8,   6,   3,  17,   7,  44, 106],\n",
              "       [ 78,  15, 465,  84, 123,  72,  65,  55,  26,  17],\n",
              "       [ 22,  19,  81, 407,  88, 161,  85,  61,  40,  36],\n",
              "       [ 36,   7,  82,  80, 579,  28,  73,  88,  16,  11],\n",
              "       [ 16,   9,  70, 187,  64, 497,  39,  94,  10,  14],\n",
              "       [ 14,   8,  34,  67,  62,  40, 724,  17,  15,  19],\n",
              "       [ 17,   7,  40,  62,  78,  63,  12, 677,  10,  34],\n",
              "       [ 83,  60,  13,  22,   6,   4,   5,   4, 772,  31],\n",
              "       [ 35, 136,  11,  21,   7,  12,  11,  22,  53, 692]])"
            ]
          },
          "metadata": {},
          "execution_count": 77
        }
      ]
    },
    {
      "cell_type": "code",
      "source": [
        "# confusion matrix for pruned+quantized model\n",
        "pq_test_predictions = model_quant_prune.predict(x_test)\n",
        "pq_confusion = confusion_matrix(y_test, np.argmax(pq_test_predictions,axis=1))\n",
        "pq_confusion"
      ],
      "metadata": {
        "colab": {
          "base_uri": "https://localhost:8080/"
        },
        "id": "TN-tW_D1lyVZ",
        "outputId": "ea7f3f1b-520f-46e7-db89-825da3c0c2e4"
      },
      "execution_count": 78,
      "outputs": [
        {
          "output_type": "stream",
          "name": "stdout",
          "text": [
            "313/313 [==============================] - 7s 21ms/step\n"
          ]
        },
        {
          "output_type": "execute_result",
          "data": {
            "text/plain": [
              "array([[737,  59,  45,  22,  23,   3,   6,  16,  55,  34],\n",
              "       [  9, 861,   6,   9,   4,   1,  13,   7,  17,  73],\n",
              "       [ 62,  16, 589,  70,  81,  37,  48,  64,  13,  20],\n",
              "       [ 27,  22,  87, 489,  85,  96,  56,  69,  25,  44],\n",
              "       [ 28,  11,  90,  78, 591,  24,  43, 115,  15,   5],\n",
              "       [ 16,  10,  77, 250,  49, 438,  30, 100,  13,  17],\n",
              "       [  8,  17,  53,  79,  54,  20, 721,  20,   8,  20],\n",
              "       [ 14,  12,  46,  39,  54,  32,   7, 764,   5,  27],\n",
              "       [ 82,  70,  16,  12,   3,   0,   4,  10, 775,  28],\n",
              "       [ 29, 163,  12,  18,  13,   4,   6,  17,  25, 713]])"
            ]
          },
          "metadata": {},
          "execution_count": 78
        }
      ]
    },
    {
      "cell_type": "code",
      "source": [],
      "metadata": {
        "id": "2ib1aHwYmEV7"
      },
      "execution_count": 78,
      "outputs": []
    }
  ],
  "metadata": {
    "colab": {
      "provenance": []
    },
    "kernelspec": {
      "display_name": "Python 3",
      "name": "python3"
    },
    "language_info": {
      "name": "python"
    }
  },
  "nbformat": 4,
  "nbformat_minor": 0
}